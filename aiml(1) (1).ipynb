{
  "nbformat": 4,
  "nbformat_minor": 0,
  "metadata": {
    "colab": {
      "provenance": []
    },
    "kernelspec": {
      "name": "python3",
      "display_name": "Python 3"
    },
    "language_info": {
      "name": "python"
    }
  },
  "cells": [
    {
      "cell_type": "code",
      "execution_count": 1,
      "metadata": {
        "colab": {
          "base_uri": "https://localhost:8080/",
          "height": 0
        },
        "id": "jG6D01_0looS",
        "outputId": "08d97396-7c00-47d3-f04a-1b7b0278fd43"
      },
      "outputs": [
        {
          "output_type": "stream",
          "name": "stdout",
          "text": [
            "                   STATE_UT_NAME        DISTRICT    JAN   FEB    MAR    APR  \\\n",
            "0    ANDAMAN And NICOBAR ISLANDS         NICOBAR  107.3  57.9   65.2  117.0   \n",
            "1    ANDAMAN And NICOBAR ISLANDS   SOUTH ANDAMAN   43.7  26.0   18.6   90.5   \n",
            "2    ANDAMAN And NICOBAR ISLANDS   N & M ANDAMAN   32.7  15.9    8.6   53.4   \n",
            "3              ARUNACHAL PRADESH           LOHIT   42.2  80.8  176.4  358.5   \n",
            "4              ARUNACHAL PRADESH      EAST SIANG   33.3  79.5  105.9  216.5   \n",
            "..                           ...             ...    ...   ...    ...    ...   \n",
            "636                       KERALA          IDUKKI   13.4  22.1   43.6  150.4   \n",
            "637                       KERALA        KASARGOD    2.3   1.0    8.4   46.9   \n",
            "638                       KERALA  PATHANAMTHITTA   19.8  45.2   73.9  184.9   \n",
            "639                       KERALA         WAYANAD    4.8   8.3   17.5   83.3   \n",
            "640                  LAKSHADWEEP     LAKSHADWEEP   20.8  14.7   11.8   48.9   \n",
            "\n",
            "       MAY    JUN     JUL    AUG    SEP    OCT    NOV    DEC  ANNUAL  Jan-Feb  \\\n",
            "0    358.5  295.5   285.0  271.9  354.8  326.0  315.2  250.9  2805.2    165.2   \n",
            "1    374.4  457.2   421.3  423.1  455.6  301.2  275.8  128.3  3015.7     69.7   \n",
            "2    343.6  503.3   465.4  460.9  454.8  276.1  198.6  100.0  2913.3     48.6   \n",
            "3    306.4  447.0   660.1  427.8  313.6  167.1   34.1   29.8  3043.8    123.0   \n",
            "4    323.0  738.3   990.9  711.2  568.0  206.9   29.5   31.7  4034.7    112.8   \n",
            "..     ...    ...     ...    ...    ...    ...    ...    ...     ...      ...   \n",
            "636  232.6  651.6   788.9  527.3  308.4  343.2  172.9   48.1  3302.5     35.5   \n",
            "637  217.6  999.6  1108.5  636.3  263.1  234.9   84.6   18.4  3621.6      3.3   \n",
            "638  294.7  556.9   539.9  352.7  266.2  359.4  213.5   51.3  2958.4     65.0   \n",
            "639  174.6  698.1  1110.4  592.9  230.7  213.1   93.6   25.8  3253.1     13.1   \n",
            "640  171.7  330.2   287.7  217.5  163.1  157.1  117.7   58.8  1600.0     35.5   \n",
            "\n",
            "     Mar-May  Jun-Sep  Oct-Dec  \n",
            "0      540.7   1207.2    892.1  \n",
            "1      483.5   1757.2    705.3  \n",
            "2      405.6   1884.4    574.7  \n",
            "3      841.3   1848.5    231.0  \n",
            "4      645.4   3008.4    268.1  \n",
            "..       ...      ...      ...  \n",
            "636    426.6   2276.2    564.2  \n",
            "637    272.9   3007.5    337.9  \n",
            "638    553.5   1715.7    624.2  \n",
            "639    275.4   2632.1    332.5  \n",
            "640    232.4    998.5    333.6  \n",
            "\n",
            "[641 rows x 19 columns]\n"
          ]
        }
      ],
      "source": [
        "import pandas as pd\n",
        "d=pd.read_csv('/content/district.csv')\n",
        "print(d)"
      ]
    },
    {
      "cell_type": "code",
      "source": [
        "y=d['ANNUAL']\n",
        "print(y)\n"
      ],
      "metadata": {
        "id": "GQNyhZ8Hnb7T",
        "colab": {
          "base_uri": "https://localhost:8080/",
          "height": 0
        },
        "outputId": "114f0184-5487-436f-fcee-d8ba912f48f1"
      },
      "execution_count": 2,
      "outputs": [
        {
          "output_type": "stream",
          "name": "stdout",
          "text": [
            "0      2805.2\n",
            "1      3015.7\n",
            "2      2913.3\n",
            "3      3043.8\n",
            "4      4034.7\n",
            "        ...  \n",
            "636    3302.5\n",
            "637    3621.6\n",
            "638    2958.4\n",
            "639    3253.1\n",
            "640    1600.0\n",
            "Name: ANNUAL, Length: 641, dtype: float64\n"
          ]
        }
      ]
    },
    {
      "cell_type": "code",
      "source": [
        "x=d.drop(columns=['ANNUAL'])\n",
        "print(x)\n",
        "x=x.drop(columns=['STATE_UT_NAME'])"
      ],
      "metadata": {
        "id": "YhxFlv_bngNr",
        "colab": {
          "base_uri": "https://localhost:8080/",
          "height": 0
        },
        "outputId": "fb3c3399-9d9f-4182-ec28-4532f1f8f44b"
      },
      "execution_count": 3,
      "outputs": [
        {
          "output_type": "stream",
          "name": "stdout",
          "text": [
            "                   STATE_UT_NAME        DISTRICT    JAN   FEB    MAR    APR  \\\n",
            "0    ANDAMAN And NICOBAR ISLANDS         NICOBAR  107.3  57.9   65.2  117.0   \n",
            "1    ANDAMAN And NICOBAR ISLANDS   SOUTH ANDAMAN   43.7  26.0   18.6   90.5   \n",
            "2    ANDAMAN And NICOBAR ISLANDS   N & M ANDAMAN   32.7  15.9    8.6   53.4   \n",
            "3              ARUNACHAL PRADESH           LOHIT   42.2  80.8  176.4  358.5   \n",
            "4              ARUNACHAL PRADESH      EAST SIANG   33.3  79.5  105.9  216.5   \n",
            "..                           ...             ...    ...   ...    ...    ...   \n",
            "636                       KERALA          IDUKKI   13.4  22.1   43.6  150.4   \n",
            "637                       KERALA        KASARGOD    2.3   1.0    8.4   46.9   \n",
            "638                       KERALA  PATHANAMTHITTA   19.8  45.2   73.9  184.9   \n",
            "639                       KERALA         WAYANAD    4.8   8.3   17.5   83.3   \n",
            "640                  LAKSHADWEEP     LAKSHADWEEP   20.8  14.7   11.8   48.9   \n",
            "\n",
            "       MAY    JUN     JUL    AUG    SEP    OCT    NOV    DEC  Jan-Feb  \\\n",
            "0    358.5  295.5   285.0  271.9  354.8  326.0  315.2  250.9    165.2   \n",
            "1    374.4  457.2   421.3  423.1  455.6  301.2  275.8  128.3     69.7   \n",
            "2    343.6  503.3   465.4  460.9  454.8  276.1  198.6  100.0     48.6   \n",
            "3    306.4  447.0   660.1  427.8  313.6  167.1   34.1   29.8    123.0   \n",
            "4    323.0  738.3   990.9  711.2  568.0  206.9   29.5   31.7    112.8   \n",
            "..     ...    ...     ...    ...    ...    ...    ...    ...      ...   \n",
            "636  232.6  651.6   788.9  527.3  308.4  343.2  172.9   48.1     35.5   \n",
            "637  217.6  999.6  1108.5  636.3  263.1  234.9   84.6   18.4      3.3   \n",
            "638  294.7  556.9   539.9  352.7  266.2  359.4  213.5   51.3     65.0   \n",
            "639  174.6  698.1  1110.4  592.9  230.7  213.1   93.6   25.8     13.1   \n",
            "640  171.7  330.2   287.7  217.5  163.1  157.1  117.7   58.8     35.5   \n",
            "\n",
            "     Mar-May  Jun-Sep  Oct-Dec  \n",
            "0      540.7   1207.2    892.1  \n",
            "1      483.5   1757.2    705.3  \n",
            "2      405.6   1884.4    574.7  \n",
            "3      841.3   1848.5    231.0  \n",
            "4      645.4   3008.4    268.1  \n",
            "..       ...      ...      ...  \n",
            "636    426.6   2276.2    564.2  \n",
            "637    272.9   3007.5    337.9  \n",
            "638    553.5   1715.7    624.2  \n",
            "639    275.4   2632.1    332.5  \n",
            "640    232.4    998.5    333.6  \n",
            "\n",
            "[641 rows x 18 columns]\n"
          ]
        }
      ]
    },
    {
      "cell_type": "code",
      "source": [
        "x=x.drop(columns=['DISTRICT'])\n",
        "print(x)"
      ],
      "metadata": {
        "id": "XUxZPm2Injil",
        "colab": {
          "base_uri": "https://localhost:8080/",
          "height": 0
        },
        "outputId": "dc60b6ca-27a1-4c8f-962d-902cea332850"
      },
      "execution_count": 4,
      "outputs": [
        {
          "output_type": "stream",
          "name": "stdout",
          "text": [
            "       JAN   FEB    MAR    APR    MAY    JUN     JUL    AUG    SEP    OCT  \\\n",
            "0    107.3  57.9   65.2  117.0  358.5  295.5   285.0  271.9  354.8  326.0   \n",
            "1     43.7  26.0   18.6   90.5  374.4  457.2   421.3  423.1  455.6  301.2   \n",
            "2     32.7  15.9    8.6   53.4  343.6  503.3   465.4  460.9  454.8  276.1   \n",
            "3     42.2  80.8  176.4  358.5  306.4  447.0   660.1  427.8  313.6  167.1   \n",
            "4     33.3  79.5  105.9  216.5  323.0  738.3   990.9  711.2  568.0  206.9   \n",
            "..     ...   ...    ...    ...    ...    ...     ...    ...    ...    ...   \n",
            "636   13.4  22.1   43.6  150.4  232.6  651.6   788.9  527.3  308.4  343.2   \n",
            "637    2.3   1.0    8.4   46.9  217.6  999.6  1108.5  636.3  263.1  234.9   \n",
            "638   19.8  45.2   73.9  184.9  294.7  556.9   539.9  352.7  266.2  359.4   \n",
            "639    4.8   8.3   17.5   83.3  174.6  698.1  1110.4  592.9  230.7  213.1   \n",
            "640   20.8  14.7   11.8   48.9  171.7  330.2   287.7  217.5  163.1  157.1   \n",
            "\n",
            "       NOV    DEC  Jan-Feb  Mar-May  Jun-Sep  Oct-Dec  \n",
            "0    315.2  250.9    165.2    540.7   1207.2    892.1  \n",
            "1    275.8  128.3     69.7    483.5   1757.2    705.3  \n",
            "2    198.6  100.0     48.6    405.6   1884.4    574.7  \n",
            "3     34.1   29.8    123.0    841.3   1848.5    231.0  \n",
            "4     29.5   31.7    112.8    645.4   3008.4    268.1  \n",
            "..     ...    ...      ...      ...      ...      ...  \n",
            "636  172.9   48.1     35.5    426.6   2276.2    564.2  \n",
            "637   84.6   18.4      3.3    272.9   3007.5    337.9  \n",
            "638  213.5   51.3     65.0    553.5   1715.7    624.2  \n",
            "639   93.6   25.8     13.1    275.4   2632.1    332.5  \n",
            "640  117.7   58.8     35.5    232.4    998.5    333.6  \n",
            "\n",
            "[641 rows x 16 columns]\n"
          ]
        }
      ]
    },
    {
      "cell_type": "code",
      "source": [
        "print(x)\n",
        "print(y)"
      ],
      "metadata": {
        "id": "-rSKbBZnnm2i",
        "colab": {
          "base_uri": "https://localhost:8080/",
          "height": 0
        },
        "outputId": "c0aec391-87ff-4666-a15f-78e6e0dec27d"
      },
      "execution_count": 5,
      "outputs": [
        {
          "output_type": "stream",
          "name": "stdout",
          "text": [
            "       JAN   FEB    MAR    APR    MAY    JUN     JUL    AUG    SEP    OCT  \\\n",
            "0    107.3  57.9   65.2  117.0  358.5  295.5   285.0  271.9  354.8  326.0   \n",
            "1     43.7  26.0   18.6   90.5  374.4  457.2   421.3  423.1  455.6  301.2   \n",
            "2     32.7  15.9    8.6   53.4  343.6  503.3   465.4  460.9  454.8  276.1   \n",
            "3     42.2  80.8  176.4  358.5  306.4  447.0   660.1  427.8  313.6  167.1   \n",
            "4     33.3  79.5  105.9  216.5  323.0  738.3   990.9  711.2  568.0  206.9   \n",
            "..     ...   ...    ...    ...    ...    ...     ...    ...    ...    ...   \n",
            "636   13.4  22.1   43.6  150.4  232.6  651.6   788.9  527.3  308.4  343.2   \n",
            "637    2.3   1.0    8.4   46.9  217.6  999.6  1108.5  636.3  263.1  234.9   \n",
            "638   19.8  45.2   73.9  184.9  294.7  556.9   539.9  352.7  266.2  359.4   \n",
            "639    4.8   8.3   17.5   83.3  174.6  698.1  1110.4  592.9  230.7  213.1   \n",
            "640   20.8  14.7   11.8   48.9  171.7  330.2   287.7  217.5  163.1  157.1   \n",
            "\n",
            "       NOV    DEC  Jan-Feb  Mar-May  Jun-Sep  Oct-Dec  \n",
            "0    315.2  250.9    165.2    540.7   1207.2    892.1  \n",
            "1    275.8  128.3     69.7    483.5   1757.2    705.3  \n",
            "2    198.6  100.0     48.6    405.6   1884.4    574.7  \n",
            "3     34.1   29.8    123.0    841.3   1848.5    231.0  \n",
            "4     29.5   31.7    112.8    645.4   3008.4    268.1  \n",
            "..     ...    ...      ...      ...      ...      ...  \n",
            "636  172.9   48.1     35.5    426.6   2276.2    564.2  \n",
            "637   84.6   18.4      3.3    272.9   3007.5    337.9  \n",
            "638  213.5   51.3     65.0    553.5   1715.7    624.2  \n",
            "639   93.6   25.8     13.1    275.4   2632.1    332.5  \n",
            "640  117.7   58.8     35.5    232.4    998.5    333.6  \n",
            "\n",
            "[641 rows x 16 columns]\n",
            "0      2805.2\n",
            "1      3015.7\n",
            "2      2913.3\n",
            "3      3043.8\n",
            "4      4034.7\n",
            "        ...  \n",
            "636    3302.5\n",
            "637    3621.6\n",
            "638    2958.4\n",
            "639    3253.1\n",
            "640    1600.0\n",
            "Name: ANNUAL, Length: 641, dtype: float64\n"
          ]
        }
      ]
    },
    {
      "cell_type": "code",
      "source": [
        "from sklearn.model_selection import train_test_split"
      ],
      "metadata": {
        "id": "0QREiaZAnqIy"
      },
      "execution_count": 6,
      "outputs": []
    },
    {
      "cell_type": "code",
      "source": [
        "print(x.shape)\n",
        "x_train,x_test,y_train,y_test=train_test_split(x,y,random_state=True,test_size=0.20)"
      ],
      "metadata": {
        "id": "ERk43MmcntVK",
        "colab": {
          "base_uri": "https://localhost:8080/",
          "height": 0
        },
        "outputId": "88592e10-1bd1-4b79-e496-d41d88b2beea"
      },
      "execution_count": 7,
      "outputs": [
        {
          "output_type": "stream",
          "name": "stdout",
          "text": [
            "(641, 16)\n"
          ]
        }
      ]
    },
    {
      "cell_type": "code",
      "source": [
        "from sklearn.linear_model import LinearRegression"
      ],
      "metadata": {
        "id": "nsKgqyo6nwHk"
      },
      "execution_count": 8,
      "outputs": []
    },
    {
      "cell_type": "code",
      "source": [
        "lr=LinearRegression()"
      ],
      "metadata": {
        "id": "BWQRp3Hon0HO"
      },
      "execution_count": 9,
      "outputs": []
    },
    {
      "cell_type": "code",
      "source": [
        "mm=lr.fit(x_train,y_train)"
      ],
      "metadata": {
        "id": "YkAQIEGzn3AA"
      },
      "execution_count": 10,
      "outputs": []
    },
    {
      "cell_type": "code",
      "source": [
        "yp=mm.predict(x_test)"
      ],
      "metadata": {
        "id": "q9AbTDOIn5mc"
      },
      "execution_count": 11,
      "outputs": []
    },
    {
      "cell_type": "code",
      "source": [
        "print(yp)"
      ],
      "metadata": {
        "id": "VoLYqk1Gn8FN",
        "colab": {
          "base_uri": "https://localhost:8080/",
          "height": 0
        },
        "outputId": "13c332b6-d222-4f49-d0b4-0cc1e3bf16e4"
      },
      "execution_count": 12,
      "outputs": [
        {
          "output_type": "stream",
          "name": "stdout",
          "text": [
            "[1233.9 1223.4 1327.9 1057.6 2641.8  646.5  961.1 1070.6  485.7 1122.9\n",
            " 1029.6 3470.6 1209.3  308.1 2958.4  498.  2814.4 1796.5 1068.5  646.1\n",
            " 2440.7 1973.9 1081.4 2859.3 1293.1 3468.3  898.2  992.9 1235.7 1535.5\n",
            " 3094.5  966.7  793.4  449.2  747.1  544.  1803.2  818.   508.1 3218.7\n",
            "  746.9 2480.6  839.2 1336.5  460.6 1533.5 6379.9 1003.3  837.  1087.7\n",
            " 2127.5  622.8 1123.6  685.6 1366.2 1680.7 1481.6  788.4  777.  2512.6\n",
            "  992.2  747.1 1336.5  388.8  863.6 2805.2 1416.2  708.4 1293.3  902.6\n",
            "  974.9  747.1 1474.3  613.9  449.4  700.4 2731.1 1921.1  807.8 2123.9\n",
            " 1528.2  655.  1091.6 1618.3 3302.5  572.  1146.8 1385.5 1148.6 1109.9\n",
            " 2374.1  886.1 2116.9  818.7  897.4 2098.  1005.6  419.5  714.4 1363.3\n",
            " 1448.3  936.2 1155.4 1062.7  871.5  720.  1008.4  455.6 1192.2 1191.5\n",
            " 2814.4  986.3  963.9  252.9  850.1 1229.  1104.7  301.6 1474.1 3399.4\n",
            " 1010.8 1504.4 1530.9 1392.7 1584.9 1462.1  692.7 2556.6 1206.7]\n"
          ]
        }
      ]
    },
    {
      "cell_type": "code",
      "source": [
        "from sklearn.metrics import mean_squared_error\n",
        "print(mean_squared_error(yp,y_test))"
      ],
      "metadata": {
        "id": "ZoDT8Qdsn-1m",
        "colab": {
          "base_uri": "https://localhost:8080/",
          "height": 0
        },
        "outputId": "67b7e9de-dcff-4af4-a508-d809d4d21e36"
      },
      "execution_count": 13,
      "outputs": [
        {
          "output_type": "stream",
          "name": "stdout",
          "text": [
            "2.862281872213113e-25\n"
          ]
        }
      ]
    },
    {
      "cell_type": "code",
      "source": [
        "from sklearn.metrics import mean_absolute_error\n",
        "print(mean_absolute_error(yp,y_test))"
      ],
      "metadata": {
        "id": "Hc0gl8u-oW_A",
        "colab": {
          "base_uri": "https://localhost:8080/",
          "height": 0
        },
        "outputId": "c026bca3-12c9-4fc8-a9a5-234ca030553f"
      },
      "execution_count": 14,
      "outputs": [
        {
          "output_type": "stream",
          "name": "stdout",
          "text": [
            "3.615505827542091e-13\n"
          ]
        }
      ]
    },
    {
      "cell_type": "code",
      "source": [
        "mse = mean_squared_error(y_test, yp)\n",
        "print(\"Mean Squared Error:\", mse)"
      ],
      "metadata": {
        "id": "07t_Pf35obZP",
        "colab": {
          "base_uri": "https://localhost:8080/",
          "height": 0
        },
        "outputId": "c8bd9a26-38e4-41c8-b411-e57d9d7eca15"
      },
      "execution_count": 15,
      "outputs": [
        {
          "output_type": "stream",
          "name": "stdout",
          "text": [
            "Mean Squared Error: 2.862281872213113e-25\n"
          ]
        }
      ]
    },
    {
      "cell_type": "code",
      "source": [
        "mae = mean_absolute_error(y_test, yp)\n",
        "print(\"Mean Absolute Error:\", mae)"
      ],
      "metadata": {
        "id": "zsEa-Iq7oevx",
        "colab": {
          "base_uri": "https://localhost:8080/",
          "height": 0
        },
        "outputId": "b00ff83e-2e6d-4e7a-91a2-c3207e471b0f"
      },
      "execution_count": 16,
      "outputs": [
        {
          "output_type": "stream",
          "name": "stdout",
          "text": [
            "Mean Absolute Error: 3.615505827542091e-13\n"
          ]
        }
      ]
    },
    {
      "cell_type": "code",
      "source": [
        "from sklearn.tree import DecisionTreeRegressor"
      ],
      "metadata": {
        "id": "MypukxUSokOy"
      },
      "execution_count": 17,
      "outputs": []
    },
    {
      "cell_type": "code",
      "source": [
        "dt = DecisionTreeRegressor()"
      ],
      "metadata": {
        "id": "mSParBeYomfs"
      },
      "execution_count": 18,
      "outputs": []
    },
    {
      "cell_type": "code",
      "source": [
        "dt.fit(x_train,y_train)"
      ],
      "metadata": {
        "id": "ajFN0qhEoo7z",
        "colab": {
          "base_uri": "https://localhost:8080/",
          "height": 74
        },
        "outputId": "7565213c-9154-4f36-b35b-a37827e7056d"
      },
      "execution_count": 19,
      "outputs": [
        {
          "output_type": "execute_result",
          "data": {
            "text/plain": [
              "DecisionTreeRegressor()"
            ],
            "text/html": [
              "<style>#sk-container-id-1 {color: black;background-color: white;}#sk-container-id-1 pre{padding: 0;}#sk-container-id-1 div.sk-toggleable {background-color: white;}#sk-container-id-1 label.sk-toggleable__label {cursor: pointer;display: block;width: 100%;margin-bottom: 0;padding: 0.3em;box-sizing: border-box;text-align: center;}#sk-container-id-1 label.sk-toggleable__label-arrow:before {content: \"▸\";float: left;margin-right: 0.25em;color: #696969;}#sk-container-id-1 label.sk-toggleable__label-arrow:hover:before {color: black;}#sk-container-id-1 div.sk-estimator:hover label.sk-toggleable__label-arrow:before {color: black;}#sk-container-id-1 div.sk-toggleable__content {max-height: 0;max-width: 0;overflow: hidden;text-align: left;background-color: #f0f8ff;}#sk-container-id-1 div.sk-toggleable__content pre {margin: 0.2em;color: black;border-radius: 0.25em;background-color: #f0f8ff;}#sk-container-id-1 input.sk-toggleable__control:checked~div.sk-toggleable__content {max-height: 200px;max-width: 100%;overflow: auto;}#sk-container-id-1 input.sk-toggleable__control:checked~label.sk-toggleable__label-arrow:before {content: \"▾\";}#sk-container-id-1 div.sk-estimator input.sk-toggleable__control:checked~label.sk-toggleable__label {background-color: #d4ebff;}#sk-container-id-1 div.sk-label input.sk-toggleable__control:checked~label.sk-toggleable__label {background-color: #d4ebff;}#sk-container-id-1 input.sk-hidden--visually {border: 0;clip: rect(1px 1px 1px 1px);clip: rect(1px, 1px, 1px, 1px);height: 1px;margin: -1px;overflow: hidden;padding: 0;position: absolute;width: 1px;}#sk-container-id-1 div.sk-estimator {font-family: monospace;background-color: #f0f8ff;border: 1px dotted black;border-radius: 0.25em;box-sizing: border-box;margin-bottom: 0.5em;}#sk-container-id-1 div.sk-estimator:hover {background-color: #d4ebff;}#sk-container-id-1 div.sk-parallel-item::after {content: \"\";width: 100%;border-bottom: 1px solid gray;flex-grow: 1;}#sk-container-id-1 div.sk-label:hover label.sk-toggleable__label {background-color: #d4ebff;}#sk-container-id-1 div.sk-serial::before {content: \"\";position: absolute;border-left: 1px solid gray;box-sizing: border-box;top: 0;bottom: 0;left: 50%;z-index: 0;}#sk-container-id-1 div.sk-serial {display: flex;flex-direction: column;align-items: center;background-color: white;padding-right: 0.2em;padding-left: 0.2em;position: relative;}#sk-container-id-1 div.sk-item {position: relative;z-index: 1;}#sk-container-id-1 div.sk-parallel {display: flex;align-items: stretch;justify-content: center;background-color: white;position: relative;}#sk-container-id-1 div.sk-item::before, #sk-container-id-1 div.sk-parallel-item::before {content: \"\";position: absolute;border-left: 1px solid gray;box-sizing: border-box;top: 0;bottom: 0;left: 50%;z-index: -1;}#sk-container-id-1 div.sk-parallel-item {display: flex;flex-direction: column;z-index: 1;position: relative;background-color: white;}#sk-container-id-1 div.sk-parallel-item:first-child::after {align-self: flex-end;width: 50%;}#sk-container-id-1 div.sk-parallel-item:last-child::after {align-self: flex-start;width: 50%;}#sk-container-id-1 div.sk-parallel-item:only-child::after {width: 0;}#sk-container-id-1 div.sk-dashed-wrapped {border: 1px dashed gray;margin: 0 0.4em 0.5em 0.4em;box-sizing: border-box;padding-bottom: 0.4em;background-color: white;}#sk-container-id-1 div.sk-label label {font-family: monospace;font-weight: bold;display: inline-block;line-height: 1.2em;}#sk-container-id-1 div.sk-label-container {text-align: center;}#sk-container-id-1 div.sk-container {/* jupyter's `normalize.less` sets `[hidden] { display: none; }` but bootstrap.min.css set `[hidden] { display: none !important; }` so we also need the `!important` here to be able to override the default hidden behavior on the sphinx rendered scikit-learn.org. See: https://github.com/scikit-learn/scikit-learn/issues/21755 */display: inline-block !important;position: relative;}#sk-container-id-1 div.sk-text-repr-fallback {display: none;}</style><div id=\"sk-container-id-1\" class=\"sk-top-container\"><div class=\"sk-text-repr-fallback\"><pre>DecisionTreeRegressor()</pre><b>In a Jupyter environment, please rerun this cell to show the HTML representation or trust the notebook. <br />On GitHub, the HTML representation is unable to render, please try loading this page with nbviewer.org.</b></div><div class=\"sk-container\" hidden><div class=\"sk-item\"><div class=\"sk-estimator sk-toggleable\"><input class=\"sk-toggleable__control sk-hidden--visually\" id=\"sk-estimator-id-1\" type=\"checkbox\" checked><label for=\"sk-estimator-id-1\" class=\"sk-toggleable__label sk-toggleable__label-arrow\">DecisionTreeRegressor</label><div class=\"sk-toggleable__content\"><pre>DecisionTreeRegressor()</pre></div></div></div></div></div>"
            ]
          },
          "metadata": {},
          "execution_count": 19
        }
      ]
    },
    {
      "cell_type": "code",
      "source": [
        "yp = dt.predict(x_test)"
      ],
      "metadata": {
        "id": "5S43d6_dosbe"
      },
      "execution_count": 20,
      "outputs": []
    },
    {
      "cell_type": "code",
      "source": [
        "mae = mean_absolute_error(y_test, yp)\n",
        "print(\"Mean Absolute Error:\", mae)"
      ],
      "metadata": {
        "id": "fNtyniyZowF3",
        "colab": {
          "base_uri": "https://localhost:8080/",
          "height": 0
        },
        "outputId": "53480496-06fa-4e51-acc6-098635cd2418"
      },
      "execution_count": 21,
      "outputs": [
        {
          "output_type": "stream",
          "name": "stdout",
          "text": [
            "Mean Absolute Error: 103.30930232558141\n"
          ]
        }
      ]
    },
    {
      "cell_type": "code",
      "source": [
        "mse = mean_squared_error(y_test, yp)\n",
        "print(\"Mean Squared Error:\", mse)"
      ],
      "metadata": {
        "id": "7RCE_YQno0o2",
        "colab": {
          "base_uri": "https://localhost:8080/",
          "height": 0
        },
        "outputId": "4976da00-7081-4860-e28b-10b89401ed11"
      },
      "execution_count": 22,
      "outputs": [
        {
          "output_type": "stream",
          "name": "stdout",
          "text": [
            "Mean Squared Error: 75919.50007751938\n"
          ]
        }
      ]
    },
    {
      "cell_type": "code",
      "source": [
        "from sklearn.metrics import mean_absolute_error\n",
        "print(mean_absolute_error(yp,y_test))"
      ],
      "metadata": {
        "id": "QeDCeojfo57y",
        "colab": {
          "base_uri": "https://localhost:8080/",
          "height": 0
        },
        "outputId": "dc8f8c60-f2fb-4f39-d565-b371b3ef37a3"
      },
      "execution_count": 23,
      "outputs": [
        {
          "output_type": "stream",
          "name": "stdout",
          "text": [
            "103.30930232558141\n"
          ]
        }
      ]
    },
    {
      "cell_type": "code",
      "source": [
        "from sklearn.metrics import mean_squared_error\n",
        "print(mean_squared_error(yp,y_test))"
      ],
      "metadata": {
        "id": "4nYlz1vLo8X1",
        "colab": {
          "base_uri": "https://localhost:8080/",
          "height": 0
        },
        "outputId": "06b36fa6-4871-47e8-9d48-f71004f4926d"
      },
      "execution_count": 24,
      "outputs": [
        {
          "output_type": "stream",
          "name": "stdout",
          "text": [
            "75919.50007751938\n"
          ]
        }
      ]
    },
    {
      "cell_type": "code",
      "source": [
        "from sklearn.tree import DecisionTreeRegressor\n",
        "model=DecisionTreeRegressor()\n",
        "model.fit(x_train,y_train)\n",
        "yp=model.predict(x_test)\n",
        "print(yp)\n",
        "from sklearn.metrics import mean_squared_error\n",
        "print(mean_squared_error(y_test,yp))\n",
        "from sklearn import tree\n",
        "tree.plot_tree(model,filled=True)"
      ],
      "metadata": {
        "id": "je7JIsG_pAGo",
        "colab": {
          "base_uri": "https://localhost:8080/",
          "height": 17600
        },
        "outputId": "3de0c398-b269-444a-aeaa-ff7fc481dad0"
      },
      "execution_count": 25,
      "outputs": [
        {
          "output_type": "stream",
          "name": "stdout",
          "text": [
            "[1146.8 1143.7 1293.1 1083.1 2575.3  731.1  979.8 1112.5  554.5 1120.\n",
            " 1015.7 3772.2 1160.1  268.6 2491.7  407.9 2814.4 2019.8 1095.9  621.1\n",
            " 2485.3 1997.1 1084.8 2859.3 1293.1 3443.7  887.4  949.6 1292.7 1625.7\n",
            " 3094.5 1003.2  902.1  415.6  747.1  554.5 1341.   820.1  554.5 3218.7\n",
            "  806.4 2557.6  791.7 1336.5  509.1 1533.5 6166.1  975.4  967.1 1084.8\n",
            " 2553.3  641.2 1090.7  721.7 1385.  2030.9 1533.5  731.1  791.9 2557.6\n",
            "  959.3  747.1 1336.5  394.1  903.6 2221.5 1292.7  716.2 1273.8  921.2\n",
            "  975.4  747.1 1472.   639.7  419.8  671.7 2741.4 2030.9  820.1 1743.7\n",
            " 1533.5  820.1 1139.6 1743.7 3063.1  554.5 1146.8 1397.  1148.6 1143.9\n",
            " 2374.1  883.  1743.5  969.6  885.9 2221.5  933.1  394.1  721.7 1482.8\n",
            " 1448.3  887.4 1196.  1058.3  805.9  656.3  975.4  415.6 1152.6 1196.\n",
            " 2814.4 1002.2  949.6  274.   816.3 1292.7 1107.   274.  1088.1 3399.4\n",
            "  968.1 1393.3 2030.9 1338.3 1660.7 1305.9  752.7 2582.2 1173.3]\n",
            "18154.314263565895\n"
          ]
        },
        {
          "output_type": "execute_result",
          "data": {
            "text/plain": [
              "[Text(0.7176672929898744, 0.9772727272727273, 'x[5] <= 372.45\\nsquared_error = 686458.553\\nsamples = 512\\nvalue = 1344.987'),\n",
              " Text(0.48335734397884744, 0.9318181818181818, 'x[14] <= 954.1\\nsquared_error = 154738.636\\nsamples = 441\\nvalue = 1073.055'),\n",
              " Text(0.18728138466792474, 0.8863636363636364, 'x[9] <= 24.0\\nsquared_error = 55951.954\\nsamples = 283\\nvalue = 851.129'),\n",
              " Text(0.055993690851735015, 0.8409090909090909, 'x[14] <= 507.0\\nsquared_error = 36249.362\\nsamples = 66\\nvalue = 588.702'),\n",
              " Text(0.016786840919333034, 0.7954545454545454, 'x[8] <= 29.4\\nsquared_error = 12837.215\\nsamples = 27\\nvalue = 405.404'),\n",
              " Text(0.003605227579990987, 0.75, 'x[7] <= 19.05\\nsquared_error = 2870.629\\nsamples = 3\\nvalue = 166.367'),\n",
              " Text(0.0018026137899954935, 0.7045454545454546, 'squared_error = 0.0\\nsamples = 1\\nvalue = 94.6'),\n",
              " Text(0.005407841369986481, 0.7045454545454546, 'x[5] <= 12.45\\nsquared_error = 443.103\\nsamples = 2\\nvalue = 202.25'),\n",
              " Text(0.003605227579990987, 0.6590909090909091, 'squared_error = 0.0\\nsamples = 1\\nvalue = 223.3'),\n",
              " Text(0.007210455159981974, 0.6590909090909091, 'squared_error = 0.0\\nsamples = 1\\nvalue = 181.2'),\n",
              " Text(0.02996845425867508, 0.75, 'x[7] <= 133.1\\nsquared_error = 6047.908\\nsamples = 24\\nvalue = 435.283'),\n",
              " Text(0.014420910319963948, 0.7045454545454546, 'x[9] <= 6.15\\nsquared_error = 3907.095\\nsamples = 13\\nvalue = 381.562'),\n",
              " Text(0.010815682739972961, 0.6590909090909091, 'x[11] <= 1.4\\nsquared_error = 7.29\\nsamples = 2\\nvalue = 271.3'),\n",
              " Text(0.009013068949977467, 0.6136363636363636, 'squared_error = 0.0\\nsamples = 1\\nvalue = 268.6'),\n",
              " Text(0.012618296529968454, 0.6136363636363636, 'squared_error = 0.0\\nsamples = 1\\nvalue = 274.0'),\n",
              " Text(0.018026137899954935, 0.6590909090909091, 'x[14] <= 196.75\\nsquared_error = 2003.772\\nsamples = 11\\nvalue = 401.609'),\n",
              " Text(0.01622352410995944, 0.6136363636363636, 'squared_error = 0.0\\nsamples = 1\\nvalue = 504.6'),\n",
              " Text(0.01982875168995043, 0.6136363636363636, 'x[7] <= 102.75\\nsquared_error = 1037.365\\nsamples = 10\\nvalue = 391.31'),\n",
              " Text(0.015322217214961695, 0.5681818181818182, 'x[10] <= 4.25\\nsquared_error = 642.602\\nsamples = 3\\nvalue = 349.233'),\n",
              " Text(0.013519603424966201, 0.5227272727272727, 'x[9] <= 11.15\\nsquared_error = 6.25\\nsamples = 2\\nvalue = 367.1'),\n",
              " Text(0.011716989634970707, 0.4772727272727273, 'squared_error = 0.0\\nsamples = 1\\nvalue = 369.6'),\n",
              " Text(0.015322217214961695, 0.4772727272727273, 'squared_error = 0.0\\nsamples = 1\\nvalue = 364.6'),\n",
              " Text(0.017124831004957188, 0.5227272727272727, 'squared_error = 0.0\\nsamples = 1\\nvalue = 313.5'),\n",
              " Text(0.02433528616493916, 0.5681818181818182, 'x[8] <= 63.9\\nsquared_error = 122.602\\nsamples = 7\\nvalue = 409.343'),\n",
              " Text(0.020730058584948176, 0.5227272727272727, 'x[15] <= 24.75\\nsquared_error = 24.332\\nsamples = 4\\nvalue = 400.725'),\n",
              " Text(0.01892744479495268, 0.4772727272727273, 'x[3] <= 5.85\\nsquared_error = 9.562\\nsamples = 3\\nvalue = 398.333'),\n",
              " Text(0.017124831004957188, 0.4318181818181818, 'squared_error = 0.0\\nsamples = 1\\nvalue = 394.1'),\n",
              " Text(0.020730058584948176, 0.4318181818181818, 'x[14] <= 318.45\\nsquared_error = 0.902\\nsamples = 2\\nvalue = 400.45'),\n",
              " Text(0.01892744479495268, 0.38636363636363635, 'squared_error = 0.0\\nsamples = 1\\nvalue = 399.5'),\n",
              " Text(0.02253267237494367, 0.38636363636363635, 'squared_error = -0.0\\nsamples = 1\\nvalue = 401.4'),\n",
              " Text(0.02253267237494367, 0.4772727272727273, 'squared_error = -0.0\\nsamples = 1\\nvalue = 407.9'),\n",
              " Text(0.02794051374493015, 0.5227272727272727, 'x[4] <= 8.55\\nsquared_error = 22.576\\nsamples = 3\\nvalue = 420.833'),\n",
              " Text(0.026137899954934655, 0.4772727272727273, 'squared_error = 0.0\\nsamples = 1\\nvalue = 427.1'),\n",
              " Text(0.029743127534925643, 0.4772727272727273, 'x[2] <= 14.15\\nsquared_error = 4.41\\nsamples = 2\\nvalue = 417.7'),\n",
              " Text(0.02794051374493015, 0.4318181818181818, 'squared_error = 0.0\\nsamples = 1\\nvalue = 419.8'),\n",
              " Text(0.031545741324921134, 0.4318181818181818, 'squared_error = -0.0\\nsamples = 1\\nvalue = 415.6'),\n",
              " Text(0.04551599819738621, 0.7045454545454546, 'x[14] <= 436.3\\nsquared_error = 1136.293\\nsamples = 11\\nvalue = 498.773'),\n",
              " Text(0.03965750337990086, 0.6590909090909091, 'x[5] <= 41.45\\nsquared_error = 231.702\\nsamples = 8\\nvalue = 480.0'),\n",
              " Text(0.03515096890491212, 0.6136363636363636, 'x[2] <= 11.05\\nsquared_error = 77.762\\nsamples = 3\\nvalue = 496.767'),\n",
              " Text(0.03334835511491663, 0.5681818181818182, 'x[2] <= 7.45\\nsquared_error = 2.56\\nsamples = 2\\nvalue = 490.6'),\n",
              " Text(0.031545741324921134, 0.5227272727272727, 'squared_error = 0.0\\nsamples = 1\\nvalue = 492.2'),\n",
              " Text(0.03515096890491212, 0.5227272727272727, 'squared_error = -0.0\\nsamples = 1\\nvalue = 489.0'),\n",
              " Text(0.036953582694907616, 0.5681818181818182, 'squared_error = 0.0\\nsamples = 1\\nvalue = 509.1'),\n",
              " Text(0.04416403785488959, 0.6136363636363636, 'x[11] <= 5.15\\nsquared_error = 54.19\\nsamples = 5\\nvalue = 469.94'),\n",
              " Text(0.040558810274898605, 0.5681818181818182, 'x[14] <= 393.25\\nsquared_error = 3.149\\nsamples = 3\\nvalue = 464.167'),\n",
              " Text(0.03875619648490311, 0.5227272727272727, 'squared_error = 0.0\\nsamples = 1\\nvalue = 466.5'),\n",
              " Text(0.0423614240648941, 0.5227272727272727, 'x[9] <= 10.2\\nsquared_error = 0.64\\nsamples = 2\\nvalue = 463.0'),\n",
              " Text(0.040558810274898605, 0.4772727272727273, 'squared_error = 0.0\\nsamples = 1\\nvalue = 462.2'),\n",
              " Text(0.04416403785488959, 0.4772727272727273, 'squared_error = 0.0\\nsamples = 1\\nvalue = 463.8'),\n",
              " Text(0.047769265434880574, 0.5681818181818182, 'x[11] <= 6.15\\nsquared_error = 5.76\\nsamples = 2\\nvalue = 478.6'),\n",
              " Text(0.04596665164488508, 0.5227272727272727, 'squared_error = 0.0\\nsamples = 1\\nvalue = 481.0'),\n",
              " Text(0.04957187922487607, 0.5227272727272727, 'squared_error = -0.0\\nsamples = 1\\nvalue = 476.2'),\n",
              " Text(0.05137449301487156, 0.6590909090909091, 'x[2] <= 1.9\\nsquared_error = 102.696\\nsamples = 3\\nvalue = 548.833'),\n",
              " Text(0.04957187922487607, 0.6136363636363636, 'squared_error = 0.0\\nsamples = 1\\nvalue = 534.6'),\n",
              " Text(0.05317710680486706, 0.6136363636363636, 'x[15] <= 30.85\\nsquared_error = 2.102\\nsamples = 2\\nvalue = 555.95'),\n",
              " Text(0.05137449301487156, 0.5681818181818182, 'squared_error = 0.0\\nsamples = 1\\nvalue = 554.5'),\n",
              " Text(0.05497972059486255, 0.5681818181818182, 'squared_error = -0.0\\nsamples = 1\\nvalue = 557.4'),\n",
              " Text(0.095200540784137, 0.7954545454545454, 'x[14] <= 722.05\\nsquared_error = 13094.331\\nsamples = 39\\nvalue = 715.6'),\n",
              " Text(0.08134294727354664, 0.75, 'x[14] <= 613.65\\nsquared_error = 4438.555\\nsamples = 33\\nvalue = 679.227'),\n",
              " Text(0.07165389815232087, 0.7045454545454546, 'x[3] <= 9.7\\nsquared_error = 2072.287\\nsamples = 19\\nvalue = 633.821'),\n",
              " Text(0.06489409643983776, 0.6590909090909091, 'x[13] <= 7.05\\nsquared_error = 1194.884\\nsamples = 15\\nvalue = 616.76'),\n",
              " Text(0.06038756196484903, 0.6136363636363636, 'x[5] <= 60.15\\nsquared_error = 455.782\\nsamples = 4\\nvalue = 573.85'),\n",
              " Text(0.05858494817485354, 0.5681818181818182, 'squared_error = 0.0\\nsamples = 1\\nvalue = 539.6'),\n",
              " Text(0.06219017575484453, 0.5681818181818182, 'x[13] <= 5.6\\nsquared_error = 86.349\\nsamples = 3\\nvalue = 585.267'),\n",
              " Text(0.06038756196484903, 0.5227272727272727, 'x[14] <= 538.9\\nsquared_error = 0.16\\nsamples = 2\\nvalue = 578.7'),\n",
              " Text(0.05858494817485354, 0.4772727272727273, 'squared_error = 0.0\\nsamples = 1\\nvalue = 578.3'),\n",
              " Text(0.06219017575484453, 0.4772727272727273, 'squared_error = -0.0\\nsamples = 1\\nvalue = 579.1'),\n",
              " Text(0.06399278954484001, 0.5227272727272727, 'squared_error = -0.0\\nsamples = 1\\nvalue = 598.4'),\n",
              " Text(0.0694006309148265, 0.6136363636363636, 'x[15] <= 20.25\\nsquared_error = 550.622\\nsamples = 11\\nvalue = 632.364'),\n",
              " Text(0.067598017124831, 0.5681818181818182, 'squared_error = 0.0\\nsamples = 1\\nvalue = 577.2'),\n",
              " Text(0.07120324470482199, 0.5681818181818182, 'x[6] <= 226.2\\nsquared_error = 270.952\\nsamples = 10\\nvalue = 637.88'),\n",
              " Text(0.0694006309148265, 0.5227272727272727, 'x[6] <= 194.25\\nsquared_error = 132.775\\nsamples = 9\\nvalue = 633.778'),\n",
              " Text(0.06579540333483551, 0.4772727272727273, 'x[10] <= 5.25\\nsquared_error = 6.202\\nsamples = 3\\nvalue = 621.067'),\n",
              " Text(0.06399278954484001, 0.4318181818181818, 'x[7] <= 216.85\\nsquared_error = 2.25\\nsamples = 2\\nvalue = 622.6'),\n",
              " Text(0.06219017575484453, 0.38636363636363635, 'squared_error = 0.0\\nsamples = 1\\nvalue = 624.1'),\n",
              " Text(0.06579540333483551, 0.38636363636363635, 'squared_error = -0.0\\nsamples = 1\\nvalue = 621.1'),\n",
              " Text(0.067598017124831, 0.4318181818181818, 'squared_error = 0.0\\nsamples = 1\\nvalue = 618.0'),\n",
              " Text(0.07300585849481749, 0.4772727272727273, 'x[10] <= 3.95\\nsquared_error = 74.882\\nsamples = 6\\nvalue = 640.133'),\n",
              " Text(0.07120324470482199, 0.4318181818181818, 'squared_error = 0.0\\nsamples = 1\\nvalue = 655.9'),\n",
              " Text(0.07480847228481298, 0.4318181818181818, 'x[7] <= 210.9\\nsquared_error = 30.198\\nsamples = 5\\nvalue = 636.98'),\n",
              " Text(0.07120324470482199, 0.38636363636363635, 'x[2] <= 9.35\\nsquared_error = 4.309\\nsamples = 3\\nvalue = 641.267'),\n",
              " Text(0.0694006309148265, 0.3409090909090909, 'x[15] <= 29.0\\nsquared_error = 0.01\\nsamples = 2\\nvalue = 639.8'),\n",
              " Text(0.067598017124831, 0.29545454545454547, 'squared_error = 0.0\\nsamples = 1\\nvalue = 639.7'),\n",
              " Text(0.07120324470482199, 0.29545454545454547, 'squared_error = 0.0\\nsamples = 1\\nvalue = 639.9'),\n",
              " Text(0.07300585849481749, 0.3409090909090909, 'squared_error = 0.0\\nsamples = 1\\nvalue = 644.2'),\n",
              " Text(0.07841369986480397, 0.38636363636363635, 'x[12] <= 14.2\\nsquared_error = 0.122\\nsamples = 2\\nvalue = 630.55'),\n",
              " Text(0.07661108607480847, 0.3409090909090909, 'squared_error = 0.0\\nsamples = 1\\nvalue = 630.2'),\n",
              " Text(0.08021631365479946, 0.3409090909090909, 'squared_error = 0.0\\nsamples = 1\\nvalue = 630.9'),\n",
              " Text(0.07300585849481749, 0.5227272727272727, 'squared_error = -0.0\\nsamples = 1\\nvalue = 674.8'),\n",
              " Text(0.07841369986480397, 0.6590909090909091, 'x[12] <= 52.65\\nsquared_error = 177.695\\nsamples = 4\\nvalue = 697.8'),\n",
              " Text(0.07661108607480847, 0.6136363636363636, 'x[14] <= 555.05\\nsquared_error = 35.287\\nsamples = 3\\nvalue = 690.7'),\n",
              " Text(0.07480847228481298, 0.5681818181818182, 'squared_error = 0.0\\nsamples = 1\\nvalue = 683.1'),\n",
              " Text(0.07841369986480397, 0.5681818181818182, 'x[5] <= 54.25\\nsquared_error = 9.61\\nsamples = 2\\nvalue = 694.5'),\n",
              " Text(0.07661108607480847, 0.5227272727272727, 'squared_error = 0.0\\nsamples = 1\\nvalue = 697.6'),\n",
              " Text(0.08021631365479946, 0.5227272727272727, 'squared_error = 0.0\\nsamples = 1\\nvalue = 691.4'),\n",
              " Text(0.08021631365479946, 0.6136363636363636, 'squared_error = 0.0\\nsamples = 1\\nvalue = 719.1'),\n",
              " Text(0.09103199639477241, 0.7045454545454546, 'x[9] <= 17.55\\nsquared_error = 1054.504\\nsamples = 14\\nvalue = 740.85'),\n",
              " Text(0.08562415502478594, 0.6590909090909091, 'x[4] <= 5.6\\nsquared_error = 133.307\\nsamples = 3\\nvalue = 693.2'),\n",
              " Text(0.08382154123479045, 0.6136363636363636, 'squared_error = 0.0\\nsamples = 1\\nvalue = 677.8'),\n",
              " Text(0.08742676881478144, 0.6136363636363636, 'x[7] <= 252.8\\nsquared_error = 22.09\\nsamples = 2\\nvalue = 700.9'),\n",
              " Text(0.08562415502478594, 0.5681818181818182, 'squared_error = 0.0\\nsamples = 1\\nvalue = 705.6'),\n",
              " Text(0.08922938260477693, 0.5681818181818182, 'squared_error = -0.0\\nsamples = 1\\nvalue = 696.2'),\n",
              " Text(0.0964398377647589, 0.6590909090909091, 'x[4] <= 21.95\\nsquared_error = 517.624\\nsamples = 11\\nvalue = 753.845'),\n",
              " Text(0.0946372239747634, 0.6136363636363636, 'x[8] <= 101.2\\nsquared_error = 106.714\\nsamples = 10\\nvalue = 747.36'),\n",
              " Text(0.09283461018476791, 0.5681818181818182, 'squared_error = 0.0\\nsamples = 1\\nvalue = 721.0'),\n",
              " Text(0.0964398377647589, 0.5681818181818182, 'x[7] <= 257.7\\nsquared_error = 32.788\\nsamples = 9\\nvalue = 750.289'),\n",
              " Text(0.0946372239747634, 0.5227272727272727, 'x[7] <= 234.4\\nsquared_error = 5.199\\nsamples = 8\\nvalue = 748.413'),\n",
              " Text(0.09283461018476791, 0.4772727272727273, 'x[5] <= 63.6\\nsquared_error = 0.122\\nsamples = 2\\nvalue = 752.35'),\n",
              " Text(0.09103199639477241, 0.4318181818181818, 'squared_error = 0.0\\nsamples = 1\\nvalue = 752.0'),\n",
              " Text(0.0946372239747634, 0.4318181818181818, 'squared_error = 0.0\\nsamples = 1\\nvalue = 752.7'),\n",
              " Text(0.0964398377647589, 0.4772727272727273, 'squared_error = -0.0\\nsamples = 6\\nvalue = 747.1'),\n",
              " Text(0.09824245155475439, 0.5227272727272727, 'squared_error = -0.0\\nsamples = 1\\nvalue = 765.3'),\n",
              " Text(0.09824245155475439, 0.6136363636363636, 'squared_error = -0.0\\nsamples = 1\\nvalue = 818.7'),\n",
              " Text(0.10905813429472735, 0.75, 'x[8] <= 161.3\\nsquared_error = 13404.729\\nsamples = 6\\nvalue = 915.65'),\n",
              " Text(0.10725552050473186, 0.7045454545454546, 'x[3] <= 2.05\\nsquared_error = 3106.594\\nsamples = 5\\nvalue = 869.14'),\n",
              " Text(0.10365029292474087, 0.6590909090909091, 'x[8] <= 135.35\\nsquared_error = 55.882\\nsamples = 3\\nvalue = 825.267'),\n",
              " Text(0.10184767913474538, 0.6136363636363636, 'squared_error = 0.0\\nsamples = 1\\nvalue = 834.6'),\n",
              " Text(0.10545290671473637, 0.6136363636363636, 'x[12] <= 1.05\\nsquared_error = 18.49\\nsamples = 2\\nvalue = 820.6'),\n",
              " Text(0.10365029292474087, 0.5681818181818182, 'squared_error = 0.0\\nsamples = 1\\nvalue = 824.9'),\n",
              " Text(0.10725552050473186, 0.5681818181818182, 'squared_error = 0.0\\nsamples = 1\\nvalue = 816.3'),\n",
              " Text(0.11086074808472285, 0.6590909090909091, 'x[13] <= 53.75\\nsquared_error = 464.402\\nsamples = 2\\nvalue = 934.95'),\n",
              " Text(0.10905813429472735, 0.6136363636363636, 'squared_error = 0.0\\nsamples = 1\\nvalue = 913.4'),\n",
              " Text(0.11266336187471834, 0.6136363636363636, 'squared_error = -0.0\\nsamples = 1\\nvalue = 956.5'),\n",
              " Text(0.11086074808472285, 0.7045454545454546, 'squared_error = 0.0\\nsamples = 1\\nvalue = 1148.2'),\n",
              " Text(0.3185690784841145, 0.8409090909090909, 'x[0] <= 4.35\\nsquared_error = 34627.745\\nsamples = 217\\nvalue = 930.945'),\n",
              " Text(0.1799233889139252, 0.7954545454545454, 'x[14] <= 698.25\\nsquared_error = 13922.669\\nsamples = 45\\nvalue = 754.473'),\n",
              " Text(0.15389815232086526, 0.75, 'x[2] <= 6.15\\nsquared_error = 9123.949\\nsamples = 35\\nvalue = 712.54'),\n",
              " Text(0.135196034249662, 0.7045454545454546, 'x[7] <= 99.5\\nsquared_error = 4996.987\\nsamples = 23\\nvalue = 669.743'),\n",
              " Text(0.12077512392969807, 0.6590909090909091, 'x[14] <= 343.05\\nsquared_error = 2153.84\\nsamples = 8\\nvalue = 605.4'),\n",
              " Text(0.11626858945470933, 0.6136363636363636, 'x[15] <= 160.45\\nsquared_error = 506.25\\nsamples = 2\\nvalue = 550.2'),\n",
              " Text(0.11446597566471384, 0.5681818181818182, 'squared_error = 0.0\\nsamples = 1\\nvalue = 527.7'),\n",
              " Text(0.11807120324470483, 0.5681818181818182, 'squared_error = 0.0\\nsamples = 1\\nvalue = 572.7'),\n",
              " Text(0.1252816584046868, 0.6136363636363636, 'x[9] <= 109.9\\nsquared_error = 1348.797\\nsamples = 6\\nvalue = 623.8'),\n",
              " Text(0.12167643082469581, 0.5681818181818182, 'x[2] <= 2.75\\nsquared_error = 157.503\\nsamples = 2\\nvalue = 585.75'),\n",
              " Text(0.11987381703470032, 0.5227272727272727, 'squared_error = 0.0\\nsamples = 1\\nvalue = 598.3'),\n",
              " Text(0.12347904461469131, 0.5227272727272727, 'squared_error = 0.0\\nsamples = 1\\nvalue = 573.2'),\n",
              " Text(0.1288868859846778, 0.5681818181818182, 'x[7] <= 73.9\\nsquared_error = 858.592\\nsamples = 4\\nvalue = 642.825'),\n",
              " Text(0.1270842721946823, 0.5227272727272727, 'squared_error = 0.0\\nsamples = 1\\nvalue = 597.0'),\n",
              " Text(0.13068949977467328, 0.5227272727272727, 'x[1] <= 0.9\\nsquared_error = 211.487\\nsamples = 3\\nvalue = 658.1'),\n",
              " Text(0.1288868859846778, 0.4772727272727273, 'squared_error = 0.0\\nsamples = 1\\nvalue = 676.7'),\n",
              " Text(0.13249211356466878, 0.4772727272727273, 'x[8] <= 147.95\\nsquared_error = 57.76\\nsamples = 2\\nvalue = 648.8'),\n",
              " Text(0.13068949977467328, 0.4318181818181818, 'squared_error = 0.0\\nsamples = 1\\nvalue = 641.2'),\n",
              " Text(0.13429472735466427, 0.4318181818181818, 'squared_error = 0.0\\nsamples = 1\\nvalue = 656.4'),\n",
              " Text(0.14961694456962596, 0.6590909090909091, 'x[1] <= 0.35\\nsquared_error = 3127.664\\nsamples = 15\\nvalue = 704.06'),\n",
              " Text(0.14781433077963047, 0.6136363636363636, 'squared_error = 0.0\\nsamples = 1\\nvalue = 567.3'),\n",
              " Text(0.15141955835962145, 0.6136363636363636, 'x[1] <= 0.6\\nsquared_error = 1919.693\\nsamples = 14\\nvalue = 713.829'),\n",
              " Text(0.14961694456962596, 0.5681818181818182, 'squared_error = 0.0\\nsamples = 1\\nvalue = 791.9'),\n",
              " Text(0.15322217214961695, 0.5681818181818182, 'x[12] <= 3.9\\nsquared_error = 1562.439\\nsamples = 13\\nvalue = 707.823'),\n",
              " Text(0.14511041009463724, 0.5227272727272727, 'x[1] <= 0.95\\nsquared_error = 1424.099\\nsamples = 7\\nvalue = 685.371'),\n",
              " Text(0.13970256872465076, 0.4772727272727273, 'x[14] <= 571.75\\nsquared_error = 174.632\\nsamples = 4\\nvalue = 711.425'),\n",
              " Text(0.13789995493465526, 0.4318181818181818, 'squared_error = 0.0\\nsamples = 1\\nvalue = 730.6'),\n",
              " Text(0.14150518251464625, 0.4318181818181818, 'x[11] <= 0.75\\nsquared_error = 69.429\\nsamples = 3\\nvalue = 705.033'),\n",
              " Text(0.13970256872465076, 0.38636363636363635, 'squared_error = 0.0\\nsamples = 1\\nvalue = 716.6'),\n",
              " Text(0.14330779630464174, 0.38636363636363635, 'x[0] <= 1.8\\nsquared_error = 3.802\\nsamples = 2\\nvalue = 699.25'),\n",
              " Text(0.14150518251464625, 0.3409090909090909, 'squared_error = 0.0\\nsamples = 1\\nvalue = 697.3'),\n",
              " Text(0.14511041009463724, 0.3409090909090909, 'squared_error = 0.0\\nsamples = 1\\nvalue = 701.2'),\n",
              " Text(0.1505182514646237, 0.4772727272727273, 'x[12] <= 3.45\\nsquared_error = 978.269\\nsamples = 3\\nvalue = 650.633'),\n",
              " Text(0.1487156376746282, 0.4318181818181818, 'x[9] <= 108.05\\nsquared_error = 52.562\\nsamples = 2\\nvalue = 672.35'),\n",
              " Text(0.1469130238846327, 0.38636363636363635, 'squared_error = 0.0\\nsamples = 1\\nvalue = 679.6'),\n",
              " Text(0.1505182514646237, 0.38636363636363635, 'squared_error = 0.0\\nsamples = 1\\nvalue = 665.1'),\n",
              " Text(0.1523208652546192, 0.4318181818181818, 'squared_error = 0.0\\nsamples = 1\\nvalue = 607.2'),\n",
              " Text(0.16133393420459666, 0.5227272727272727, 'x[0] <= 3.35\\nsquared_error = 449.641\\nsamples = 6\\nvalue = 734.017'),\n",
              " Text(0.15953132041460116, 0.4772727272727273, 'x[11] <= 9.4\\nsquared_error = 47.43\\nsamples = 5\\nvalue = 724.96'),\n",
              " Text(0.15592609283461017, 0.4318181818181818, 'x[11] <= 7.55\\nsquared_error = 0.382\\nsamples = 3\\nvalue = 730.567'),\n",
              " Text(0.15412347904461468, 0.38636363636363635, 'x[15] <= 90.3\\nsquared_error = 0.01\\nsamples = 2\\nvalue = 731.0'),\n",
              " Text(0.1523208652546192, 0.3409090909090909, 'squared_error = 0.0\\nsamples = 1\\nvalue = 730.9'),\n",
              " Text(0.15592609283461017, 0.3409090909090909, 'squared_error = 0.0\\nsamples = 1\\nvalue = 731.1'),\n",
              " Text(0.15772870662460567, 0.38636363636363635, 'squared_error = 0.0\\nsamples = 1\\nvalue = 729.7'),\n",
              " Text(0.16313654799459215, 0.4318181818181818, 'x[14] <= 499.15\\nsquared_error = 0.122\\nsamples = 2\\nvalue = 716.55'),\n",
              " Text(0.16133393420459666, 0.38636363636363635, 'squared_error = 0.0\\nsamples = 1\\nvalue = 716.9'),\n",
              " Text(0.16493916178458765, 0.38636363636363635, 'squared_error = 0.0\\nsamples = 1\\nvalue = 716.2'),\n",
              " Text(0.16313654799459215, 0.4772727272727273, 'squared_error = -0.0\\nsamples = 1\\nvalue = 779.3'),\n",
              " Text(0.1726002703920685, 0.7045454545454546, 'x[14] <= 432.9\\nsquared_error = 6795.129\\nsamples = 12\\nvalue = 794.567'),\n",
              " Text(0.16223524109959442, 0.6590909090909091, 'x[10] <= 47.9\\nsquared_error = 1234.178\\nsamples = 5\\nvalue = 719.88'),\n",
              " Text(0.15863001351960343, 0.6136363636363636, 'x[8] <= 138.35\\nsquared_error = 320.41\\nsamples = 2\\nvalue = 680.6'),\n",
              " Text(0.15682739972960794, 0.5681818181818182, 'squared_error = 0.0\\nsamples = 1\\nvalue = 662.7'),\n",
              " Text(0.16043262730959892, 0.5681818181818182, 'squared_error = 0.0\\nsamples = 1\\nvalue = 698.5'),\n",
              " Text(0.1658404686795854, 0.6136363636363636, 'x[6] <= 82.8\\nsquared_error = 129.002\\nsamples = 3\\nvalue = 746.067'),\n",
              " Text(0.1640378548895899, 0.5681818181818182, 'squared_error = 0.0\\nsamples = 1\\nvalue = 731.1'),\n",
              " Text(0.1676430824695809, 0.5681818181818182, 'x[14] <= 377.7\\nsquared_error = 25.503\\nsamples = 2\\nvalue = 753.55'),\n",
              " Text(0.1658404686795854, 0.5227272727272727, 'squared_error = 0.0\\nsamples = 1\\nvalue = 758.6'),\n",
              " Text(0.1694456962595764, 0.5227272727272727, 'squared_error = 0.0\\nsamples = 1\\nvalue = 748.5'),\n",
              " Text(0.1829652996845426, 0.6590909090909091, 'x[15] <= 193.6\\nsquared_error = 3936.913\\nsamples = 7\\nvalue = 847.914'),\n",
              " Text(0.17845876520955387, 0.6136363636363636, 'x[14] <= 587.6\\nsquared_error = 936.863\\nsamples = 4\\nvalue = 803.65'),\n",
              " Text(0.17485353762956288, 0.5681818181818182, 'x[9] <= 113.1\\nsquared_error = 243.36\\nsamples = 2\\nvalue = 776.1'),\n",
              " Text(0.17305092383956738, 0.5227272727272727, 'squared_error = 0.0\\nsamples = 1\\nvalue = 760.5'),\n",
              " Text(0.17665615141955837, 0.5227272727272727, 'squared_error = 0.0\\nsamples = 1\\nvalue = 791.7'),\n",
              " Text(0.18206399278954483, 0.5681818181818182, 'x[3] <= 20.4\\nsquared_error = 112.36\\nsamples = 2\\nvalue = 831.2'),\n",
              " Text(0.18026137899954936, 0.5227272727272727, 'squared_error = 0.0\\nsamples = 1\\nvalue = 820.6'),\n",
              " Text(0.18386660657954032, 0.5227272727272727, 'squared_error = -0.0\\nsamples = 1\\nvalue = 841.8'),\n",
              " Text(0.1874718341595313, 0.6136363636363636, 'x[4] <= 104.25\\nsquared_error = 1841.296\\nsamples = 3\\nvalue = 906.933'),\n",
              " Text(0.18566922036953581, 0.5681818181818182, 'squared_error = 0.0\\nsamples = 1\\nvalue = 967.1'),\n",
              " Text(0.1892744479495268, 0.5681818181818182, 'x[9] <= 166.9\\nsquared_error = 46.922\\nsamples = 2\\nvalue = 876.85'),\n",
              " Text(0.1874718341595313, 0.5227272727272727, 'squared_error = 0.0\\nsamples = 1\\nvalue = 870.0'),\n",
              " Text(0.1910770617395223, 0.5227272727272727, 'squared_error = -0.0\\nsamples = 1\\nvalue = 883.7'),\n",
              " Text(0.20594862550698512, 0.75, 'x[14] <= 857.15\\nsquared_error = 3023.32\\nsamples = 10\\nvalue = 901.24'),\n",
              " Text(0.20099143758449753, 0.7045454545454546, 'x[3] <= 0.95\\nsquared_error = 1255.094\\nsamples = 8\\nvalue = 879.675'),\n",
              " Text(0.19648490310950878, 0.6590909090909091, 'x[14] <= 809.5\\nsquared_error = 889.396\\nsamples = 3\\nvalue = 842.067'),\n",
              " Text(0.19468228931951329, 0.6136363636363636, 'x[6] <= 287.35\\nsquared_error = 77.44\\nsamples = 2\\nvalue = 821.6'),\n",
              " Text(0.1928796755295178, 0.5681818181818182, 'squared_error = 0.0\\nsamples = 1\\nvalue = 812.8'),\n",
              " Text(0.19648490310950878, 0.5681818181818182, 'squared_error = 0.0\\nsamples = 1\\nvalue = 830.4'),\n",
              " Text(0.19828751689950427, 0.6136363636363636, 'squared_error = 0.0\\nsamples = 1\\nvalue = 883.0'),\n",
              " Text(0.20549797205948625, 0.6590909090909091, 'x[3] <= 2.7\\nsquared_error = 116.702\\nsamples = 5\\nvalue = 902.24'),\n",
              " Text(0.20189274447949526, 0.6136363636363636, 'x[9] <= 32.5\\nsquared_error = 42.136\\nsamples = 3\\nvalue = 894.467'),\n",
              " Text(0.20009013068949977, 0.5681818181818182, 'squared_error = 0.0\\nsamples = 1\\nvalue = 903.6'),\n",
              " Text(0.20369535826949076, 0.5681818181818182, 'x[14] <= 806.3\\nsquared_error = 0.64\\nsamples = 2\\nvalue = 889.9'),\n",
              " Text(0.20189274447949526, 0.5227272727272727, 'squared_error = 0.0\\nsamples = 1\\nvalue = 889.1'),\n",
              " Text(0.20549797205948625, 0.5227272727272727, 'squared_error = -0.0\\nsamples = 1\\nvalue = 890.7'),\n",
              " Text(0.20910319963947724, 0.6136363636363636, 'x[15] <= 93.0\\nsquared_error = 1.96\\nsamples = 2\\nvalue = 913.9'),\n",
              " Text(0.20730058584948174, 0.5681818181818182, 'squared_error = 0.0\\nsamples = 1\\nvalue = 915.3'),\n",
              " Text(0.21090581342947273, 0.5681818181818182, 'squared_error = -0.0\\nsamples = 1\\nvalue = 912.5'),\n",
              " Text(0.21090581342947273, 0.7045454545454546, 'x[7] <= 273.85\\nsquared_error = 795.24\\nsamples = 2\\nvalue = 987.5'),\n",
              " Text(0.20910319963947724, 0.6590909090909091, 'squared_error = 0.0\\nsamples = 1\\nvalue = 1015.7'),\n",
              " Text(0.21270842721946823, 0.6590909090909091, 'squared_error = 0.0\\nsamples = 1\\nvalue = 959.3'),\n",
              " Text(0.4572147680543037, 0.7954545454545454, 'x[4] <= 84.0\\nsquared_error = 29765.409\\nsamples = 172\\nvalue = 977.115'),\n",
              " Text(0.3934741507999099, 0.75, 'x[14] <= 856.75\\nsquared_error = 21972.609\\nsamples = 151\\nvalue = 946.936'),\n",
              " Text(0.3308870127309599, 0.7045454545454546, 'x[9] <= 192.2\\nsquared_error = 20848.831\\nsamples = 106\\nvalue = 897.315'),\n",
              " Text(0.27421206061288866, 0.6590909090909091, 'x[5] <= 37.65\\nsquared_error = 10562.27\\nsamples = 94\\nvalue = 862.229'),\n",
              " Text(0.22082018927444794, 0.6136363636363636, 'x[11] <= 48.05\\nsquared_error = 7365.297\\nsamples = 12\\nvalue = 703.442'),\n",
              " Text(0.21451104100946372, 0.5681818181818182, 'x[9] <= 31.55\\nsquared_error = 1685.124\\nsamples = 8\\nvalue = 658.325'),\n",
              " Text(0.21270842721946823, 0.5227272727272727, 'squared_error = 0.0\\nsamples = 1\\nvalue = 568.0'),\n",
              " Text(0.21631365479945922, 0.5227272727272727, 'x[5] <= 24.75\\nsquared_error = 593.839\\nsamples = 7\\nvalue = 671.229'),\n",
              " Text(0.21451104100946372, 0.4772727272727273, 'squared_error = 0.0\\nsamples = 1\\nvalue = 618.2'),\n",
              " Text(0.2181162685894547, 0.4772727272727273, 'x[12] <= 24.4\\nsquared_error = 146.029\\nsamples = 6\\nvalue = 680.067'),\n",
              " Text(0.21451104100946372, 0.4318181818181818, 'x[7] <= 49.1\\nsquared_error = 46.24\\nsamples = 2\\nvalue = 696.1'),\n",
              " Text(0.21270842721946823, 0.38636363636363635, 'squared_error = 0.0\\nsamples = 1\\nvalue = 689.3'),\n",
              " Text(0.21631365479945922, 0.38636363636363635, 'squared_error = 0.0\\nsamples = 1\\nvalue = 702.9'),\n",
              " Text(0.2217214961694457, 0.4318181818181818, 'x[15] <= 66.6\\nsquared_error = 3.122\\nsamples = 4\\nvalue = 672.05'),\n",
              " Text(0.2199188823794502, 0.38636363636363635, 'squared_error = 0.0\\nsamples = 1\\nvalue = 669.3'),\n",
              " Text(0.2235241099594412, 0.38636363636363635, 'x[5] <= 36.35\\nsquared_error = 0.802\\nsamples = 3\\nvalue = 672.967'),\n",
              " Text(0.2217214961694457, 0.3409090909090909, 'squared_error = 0.0\\nsamples = 1\\nvalue = 671.7'),\n",
              " Text(0.22532672374943669, 0.3409090909090909, 'squared_error = -0.0\\nsamples = 2\\nvalue = 673.6'),\n",
              " Text(0.22712933753943218, 0.5681818181818182, 'x[7] <= 33.6\\nsquared_error = 6512.562\\nsamples = 4\\nvalue = 793.675'),\n",
              " Text(0.22532672374943669, 0.5227272727272727, 'squared_error = 0.0\\nsamples = 1\\nvalue = 656.3'),\n",
              " Text(0.22893195132942767, 0.5227272727272727, 'x[7] <= 81.6\\nsquared_error = 295.909\\nsamples = 3\\nvalue = 839.467'),\n",
              " Text(0.22712933753943218, 0.4772727272727273, 'x[0] <= 60.45\\nsquared_error = 66.422\\nsamples = 2\\nvalue = 828.25'),\n",
              " Text(0.22532672374943669, 0.4318181818181818, 'squared_error = 0.0\\nsamples = 1\\nvalue = 820.1'),\n",
              " Text(0.22893195132942767, 0.4318181818181818, 'squared_error = 0.0\\nsamples = 1\\nvalue = 836.4'),\n",
              " Text(0.23073456511942317, 0.4772727272727273, 'squared_error = 0.0\\nsamples = 1\\nvalue = 861.9'),\n",
              " Text(0.3276039319513294, 0.6136363636363636, 'x[14] <= 794.4\\nsquared_error = 6800.4\\nsamples = 82\\nvalue = 885.466'),\n",
              " Text(0.28927726453357366, 0.5681818181818182, 'x[15] <= 51.55\\nsquared_error = 6422.042\\nsamples = 58\\nvalue = 858.853'),\n",
              " Text(0.2575484452456061, 0.5227272727272727, 'x[14] <= 736.85\\nsquared_error = 2640.303\\nsamples = 20\\nvalue = 788.95'),\n",
              " Text(0.24470482199188823, 0.4772727272727273, 'x[14] <= 655.5\\nsquared_error = 720.297\\nsamples = 12\\nvalue = 752.425'),\n",
              " Text(0.23704371338440738, 0.4318181818181818, 'x[8] <= 123.6\\nsquared_error = 399.545\\nsamples = 6\\nvalue = 730.617'),\n",
              " Text(0.23253717890941866, 0.38636363636363635, 'x[9] <= 30.1\\nsquared_error = 23.262\\nsamples = 4\\nvalue = 717.25'),\n",
              " Text(0.22893195132942767, 0.3409090909090909, 'x[6] <= 211.55\\nsquared_error = 0.04\\nsamples = 2\\nvalue = 721.9'),\n",
              " Text(0.22712933753943218, 0.29545454545454547, 'squared_error = 0.0\\nsamples = 1\\nvalue = 721.7'),\n",
              " Text(0.23073456511942317, 0.29545454545454547, 'squared_error = -0.0\\nsamples = 1\\nvalue = 722.1'),\n",
              " Text(0.23614240648940965, 0.3409090909090909, 'x[0] <= 12.25\\nsquared_error = 3.24\\nsamples = 2\\nvalue = 712.6'),\n",
              " Text(0.23433979269941416, 0.29545454545454547, 'squared_error = 0.0\\nsamples = 1\\nvalue = 710.8'),\n",
              " Text(0.23794502027940514, 0.29545454545454547, 'squared_error = 0.0\\nsamples = 1\\nvalue = 714.4'),\n",
              " Text(0.24155024785939613, 0.38636363636363635, 'x[5] <= 52.95\\nsquared_error = 80.103\\nsamples = 2\\nvalue = 757.35'),\n",
              " Text(0.23974763406940064, 0.3409090909090909, 'squared_error = 0.0\\nsamples = 1\\nvalue = 766.3'),\n",
              " Text(0.24335286164939163, 0.3409090909090909, 'squared_error = 0.0\\nsamples = 1\\nvalue = 748.4'),\n",
              " Text(0.25236593059936907, 0.4318181818181818, 'x[14] <= 707.3\\nsquared_error = 89.842\\nsamples = 6\\nvalue = 774.233'),\n",
              " Text(0.2505633168093736, 0.38636363636363635, 'x[2] <= 8.2\\nsquared_error = 32.904\\nsamples = 5\\nvalue = 770.7'),\n",
              " Text(0.24695808922938262, 0.3409090909090909, 'x[6] <= 219.2\\nsquared_error = 1.102\\nsamples = 2\\nvalue = 764.45'),\n",
              " Text(0.24515547543938712, 0.29545454545454547, 'squared_error = 0.0\\nsamples = 1\\nvalue = 765.5'),\n",
              " Text(0.2487607030193781, 0.29545454545454547, 'squared_error = -0.0\\nsamples = 1\\nvalue = 763.4'),\n",
              " Text(0.2541685443893646, 0.3409090909090909, 'x[1] <= 12.9\\nsquared_error = 10.702\\nsamples = 3\\nvalue = 774.867'),\n",
              " Text(0.25236593059936907, 0.29545454545454547, 'x[14] <= 671.45\\nsquared_error = 3.24\\nsamples = 2\\nvalue = 772.8'),\n",
              " Text(0.2505633168093736, 0.25, 'squared_error = 0.0\\nsamples = 1\\nvalue = 771.0'),\n",
              " Text(0.2541685443893646, 0.25, 'squared_error = 0.0\\nsamples = 1\\nvalue = 774.6'),\n",
              " Text(0.25597115817936006, 0.29545454545454547, 'squared_error = 0.0\\nsamples = 1\\nvalue = 779.0'),\n",
              " Text(0.2541685443893646, 0.38636363636363635, 'squared_error = -0.0\\nsamples = 1\\nvalue = 791.9'),\n",
              " Text(0.270392068499324, 0.4772727272727273, 'x[10] <= 10.15\\nsquared_error = 517.527\\nsamples = 8\\nvalue = 843.738'),\n",
              " Text(0.266786840919333, 0.4318181818181818, 'x[4] <= 9.3\\nsquared_error = 62.234\\nsamples = 5\\nvalue = 860.26'),\n",
              " Text(0.26498422712933756, 0.38636363636363635, 'x[7] <= 291.8\\nsquared_error = 15.312\\nsamples = 4\\nvalue = 856.725'),\n",
              " Text(0.26137899954934657, 0.3409090909090909, 'x[14] <= 772.7\\nsquared_error = 1.323\\nsamples = 2\\nvalue = 860.55'),\n",
              " Text(0.25957638575935105, 0.29545454545454547, 'squared_error = 0.0\\nsamples = 1\\nvalue = 861.7'),\n",
              " Text(0.26318161333934204, 0.29545454545454547, 'squared_error = 0.0\\nsamples = 1\\nvalue = 859.4'),\n",
              " Text(0.26858945470932855, 0.3409090909090909, 'x[10] <= 7.2\\nsquared_error = 0.04\\nsamples = 2\\nvalue = 852.9'),\n",
              " Text(0.266786840919333, 0.29545454545454547, 'squared_error = 0.0\\nsamples = 1\\nvalue = 853.1'),\n",
              " Text(0.270392068499324, 0.29545454545454547, 'squared_error = -0.0\\nsamples = 1\\nvalue = 852.7'),\n",
              " Text(0.26858945470932855, 0.38636363636363635, 'squared_error = -0.0\\nsamples = 1\\nvalue = 874.4'),\n",
              " Text(0.273997296079315, 0.4318181818181818, 'x[3] <= 1.85\\nsquared_error = 63.047\\nsamples = 3\\nvalue = 816.2'),\n",
              " Text(0.27219468228931953, 0.38636363636363635, 'squared_error = 0.0\\nsamples = 1\\nvalue = 826.9'),\n",
              " Text(0.2757999098693105, 0.38636363636363635, 'x[15] <= 43.0\\nsquared_error = 8.703\\nsamples = 2\\nvalue = 810.85'),\n",
              " Text(0.273997296079315, 0.3409090909090909, 'squared_error = 0.0\\nsamples = 1\\nvalue = 807.9'),\n",
              " Text(0.277602523659306, 0.3409090909090909, 'squared_error = 0.0\\nsamples = 1\\nvalue = 813.8'),\n",
              " Text(0.3210060838215412, 0.5227272727272727, 'x[13] <= 180.65\\nsquared_error = 4486.995\\nsamples = 38\\nvalue = 895.645'),\n",
              " Text(0.31326047769265436, 0.4772727272727273, 'x[15] <= 483.15\\nsquared_error = 3029.021\\nsamples = 36\\nvalue = 886.25'),\n",
              " Text(0.30317710680486704, 0.4318181818181818, 'x[4] <= 13.55\\nsquared_error = 2216.779\\nsamples = 34\\nvalue = 878.832'),\n",
              " Text(0.28841820639927895, 0.38636363636363635, 'x[14] <= 735.7\\nsquared_error = 886.224\\nsamples = 14\\nvalue = 850.386'),\n",
              " Text(0.281207751239297, 0.3409090909090909, 'x[8] <= 150.95\\nsquared_error = 59.894\\nsamples = 5\\nvalue = 816.34'),\n",
              " Text(0.2794051374493015, 0.29545454545454547, 'x[3] <= 3.8\\nsquared_error = 19.922\\nsamples = 4\\nvalue = 813.025'),\n",
              " Text(0.2757999098693105, 0.25, 'x[6] <= 226.65\\nsquared_error = 7.562\\nsamples = 2\\nvalue = 809.15'),\n",
              " Text(0.273997296079315, 0.20454545454545456, 'squared_error = 0.0\\nsamples = 1\\nvalue = 806.4'),\n",
              " Text(0.277602523659306, 0.20454545454545456, 'squared_error = -0.0\\nsamples = 1\\nvalue = 811.9'),\n",
              " Text(0.2830103650292925, 0.25, 'x[13] <= 25.95\\nsquared_error = 2.25\\nsamples = 2\\nvalue = 816.9'),\n",
              " Text(0.281207751239297, 0.20454545454545456, 'squared_error = 0.0\\nsamples = 1\\nvalue = 815.4'),\n",
              " Text(0.28481297881928797, 0.20454545454545456, 'squared_error = -0.0\\nsamples = 1\\nvalue = 818.4'),\n",
              " Text(0.2830103650292925, 0.29545454545454547, 'squared_error = 0.0\\nsamples = 1\\nvalue = 829.6'),\n",
              " Text(0.29562866155926093, 0.3409090909090909, 'x[14] <= 785.15\\nsquared_error = 343.596\\nsamples = 9\\nvalue = 869.3'),\n",
              " Text(0.29202343397926994, 0.29545454545454547, 'x[5] <= 83.8\\nsquared_error = 136.581\\nsamples = 7\\nvalue = 861.514'),\n",
              " Text(0.2902208201892745, 0.25, 'x[3] <= 2.35\\nsquared_error = 49.336\\nsamples = 6\\nvalue = 857.55'),\n",
              " Text(0.28841820639927895, 0.20454545454545456, 'squared_error = 0.0\\nsamples = 1\\nvalue = 871.5'),\n",
              " Text(0.29202343397926994, 0.20454545454545456, 'x[7] <= 285.95\\nsquared_error = 12.498\\nsamples = 5\\nvalue = 854.76'),\n",
              " Text(0.28841820639927895, 0.1590909090909091, 'x[11] <= 3.35\\nsquared_error = 2.082\\nsamples = 3\\nvalue = 852.133'),\n",
              " Text(0.2866155926092835, 0.11363636363636363, 'squared_error = 0.0\\nsamples = 1\\nvalue = 850.1'),\n",
              " Text(0.2902208201892745, 0.11363636363636363, 'x[2] <= 6.9\\nsquared_error = 0.022\\nsamples = 2\\nvalue = 853.15'),\n",
              " Text(0.28841820639927895, 0.06818181818181818, 'squared_error = 0.0\\nsamples = 1\\nvalue = 853.0'),\n",
              " Text(0.29202343397926994, 0.06818181818181818, 'squared_error = 0.0\\nsamples = 1\\nvalue = 853.3'),\n",
              " Text(0.29562866155926093, 0.1590909090909091, 'x[6] <= 241.5\\nsquared_error = 2.25\\nsamples = 2\\nvalue = 858.7'),\n",
              " Text(0.2938260477692654, 0.11363636363636363, 'squared_error = 0.0\\nsamples = 1\\nvalue = 857.2'),\n",
              " Text(0.2974312753492564, 0.11363636363636363, 'squared_error = 0.0\\nsamples = 1\\nvalue = 860.2'),\n",
              " Text(0.2938260477692654, 0.25, 'squared_error = -0.0\\nsamples = 1\\nvalue = 885.3'),\n",
              " Text(0.2992338891392519, 0.29545454545454547, 'x[13] <= 19.35\\nsquared_error = 113.423\\nsamples = 2\\nvalue = 896.55'),\n",
              " Text(0.2974312753492564, 0.25, 'squared_error = 0.0\\nsamples = 1\\nvalue = 885.9'),\n",
              " Text(0.3010365029292474, 0.25, 'squared_error = 0.0\\nsamples = 1\\nvalue = 907.2'),\n",
              " Text(0.3179360072104552, 0.38636363636363635, 'x[6] <= 203.0\\nsquared_error = 2185.206\\nsamples = 20\\nvalue = 898.745'),\n",
              " Text(0.3100495718792249, 0.3409090909090909, 'x[3] <= 21.1\\nsquared_error = 1318.252\\nsamples = 8\\nvalue = 864.8'),\n",
              " Text(0.3064443442992339, 0.29545454545454547, 'x[13] <= 73.25\\nsquared_error = 351.262\\nsamples = 3\\nvalue = 830.567'),\n",
              " Text(0.3046417305092384, 0.25, 'x[14] <= 627.15\\nsquared_error = 70.56\\nsamples = 2\\nvalue = 842.9'),\n",
              " Text(0.3028391167192429, 0.20454545454545456, 'squared_error = 0.0\\nsamples = 1\\nvalue = 834.5'),\n",
              " Text(0.3064443442992339, 0.20454545454545456, 'squared_error = 0.0\\nsamples = 1\\nvalue = 851.3'),\n",
              " Text(0.30824695808922936, 0.25, 'squared_error = -0.0\\nsamples = 1\\nvalue = 805.9'),\n",
              " Text(0.31365479945921587, 0.29545454545454547, 'x[9] <= 187.6\\nsquared_error = 773.402\\nsamples = 5\\nvalue = 885.34'),\n",
              " Text(0.31185218566922035, 0.25, 'x[15] <= 444.95\\nsquared_error = 323.775\\nsamples = 4\\nvalue = 874.0'),\n",
              " Text(0.3100495718792249, 0.20454545454545456, 'x[7] <= 98.6\\nsquared_error = 60.496\\nsamples = 3\\nvalue = 883.633'),\n",
              " Text(0.30824695808922936, 0.1590909090909091, 'squared_error = 0.0\\nsamples = 1\\nvalue = 872.8'),\n",
              " Text(0.31185218566922035, 0.1590909090909091, 'x[6] <= 135.0\\nsquared_error = 2.723\\nsamples = 2\\nvalue = 889.05'),\n",
              " Text(0.3100495718792249, 0.11363636363636363, 'squared_error = 0.0\\nsamples = 1\\nvalue = 887.4'),\n",
              " Text(0.31365479945921587, 0.11363636363636363, 'squared_error = 0.0\\nsamples = 1\\nvalue = 890.7'),\n",
              " Text(0.31365479945921587, 0.20454545454545456, 'squared_error = -0.0\\nsamples = 1\\nvalue = 845.1'),\n",
              " Text(0.31545741324921134, 0.25, 'squared_error = 0.0\\nsamples = 1\\nvalue = 930.7'),\n",
              " Text(0.32582244254168546, 0.3409090909090909, 'x[7] <= 202.65\\nsquared_error = 1482.884\\nsamples = 12\\nvalue = 921.375'),\n",
              " Text(0.32401982875168994, 0.29545454545454547, 'squared_error = 0.0\\nsamples = 1\\nvalue = 1027.1'),\n",
              " Text(0.32762505633168093, 0.29545454545454547, 'x[3] <= 13.75\\nsquared_error = 509.151\\nsamples = 11\\nvalue = 911.764'),\n",
              " Text(0.3217665615141956, 0.25, 'x[8] <= 144.5\\nsquared_error = 277.858\\nsamples = 8\\nvalue = 902.1'),\n",
              " Text(0.31726002703920686, 0.20454545454545456, 'x[14] <= 747.4\\nsquared_error = 61.622\\nsamples = 2\\nvalue = 876.95'),\n",
              " Text(0.31545741324921134, 0.1590909090909091, 'squared_error = 0.0\\nsamples = 1\\nvalue = 869.1'),\n",
              " Text(0.3190626408292023, 0.1590909090909091, 'squared_error = -0.0\\nsamples = 1\\nvalue = 884.8'),\n",
              " Text(0.3262730959891843, 0.20454545454545456, 'x[13] <= 31.0\\nsquared_error = 68.815\\nsamples = 6\\nvalue = 910.483'),\n",
              " Text(0.3226678684091933, 0.1590909090909091, 'x[3] <= 5.6\\nsquared_error = 7.023\\nsamples = 2\\nvalue = 899.65'),\n",
              " Text(0.32086525461919785, 0.11363636363636363, 'squared_error = 0.0\\nsamples = 1\\nvalue = 902.3'),\n",
              " Text(0.32447048219918884, 0.11363636363636363, 'squared_error = 0.0\\nsamples = 1\\nvalue = 897.0'),\n",
              " Text(0.3298783235691753, 0.1590909090909091, 'x[7] <= 244.45\\nsquared_error = 11.69\\nsamples = 4\\nvalue = 915.9'),\n",
              " Text(0.3280757097791798, 0.11363636363636363, 'squared_error = 0.0\\nsamples = 1\\nvalue = 910.0'),\n",
              " Text(0.3316809373591708, 0.11363636363636363, 'x[3] <= 5.1\\nsquared_error = 0.116\\nsamples = 3\\nvalue = 917.867'),\n",
              " Text(0.3298783235691753, 0.06818181818181818, 'squared_error = 0.0\\nsamples = 1\\nvalue = 917.4'),\n",
              " Text(0.3334835511491663, 0.06818181818181818, 'x[9] <= 49.6\\nsquared_error = 0.01\\nsamples = 2\\nvalue = 918.1'),\n",
              " Text(0.3316809373591708, 0.022727272727272728, 'squared_error = 0.0\\nsamples = 1\\nvalue = 918.0'),\n",
              " Text(0.3352861649391618, 0.022727272727272728, 'squared_error = 0.0\\nsamples = 1\\nvalue = 918.2'),\n",
              " Text(0.3334835511491663, 0.25, 'x[14] <= 683.7\\nsquared_error = 212.829\\nsamples = 3\\nvalue = 937.533'),\n",
              " Text(0.3316809373591708, 0.20454545454545456, 'squared_error = 0.0\\nsamples = 1\\nvalue = 957.2'),\n",
              " Text(0.3352861649391618, 0.20454545454545456, 'x[3] <= 17.4\\nsquared_error = 29.16\\nsamples = 2\\nvalue = 927.7'),\n",
              " Text(0.3334835511491663, 0.1590909090909091, 'squared_error = 0.0\\nsamples = 1\\nvalue = 933.1'),\n",
              " Text(0.33708877872915727, 0.1590909090909091, 'squared_error = -0.0\\nsamples = 1\\nvalue = 922.3'),\n",
              " Text(0.32334384858044163, 0.4318181818181818, 'x[15] <= 524.7\\nsquared_error = 0.563\\nsamples = 2\\nvalue = 1012.35'),\n",
              " Text(0.32154123479044616, 0.38636363636363635, 'squared_error = 0.0\\nsamples = 1\\nvalue = 1011.6'),\n",
              " Text(0.32514646237043715, 0.38636363636363635, 'squared_error = 0.0\\nsamples = 1\\nvalue = 1013.1'),\n",
              " Text(0.32875168995042814, 0.4772727272727273, 'x[0] <= 78.0\\nsquared_error = 545.223\\nsamples = 2\\nvalue = 1064.75'),\n",
              " Text(0.3269490761604326, 0.4318181818181818, 'squared_error = 0.0\\nsamples = 1\\nvalue = 1041.4'),\n",
              " Text(0.3305543037404236, 0.4318181818181818, 'squared_error = 0.0\\nsamples = 1\\nvalue = 1088.1'),\n",
              " Text(0.3659305993690852, 0.5681818181818182, 'x[1] <= 34.4\\nsquared_error = 1867.03\\nsamples = 24\\nvalue = 949.779'),\n",
              " Text(0.36412798557908965, 0.5227272727272727, 'x[15] <= 63.5\\nsquared_error = 746.932\\nsamples = 23\\nvalue = 942.704'),\n",
              " Text(0.3515096890491212, 0.4772727272727273, 'x[4] <= 8.65\\nsquared_error = 317.026\\nsamples = 17\\nvalue = 930.341'),\n",
              " Text(0.3424966200991438, 0.4318181818181818, 'x[14] <= 804.7\\nsquared_error = 258.296\\nsamples = 7\\nvalue = 914.271'),\n",
              " Text(0.34069400630914826, 0.38636363636363635, 'squared_error = 0.0\\nsamples = 1\\nvalue = 881.8'),\n",
              " Text(0.34429923388913924, 0.38636363636363635, 'x[11] <= 9.0\\nsquared_error = 96.325\\nsamples = 6\\nvalue = 919.683'),\n",
              " Text(0.3424966200991438, 0.3409090909090909, 'x[1] <= 2.2\\nsquared_error = 30.614\\nsamples = 5\\nvalue = 915.92'),\n",
              " Text(0.34069400630914826, 0.29545454545454547, 'squared_error = 0.0\\nsamples = 1\\nvalue = 905.7'),\n",
              " Text(0.34429923388913924, 0.29545454545454547, 'x[15] <= 51.05\\nsquared_error = 5.627\\nsamples = 4\\nvalue = 918.475'),\n",
              " Text(0.34069400630914826, 0.25, 'x[9] <= 32.6\\nsquared_error = 0.25\\nsamples = 2\\nvalue = 920.7'),\n",
              " Text(0.3388913925191528, 0.20454545454545456, 'squared_error = 0.0\\nsamples = 1\\nvalue = 920.2'),\n",
              " Text(0.3424966200991438, 0.20454545454545456, 'squared_error = -0.0\\nsamples = 1\\nvalue = 921.2'),\n",
              " Text(0.34790446146913023, 0.25, 'x[7] <= 276.45\\nsquared_error = 1.103\\nsamples = 2\\nvalue = 916.25'),\n",
              " Text(0.34610184767913477, 0.20454545454545456, 'squared_error = 0.0\\nsamples = 1\\nvalue = 917.3'),\n",
              " Text(0.34970707525912575, 0.20454545454545456, 'squared_error = 0.0\\nsamples = 1\\nvalue = 915.2'),\n",
              " Text(0.34610184767913477, 0.3409090909090909, 'squared_error = 0.0\\nsamples = 1\\nvalue = 938.5'),\n",
              " Text(0.3605227579990987, 0.4318181818181818, 'x[12] <= 24.85\\nsquared_error = 50.835\\nsamples = 10\\nvalue = 941.59'),\n",
              " Text(0.35331230283911674, 0.38636363636363635, 'x[15] <= 51.45\\nsquared_error = 33.914\\nsamples = 5\\nvalue = 936.16'),\n",
              " Text(0.34970707525912575, 0.3409090909090909, 'x[13] <= 25.45\\nsquared_error = 2.723\\nsamples = 2\\nvalue = 929.85'),\n",
              " Text(0.34790446146913023, 0.29545454545454547, 'squared_error = 0.0\\nsamples = 1\\nvalue = 931.5'),\n",
              " Text(0.3515096890491212, 0.29545454545454547, 'squared_error = 0.0\\nsamples = 1\\nvalue = 928.2'),\n",
              " Text(0.35691753041910773, 0.3409090909090909, 'x[0] <= 13.0\\nsquared_error = 10.469\\nsamples = 3\\nvalue = 940.367'),\n",
              " Text(0.3551149166291122, 0.29545454545454547, 'x[10] <= 11.15\\nsquared_error = 2.89\\nsamples = 2\\nvalue = 938.3'),\n",
              " Text(0.35331230283911674, 0.25, 'squared_error = 0.0\\nsamples = 1\\nvalue = 936.6'),\n",
              " Text(0.35691753041910773, 0.25, 'squared_error = 0.0\\nsamples = 1\\nvalue = 940.0'),\n",
              " Text(0.3587201442091032, 0.29545454545454547, 'squared_error = 0.0\\nsamples = 1\\nvalue = 944.5'),\n",
              " Text(0.36773321315908064, 0.38636363636363635, 'x[1] <= 11.85\\nsquared_error = 8.786\\nsamples = 5\\nvalue = 947.02'),\n",
              " Text(0.36412798557908965, 0.3409090909090909, 'x[2] <= 7.2\\nsquared_error = 0.04\\nsamples = 2\\nvalue = 943.4'),\n",
              " Text(0.3623253717890942, 0.29545454545454547, 'squared_error = 0.0\\nsamples = 1\\nvalue = 943.2'),\n",
              " Text(0.3659305993690852, 0.29545454545454547, 'squared_error = -0.0\\nsamples = 1\\nvalue = 943.6'),\n",
              " Text(0.37133844073907163, 0.3409090909090909, 'x[12] <= 28.2\\nsquared_error = 0.056\\nsamples = 3\\nvalue = 949.433'),\n",
              " Text(0.36953582694907616, 0.29545454545454547, 'squared_error = 0.0\\nsamples = 1\\nvalue = 949.1'),\n",
              " Text(0.37314105452906715, 0.29545454545454547, 'squared_error = -0.0\\nsamples = 2\\nvalue = 949.6'),\n",
              " Text(0.37674628210905814, 0.4772727272727273, 'x[4] <= 10.1\\nsquared_error = 304.899\\nsamples = 6\\nvalue = 977.733'),\n",
              " Text(0.3749436683190626, 0.4318181818181818, 'squared_error = 0.0\\nsamples = 1\\nvalue = 940.9'),\n",
              " Text(0.3785488958990536, 0.4318181818181818, 'x[10] <= 7.8\\nsquared_error = 40.272\\nsamples = 5\\nvalue = 985.1'),\n",
              " Text(0.37674628210905814, 0.38636363636363635, 'squared_error = 0.0\\nsamples = 1\\nvalue = 996.6'),\n",
              " Text(0.3803515096890491, 0.38636363636363635, 'x[10] <= 21.85\\nsquared_error = 9.012\\nsamples = 4\\nvalue = 982.225'),\n",
              " Text(0.3785488958990536, 0.3409090909090909, 'x[14] <= 852.05\\nsquared_error = 2.302\\nsamples = 3\\nvalue = 980.667'),\n",
              " Text(0.37674628210905814, 0.29545454545454547, 'x[5] <= 169.2\\nsquared_error = 0.04\\nsamples = 2\\nvalue = 979.6'),\n",
              " Text(0.3749436683190626, 0.25, 'squared_error = 0.0\\nsamples = 1\\nvalue = 979.8'),\n",
              " Text(0.3785488958990536, 0.25, 'squared_error = 0.0\\nsamples = 1\\nvalue = 979.4'),\n",
              " Text(0.3803515096890491, 0.29545454545454547, 'squared_error = -0.0\\nsamples = 1\\nvalue = 982.8'),\n",
              " Text(0.3821541234790446, 0.3409090909090909, 'squared_error = -0.0\\nsamples = 1\\nvalue = 986.9'),\n",
              " Text(0.36773321315908064, 0.5227272727272727, 'squared_error = -0.0\\nsamples = 1\\nvalue = 1112.5'),\n",
              " Text(0.3875619648490311, 0.6590909090909091, 'x[4] <= 46.55\\nsquared_error = 16244.839\\nsamples = 12\\nvalue = 1172.158'),\n",
              " Text(0.3785488958990536, 0.6136363636363636, 'x[10] <= 325.4\\nsquared_error = 3545.337\\nsamples = 4\\nvalue = 1320.425'),\n",
              " Text(0.37674628210905814, 0.5681818181818182, 'squared_error = 0.0\\nsamples = 1\\nvalue = 1227.7'),\n",
              " Text(0.3803515096890491, 0.5681818181818182, 'x[4] <= 40.75\\nsquared_error = 905.816\\nsamples = 3\\nvalue = 1351.333'),\n",
              " Text(0.3785488958990536, 0.5227272727272727, 'squared_error = 0.0\\nsamples = 1\\nvalue = 1393.3'),\n",
              " Text(0.3821541234790446, 0.5227272727272727, 'x[15] <= 816.5\\nsquared_error = 37.823\\nsamples = 2\\nvalue = 1330.35'),\n",
              " Text(0.3803515096890491, 0.4772727272727273, 'squared_error = 0.0\\nsamples = 1\\nvalue = 1324.2'),\n",
              " Text(0.3839567372690401, 0.4772727272727273, 'squared_error = 0.0\\nsamples = 1\\nvalue = 1336.5'),\n",
              " Text(0.39657503379900855, 0.6136363636363636, 'x[13] <= 127.1\\nsquared_error = 6107.337\\nsamples = 8\\nvalue = 1098.025'),\n",
              " Text(0.3947724200090131, 0.5681818181818182, 'x[4] <= 65.35\\nsquared_error = 2254.505\\nsamples = 7\\nvalue = 1122.329'),\n",
              " Text(0.38936457863902657, 0.5227272727272727, 'x[3] <= 16.35\\nsquared_error = 154.922\\nsamples = 4\\nvalue = 1159.625'),\n",
              " Text(0.3875619648490311, 0.4772727272727273, 'squared_error = 0.0\\nsamples = 1\\nvalue = 1139.6'),\n",
              " Text(0.3911671924290221, 0.4772727272727273, 'x[11] <= 113.25\\nsquared_error = 28.34\\nsamples = 3\\nvalue = 1166.3'),\n",
              " Text(0.38936457863902657, 0.4318181818181818, 'x[7] <= 215.1\\nsquared_error = 5.76\\nsamples = 2\\nvalue = 1162.8'),\n",
              " Text(0.3875619648490311, 0.38636363636363635, 'squared_error = 0.0\\nsamples = 1\\nvalue = 1165.2'),\n",
              " Text(0.3911671924290221, 0.38636363636363635, 'squared_error = -0.0\\nsamples = 1\\nvalue = 1160.4'),\n",
              " Text(0.39296980621901756, 0.4318181818181818, 'squared_error = 0.0\\nsamples = 1\\nvalue = 1173.3'),\n",
              " Text(0.40018026137899954, 0.5227272727272727, 'x[9] <= 196.6\\nsquared_error = 726.32\\nsamples = 3\\nvalue = 1072.6'),\n",
              " Text(0.39837764758900407, 0.4772727272727273, 'x[5] <= 56.95\\nsquared_error = 252.81\\nsamples = 2\\nvalue = 1055.9'),\n",
              " Text(0.39657503379900855, 0.4318181818181818, 'squared_error = 0.0\\nsamples = 1\\nvalue = 1071.8'),\n",
              " Text(0.40018026137899954, 0.4318181818181818, 'squared_error = -0.0\\nsamples = 1\\nvalue = 1040.0'),\n",
              " Text(0.40198287516899506, 0.4772727272727273, 'squared_error = 0.0\\nsamples = 1\\nvalue = 1106.0'),\n",
              " Text(0.39837764758900407, 0.5681818181818182, 'squared_error = 0.0\\nsamples = 1\\nvalue = 927.9'),\n",
              " Text(0.4560612888688598, 0.7045454545454546, 'x[13] <= 51.45\\nsquared_error = 5157.412\\nsamples = 45\\nvalue = 1063.822'),\n",
              " Text(0.4231635872014421, 0.6590909090909091, 'x[14] <= 875.45\\nsquared_error = 1729.717\\nsamples = 31\\nvalue = 1027.255'),\n",
              " Text(0.40919333032897703, 0.6136363636363636, 'x[3] <= 2.85\\nsquared_error = 292.062\\nsamples = 5\\nvalue = 953.48'),\n",
              " Text(0.40558810274898605, 0.5681818181818182, 'x[13] <= 7.35\\nsquared_error = 107.007\\nsamples = 3\\nvalue = 941.3'),\n",
              " Text(0.4037854889589905, 0.5227272727272727, 'squared_error = 0.0\\nsamples = 1\\nvalue = 926.7'),\n",
              " Text(0.4073907165389815, 0.5227272727272727, 'x[15] <= 55.15\\nsquared_error = 0.64\\nsamples = 2\\nvalue = 948.6'),\n",
              " Text(0.40558810274898605, 0.4772727272727273, 'squared_error = 0.0\\nsamples = 1\\nvalue = 949.4'),\n",
              " Text(0.40919333032897703, 0.4772727272727273, 'squared_error = 0.0\\nsamples = 1\\nvalue = 947.8'),\n",
              " Text(0.412798557908968, 0.5681818181818182, 'x[5] <= 101.05\\nsquared_error = 13.322\\nsamples = 2\\nvalue = 971.75'),\n",
              " Text(0.4109959441189725, 0.5227272727272727, 'squared_error = 0.0\\nsamples = 1\\nvalue = 968.1'),\n",
              " Text(0.4146011716989635, 0.5227272727272727, 'squared_error = 0.0\\nsamples = 1\\nvalue = 975.4'),\n",
              " Text(0.43713384407390715, 0.6136363636363636, 'x[14] <= 909.5\\nsquared_error = 758.227\\nsamples = 26\\nvalue = 1041.442'),\n",
              " Text(0.423614240648941, 0.5681818181818182, 'x[5] <= 131.7\\nsquared_error = 211.894\\nsamples = 9\\nvalue = 1015.344'),\n",
              " Text(0.4182063992789545, 0.5227272727272727, 'x[6] <= 307.95\\nsquared_error = 31.422\\nsamples = 5\\nvalue = 1003.68'),\n",
              " Text(0.416403785488959, 0.4772727272727273, 'x[6] <= 275.15\\nsquared_error = 10.357\\nsamples = 4\\nvalue = 1001.275'),\n",
              " Text(0.4146011716989635, 0.4318181818181818, 'squared_error = 0.0\\nsamples = 1\\nvalue = 995.8'),\n",
              " Text(0.4182063992789545, 0.4318181818181818, 'x[6] <= 285.95\\nsquared_error = 0.487\\nsamples = 3\\nvalue = 1003.1'),\n",
              " Text(0.416403785488959, 0.38636363636363635, 'squared_error = 0.0\\nsamples = 1\\nvalue = 1002.2'),\n",
              " Text(0.42000901306895, 0.38636363636363635, 'x[15] <= 57.15\\nsquared_error = 0.122\\nsamples = 2\\nvalue = 1003.55'),\n",
              " Text(0.4182063992789545, 0.3409090909090909, 'squared_error = 0.0\\nsamples = 1\\nvalue = 1003.2'),\n",
              " Text(0.42181162685894547, 0.3409090909090909, 'squared_error = 0.0\\nsamples = 1\\nvalue = 1003.9'),\n",
              " Text(0.42000901306895, 0.4772727272727273, 'squared_error = -0.0\\nsamples = 1\\nvalue = 1013.3'),\n",
              " Text(0.42902208201892744, 0.5227272727272727, 'x[4] <= 25.4\\nsquared_error = 54.817\\nsamples = 4\\nvalue = 1029.925'),\n",
              " Text(0.427219468228932, 0.4772727272727273, 'x[1] <= 14.3\\nsquared_error = 10.416\\nsamples = 3\\nvalue = 1025.967'),\n",
              " Text(0.42541685443893645, 0.4318181818181818, 'x[0] <= 11.9\\nsquared_error = 1.323\\nsamples = 2\\nvalue = 1028.15'),\n",
              " Text(0.423614240648941, 0.38636363636363635, 'squared_error = 0.0\\nsamples = 1\\nvalue = 1027.0'),\n",
              " Text(0.427219468228932, 0.38636363636363635, 'squared_error = -0.0\\nsamples = 1\\nvalue = 1029.3'),\n",
              " Text(0.42902208201892744, 0.4318181818181818, 'squared_error = 0.0\\nsamples = 1\\nvalue = 1021.6'),\n",
              " Text(0.43082469580892296, 0.4772727272727273, 'squared_error = 0.0\\nsamples = 1\\nvalue = 1041.8'),\n",
              " Text(0.45065344749887337, 0.5681818181818182, 'x[13] <= 29.45\\nsquared_error = 495.985\\nsamples = 17\\nvalue = 1055.259'),\n",
              " Text(0.44073907165389814, 0.5227272727272727, 'x[0] <= 22.05\\nsquared_error = 86.37\\nsamples = 8\\nvalue = 1035.462'),\n",
              " Text(0.4389364578639027, 0.4772727272727273, 'x[8] <= 218.5\\nsquared_error = 29.173\\nsamples = 7\\nvalue = 1032.514'),\n",
              " Text(0.43442992338891395, 0.4318181818181818, 'x[13] <= 17.15\\nsquared_error = 10.162\\nsamples = 5\\nvalue = 1029.64'),\n",
              " Text(0.43082469580892296, 0.38636363636363635, 'x[10] <= 10.1\\nsquared_error = 2.56\\nsamples = 2\\nvalue = 1033.0'),\n",
              " Text(0.42902208201892744, 0.3409090909090909, 'squared_error = 0.0\\nsamples = 1\\nvalue = 1034.6'),\n",
              " Text(0.43262730959891843, 0.3409090909090909, 'squared_error = 0.0\\nsamples = 1\\nvalue = 1031.4'),\n",
              " Text(0.4380351509689049, 0.38636363636363635, 'x[15] <= 48.1\\nsquared_error = 2.687\\nsamples = 3\\nvalue = 1027.4'),\n",
              " Text(0.4362325371789094, 0.3409090909090909, 'squared_error = 0.0\\nsamples = 1\\nvalue = 1025.1'),\n",
              " Text(0.4398377647589004, 0.3409090909090909, 'x[13] <= 19.6\\nsquared_error = 0.062\\nsamples = 2\\nvalue = 1028.55'),\n",
              " Text(0.4380351509689049, 0.29545454545454547, 'squared_error = 0.0\\nsamples = 1\\nvalue = 1028.3'),\n",
              " Text(0.4416403785488959, 0.29545454545454547, 'squared_error = 0.0\\nsamples = 1\\nvalue = 1028.8'),\n",
              " Text(0.4434429923388914, 0.4318181818181818, 'x[5] <= 107.4\\nsquared_error = 4.41\\nsamples = 2\\nvalue = 1039.7'),\n",
              " Text(0.4416403785488959, 0.38636363636363635, 'squared_error = 0.0\\nsamples = 1\\nvalue = 1037.6'),\n",
              " Text(0.44524560612888686, 0.38636363636363635, 'squared_error = 0.0\\nsamples = 1\\nvalue = 1041.8'),\n",
              " Text(0.44254168544389366, 0.4772727272727273, 'squared_error = 0.0\\nsamples = 1\\nvalue = 1056.1'),\n",
              " Text(0.4605678233438486, 0.5227272727272727, 'x[7] <= 293.95\\nsquared_error = 202.091\\nsamples = 9\\nvalue = 1072.856'),\n",
              " Text(0.45425867507886436, 0.4772727272727273, 'x[15] <= 64.45\\nsquared_error = 74.358\\nsamples = 5\\nvalue = 1061.68'),\n",
              " Text(0.45065344749887337, 0.4318181818181818, 'x[7] <= 281.0\\nsquared_error = 7.762\\nsamples = 3\\nvalue = 1055.067'),\n",
              " Text(0.44885083370887785, 0.38636363636363635, 'squared_error = 0.0\\nsamples = 1\\nvalue = 1051.5'),\n",
              " Text(0.45245606128886884, 0.38636363636363635, 'x[1] <= 12.3\\nsquared_error = 2.102\\nsamples = 2\\nvalue = 1056.85'),\n",
              " Text(0.45065344749887337, 0.3409090909090909, 'squared_error = 0.0\\nsamples = 1\\nvalue = 1058.3'),\n",
              " Text(0.45425867507886436, 0.3409090909090909, 'squared_error = 0.0\\nsamples = 1\\nvalue = 1055.4'),\n",
              " Text(0.45786390265885535, 0.4318181818181818, 'x[5] <= 141.7\\nsquared_error = 10.24\\nsamples = 2\\nvalue = 1071.6'),\n",
              " Text(0.4560612888688598, 0.38636363636363635, 'squared_error = 0.0\\nsamples = 1\\nvalue = 1074.8'),\n",
              " Text(0.4596665164488508, 0.38636363636363635, 'squared_error = 0.0\\nsamples = 1\\nvalue = 1068.4'),\n",
              " Text(0.4668769716088328, 0.4772727272727273, 'x[3] <= 10.5\\nsquared_error = 10.497\\nsamples = 4\\nvalue = 1086.825'),\n",
              " Text(0.4650743578188373, 0.4318181818181818, 'x[15] <= 60.5\\nsquared_error = 2.549\\nsamples = 3\\nvalue = 1085.133'),\n",
              " Text(0.4632717440288418, 0.38636363636363635, 'squared_error = 0.0\\nsamples = 1\\nvalue = 1083.1'),\n",
              " Text(0.4668769716088328, 0.38636363636363635, 'x[1] <= 17.0\\nsquared_error = 0.723\\nsamples = 2\\nvalue = 1086.15'),\n",
              " Text(0.4650743578188373, 0.3409090909090909, 'squared_error = 0.0\\nsamples = 1\\nvalue = 1085.3'),\n",
              " Text(0.4686795853988283, 0.3409090909090909, 'squared_error = -0.0\\nsamples = 1\\nvalue = 1087.0'),\n",
              " Text(0.4686795853988283, 0.4318181818181818, 'squared_error = -0.0\\nsamples = 1\\nvalue = 1091.9'),\n",
              " Text(0.4889589905362776, 0.6590909090909091, 'x[12] <= 107.95\\nsquared_error = 3230.181\\nsamples = 14\\nvalue = 1144.793'),\n",
              " Text(0.480396575033799, 0.6136363636363636, 'x[11] <= 6.35\\nsquared_error = 923.15\\nsamples = 10\\nvalue = 1114.03'),\n",
              " Text(0.47408742676881477, 0.5681818181818182, 'x[6] <= 276.95\\nsquared_error = 386.087\\nsamples = 4\\nvalue = 1086.85'),\n",
              " Text(0.4722848129788193, 0.5227272727272727, 'squared_error = 0.0\\nsamples = 1\\nvalue = 1054.5'),\n",
              " Text(0.4758900405588103, 0.5227272727272727, 'x[14] <= 936.7\\nsquared_error = 49.662\\nsamples = 3\\nvalue = 1097.633'),\n",
              " Text(0.47408742676881477, 0.4772727272727273, 'x[14] <= 891.0\\nsquared_error = 4.41\\nsamples = 2\\nvalue = 1092.8'),\n",
              " Text(0.4722848129788193, 0.4318181818181818, 'squared_error = 0.0\\nsamples = 1\\nvalue = 1094.9'),\n",
              " Text(0.4758900405588103, 0.4318181818181818, 'squared_error = -0.0\\nsamples = 1\\nvalue = 1090.7'),\n",
              " Text(0.47769265434880576, 0.4772727272727273, 'squared_error = -0.0\\nsamples = 1\\nvalue = 1107.3'),\n",
              " Text(0.48670572329878325, 0.5681818181818182, 'x[4] <= 37.6\\nsquared_error = 460.356\\nsamples = 6\\nvalue = 1132.15'),\n",
              " Text(0.48310049571879227, 0.5227272727272727, 'x[7] <= 289.15\\nsquared_error = 14.287\\nsamples = 3\\nvalue = 1111.3'),\n",
              " Text(0.48129788192879674, 0.4772727272727273, 'squared_error = 0.0\\nsamples = 1\\nvalue = 1116.2'),\n",
              " Text(0.48490310950878773, 0.4772727272727273, 'x[1] <= 40.0\\nsquared_error = 3.423\\nsamples = 2\\nvalue = 1108.85'),\n",
              " Text(0.48310049571879227, 0.4318181818181818, 'squared_error = 0.0\\nsamples = 1\\nvalue = 1107.0'),\n",
              " Text(0.48670572329878325, 0.4318181818181818, 'squared_error = 0.0\\nsamples = 1\\nvalue = 1110.7'),\n",
              " Text(0.49031095087877424, 0.5227272727272727, 'x[8] <= 187.15\\nsquared_error = 36.98\\nsamples = 3\\nvalue = 1153.0'),\n",
              " Text(0.4885083370887787, 0.4772727272727273, 'squared_error = 0.0\\nsamples = 2\\nvalue = 1157.3'),\n",
              " Text(0.4921135646687697, 0.4772727272727273, 'squared_error = -0.0\\nsamples = 1\\nvalue = 1144.4'),\n",
              " Text(0.4975214060387562, 0.6136363636363636, 'x[12] <= 132.25\\nsquared_error = 717.165\\nsamples = 4\\nvalue = 1221.7'),\n",
              " Text(0.4957187922487607, 0.5681818181818182, 'x[3] <= 31.65\\nsquared_error = 44.18\\nsamples = 3\\nvalue = 1206.6'),\n",
              " Text(0.49391617845876523, 0.5227272727272727, 'squared_error = 0.0\\nsamples = 1\\nvalue = 1197.2'),\n",
              " Text(0.4975214060387562, 0.5227272727272727, 'squared_error = -0.0\\nsamples = 2\\nvalue = 1211.3'),\n",
              " Text(0.4993240198287517, 0.5681818181818182, 'squared_error = 0.0\\nsamples = 1\\nvalue = 1267.0'),\n",
              " Text(0.5209553853086976, 0.75, 'x[6] <= 104.45\\nsquared_error = 32161.957\\nsamples = 21\\nvalue = 1194.114'),\n",
              " Text(0.5128436232537179, 0.7045454545454546, 'x[13] <= 408.25\\nsquared_error = 11407.971\\nsamples = 7\\nvalue = 980.557'),\n",
              " Text(0.5083370887787292, 0.6590909090909091, 'x[6] <= 83.65\\nsquared_error = 3068.11\\nsamples = 5\\nvalue = 919.84'),\n",
              " Text(0.5047318611987381, 0.6136363636363636, 'x[5] <= 54.75\\nsquared_error = 441.716\\nsamples = 3\\nvalue = 877.233'),\n",
              " Text(0.5029292474087427, 0.5681818181818182, 'x[12] <= 82.35\\nsquared_error = 134.56\\nsamples = 2\\nvalue = 890.5'),\n",
              " Text(0.5011266336187472, 0.5227272727272727, 'squared_error = 0.0\\nsamples = 1\\nvalue = 902.1'),\n",
              " Text(0.5047318611987381, 0.5227272727272727, 'squared_error = 0.0\\nsamples = 1\\nvalue = 878.9'),\n",
              " Text(0.5065344749887337, 0.5681818181818182, 'squared_error = 0.0\\nsamples = 1\\nvalue = 850.7'),\n",
              " Text(0.5119423163587201, 0.6136363636363636, 'x[3] <= 83.7\\nsquared_error = 200.223\\nsamples = 2\\nvalue = 983.75'),\n",
              " Text(0.5101397025687247, 0.5681818181818182, 'squared_error = 0.0\\nsamples = 1\\nvalue = 997.9'),\n",
              " Text(0.5137449301487156, 0.5681818181818182, 'squared_error = -0.0\\nsamples = 1\\nvalue = 969.6'),\n",
              " Text(0.5173501577287066, 0.6590909090909091, 'x[6] <= 79.6\\nsquared_error = 0.123\\nsamples = 2\\nvalue = 1132.35'),\n",
              " Text(0.5155475439387112, 0.6136363636363636, 'squared_error = 0.0\\nsamples = 1\\nvalue = 1132.0'),\n",
              " Text(0.5191527715187021, 0.6136363636363636, 'squared_error = 0.0\\nsamples = 1\\nvalue = 1132.7'),\n",
              " Text(0.5290671473636773, 0.7045454545454546, 'x[2] <= 24.0\\nsquared_error = 8333.961\\nsamples = 14\\nvalue = 1300.893'),\n",
              " Text(0.5245606128886886, 0.6590909090909091, 'x[3] <= 38.5\\nsquared_error = 97.022\\nsamples = 2\\nvalue = 1130.55'),\n",
              " Text(0.5227579990986931, 0.6136363636363636, 'squared_error = 0.0\\nsamples = 1\\nvalue = 1140.4'),\n",
              " Text(0.5263632266786841, 0.6136363636363636, 'squared_error = -0.0\\nsamples = 1\\nvalue = 1120.7'),\n",
              " Text(0.533573681838666, 0.6590909090909091, 'x[6] <= 249.75\\nsquared_error = 4064.65\\nsamples = 12\\nvalue = 1329.283'),\n",
              " Text(0.5299684542586751, 0.6136363636363636, 'x[5] <= 56.9\\nsquared_error = 709.012\\nsamples = 10\\nvalue = 1308.88'),\n",
              " Text(0.5281658404686795, 0.5681818181818182, 'squared_error = 0.0\\nsamples = 1\\nvalue = 1248.8'),\n",
              " Text(0.5317710680486706, 0.5681818181818182, 'x[3] <= 105.3\\nsquared_error = 342.16\\nsamples = 9\\nvalue = 1315.556'),\n",
              " Text(0.5272645335736819, 0.5227272727272727, 'x[5] <= 280.7\\nsquared_error = 49.826\\nsamples = 5\\nvalue = 1299.92'),\n",
              " Text(0.5254619197836864, 0.4772727272727273, 'x[0] <= 16.55\\nsquared_error = 4.312\\nsamples = 4\\nvalue = 1303.325'),\n",
              " Text(0.5218566922036953, 0.4318181818181818, 'x[2] <= 43.75\\nsquared_error = 0.49\\nsamples = 2\\nvalue = 1305.2'),\n",
              " Text(0.5200540784136999, 0.38636363636363635, 'squared_error = 0.0\\nsamples = 1\\nvalue = 1304.5'),\n",
              " Text(0.5236593059936908, 0.38636363636363635, 'squared_error = 0.0\\nsamples = 1\\nvalue = 1305.9'),\n",
              " Text(0.5290671473636773, 0.4318181818181818, 'x[10] <= 114.75\\nsquared_error = 1.103\\nsamples = 2\\nvalue = 1301.45'),\n",
              " Text(0.5272645335736819, 0.38636363636363635, 'squared_error = 0.0\\nsamples = 1\\nvalue = 1300.4'),\n",
              " Text(0.5308697611536728, 0.38636363636363635, 'squared_error = 0.0\\nsamples = 1\\nvalue = 1302.5'),\n",
              " Text(0.5290671473636773, 0.4772727272727273, 'squared_error = -0.0\\nsamples = 1\\nvalue = 1286.3'),\n",
              " Text(0.5362776025236593, 0.5227272727272727, 'x[1] <= 176.3\\nsquared_error = 20.005\\nsamples = 4\\nvalue = 1335.1'),\n",
              " Text(0.5344749887336638, 0.4772727272727273, 'x[8] <= 139.75\\nsquared_error = 6.722\\nsamples = 3\\nvalue = 1337.333'),\n",
              " Text(0.5326723749436684, 0.4318181818181818, 'squared_error = 0.0\\nsamples = 2\\nvalue = 1335.5'),\n",
              " Text(0.5362776025236593, 0.4318181818181818, 'squared_error = 0.0\\nsamples = 1\\nvalue = 1341.0'),\n",
              " Text(0.5380802163136548, 0.4772727272727273, 'squared_error = 0.0\\nsamples = 1\\nvalue = 1328.4'),\n",
              " Text(0.5371789094186571, 0.6136363636363636, 'x[9] <= 140.0\\nsquared_error = 8353.96\\nsamples = 2\\nvalue = 1431.3'),\n",
              " Text(0.5353762956286615, 0.5681818181818182, 'squared_error = 0.0\\nsamples = 1\\nvalue = 1339.9'),\n",
              " Text(0.5389815232086526, 0.5681818181818182, 'squared_error = -0.0\\nsamples = 1\\nvalue = 1522.7'),\n",
              " Text(0.7794333032897701, 0.8863636363636364, 'x[5] <= 247.3\\nsquared_error = 85456.568\\nsamples = 158\\nvalue = 1470.556'),\n",
              " Text(0.7128210905813429, 0.8409090909090909, 'x[14] <= 1258.2\\nsquared_error = 36518.269\\nsamples = 119\\nvalue = 1344.237'),\n",
              " Text(0.6369986480396576, 0.7954545454545454, 'x[2] <= 12.8\\nsquared_error = 17092.357\\nsamples = 102\\nvalue = 1292.76'),\n",
              " Text(0.5875394321766562, 0.75, 'x[6] <= 358.8\\nsquared_error = 4374.938\\nsamples = 42\\nvalue = 1178.274'),\n",
              " Text(0.5716538981523208, 0.7045454545454546, 'x[3] <= 12.85\\nsquared_error = 840.349\\nsamples = 30\\nvalue = 1146.307'),\n",
              " Text(0.5601622352410996, 0.6590909090909091, 'x[14] <= 1021.8\\nsquared_error = 622.536\\nsamples = 24\\nvalue = 1138.662'),\n",
              " Text(0.5497972059486255, 0.6136363636363636, 'x[4] <= 21.3\\nsquared_error = 303.126\\nsamples = 13\\nvalue = 1122.223'),\n",
              " Text(0.5452906714736367, 0.5681818181818182, 'x[7] <= 354.3\\nsquared_error = 197.886\\nsamples = 8\\nvalue = 1112.488'),\n",
              " Text(0.5434880576836413, 0.5227272727272727, 'x[6] <= 309.2\\nsquared_error = 100.997\\nsamples = 7\\nvalue = 1116.443'),\n",
              " Text(0.5416854438936458, 0.4772727272727273, 'squared_error = 0.0\\nsamples = 1\\nvalue = 1095.9'),\n",
              " Text(0.5452906714736367, 0.4772727272727273, 'x[10] <= 4.2\\nsquared_error = 35.772\\nsamples = 6\\nvalue = 1119.867'),\n",
              " Text(0.540784136998648, 0.4318181818181818, 'x[3] <= 4.8\\nsquared_error = 2.89\\nsamples = 2\\nvalue = 1112.3'),\n",
              " Text(0.5389815232086526, 0.38636363636363635, 'squared_error = 0.0\\nsamples = 1\\nvalue = 1114.0'),\n",
              " Text(0.5425867507886435, 0.38636363636363635, 'squared_error = 0.0\\nsamples = 1\\nvalue = 1110.6'),\n",
              " Text(0.5497972059486255, 0.4318181818181818, 'x[1] <= 11.85\\nsquared_error = 9.272\\nsamples = 4\\nvalue = 1123.65'),\n",
              " Text(0.5461919783686345, 0.38636363636363635, 'x[4] <= 18.7\\nsquared_error = 0.422\\nsamples = 2\\nvalue = 1120.65'),\n",
              " Text(0.5443893645786391, 0.3409090909090909, 'squared_error = 0.0\\nsamples = 1\\nvalue = 1120.0'),\n",
              " Text(0.54799459215863, 0.3409090909090909, 'squared_error = -0.0\\nsamples = 1\\nvalue = 1121.3'),\n",
              " Text(0.5534024335286165, 0.38636363636363635, 'x[3] <= 4.45\\nsquared_error = 0.122\\nsamples = 2\\nvalue = 1126.65'),\n",
              " Text(0.551599819738621, 0.3409090909090909, 'squared_error = 0.0\\nsamples = 1\\nvalue = 1127.0'),\n",
              " Text(0.555205047318612, 0.3409090909090909, 'squared_error = -0.0\\nsamples = 1\\nvalue = 1126.3'),\n",
              " Text(0.5470932852636322, 0.5227272727272727, 'squared_error = 0.0\\nsamples = 1\\nvalue = 1084.8'),\n",
              " Text(0.5543037404236142, 0.5681818181818182, 'x[3] <= 9.15\\nsquared_error = 77.22\\nsamples = 5\\nvalue = 1137.8'),\n",
              " Text(0.5506985128436233, 0.5227272727272727, 'x[1] <= 13.2\\nsquared_error = 2.102\\nsamples = 2\\nvalue = 1147.15'),\n",
              " Text(0.5488958990536278, 0.4772727272727273, 'squared_error = 0.0\\nsamples = 1\\nvalue = 1145.7'),\n",
              " Text(0.5525011266336187, 0.4772727272727273, 'squared_error = -0.0\\nsamples = 1\\nvalue = 1148.6'),\n",
              " Text(0.5579089680036052, 0.5227272727272727, 'x[15] <= 70.15\\nsquared_error = 30.162\\nsamples = 3\\nvalue = 1131.567'),\n",
              " Text(0.5561063542136098, 0.4772727272727273, 'x[7] <= 296.0\\nsquared_error = 0.003\\nsamples = 2\\nvalue = 1135.45'),\n",
              " Text(0.5543037404236142, 0.4318181818181818, 'squared_error = 0.0\\nsamples = 1\\nvalue = 1135.4'),\n",
              " Text(0.5579089680036052, 0.4318181818181818, 'squared_error = 0.0\\nsamples = 1\\nvalue = 1135.5'),\n",
              " Text(0.5597115817936007, 0.4772727272727273, 'squared_error = -0.0\\nsamples = 1\\nvalue = 1123.8'),\n",
              " Text(0.5705272645335737, 0.6136363636363636, 'x[3] <= 2.35\\nsquared_error = 303.164\\nsamples = 11\\nvalue = 1158.091'),\n",
              " Text(0.5669220369535827, 0.5681818181818182, 'x[15] <= 58.65\\nsquared_error = 80.045\\nsamples = 4\\nvalue = 1142.1'),\n",
              " Text(0.5651194231635872, 0.5227272727272727, 'x[9] <= 32.2\\nsquared_error = 22.087\\nsamples = 3\\nvalue = 1146.7'),\n",
              " Text(0.5633168093735917, 0.4772727272727273, 'x[2] <= 7.45\\nsquared_error = 7.022\\nsamples = 2\\nvalue = 1143.75'),\n",
              " Text(0.5615141955835962, 0.4318181818181818, 'squared_error = 0.0\\nsamples = 1\\nvalue = 1146.4'),\n",
              " Text(0.5651194231635872, 0.4318181818181818, 'squared_error = 0.0\\nsamples = 1\\nvalue = 1141.1'),\n",
              " Text(0.5669220369535827, 0.4772727272727273, 'squared_error = 0.0\\nsamples = 1\\nvalue = 1152.6'),\n",
              " Text(0.5687246507435781, 0.5227272727272727, 'squared_error = -0.0\\nsamples = 1\\nvalue = 1128.3'),\n",
              " Text(0.5741324921135647, 0.5681818181818182, 'x[6] <= 333.9\\nsquared_error = 201.045\\nsamples = 7\\nvalue = 1167.229'),\n",
              " Text(0.5723298783235692, 0.5227272727272727, 'squared_error = 0.0\\nsamples = 1\\nvalue = 1141.3'),\n",
              " Text(0.5759351059035601, 0.5227272727272727, 'x[14] <= 1081.2\\nsquared_error = 103.829\\nsamples = 6\\nvalue = 1171.55'),\n",
              " Text(0.5741324921135647, 0.4772727272727273, 'x[15] <= 68.8\\nsquared_error = 20.262\\nsamples = 5\\nvalue = 1167.38'),\n",
              " Text(0.5723298783235692, 0.4318181818181818, 'x[8] <= 202.5\\nsquared_error = 8.765\\nsamples = 4\\nvalue = 1169.2'),\n",
              " Text(0.5705272645335737, 0.38636363636363635, 'squared_error = 0.0\\nsamples = 1\\nvalue = 1164.6'),\n",
              " Text(0.5741324921135647, 0.38636363636363635, 'x[2] <= 11.3\\nsquared_error = 2.282\\nsamples = 3\\nvalue = 1170.733'),\n",
              " Text(0.5723298783235692, 0.3409090909090909, 'x[8] <= 222.15\\nsquared_error = 0.01\\nsamples = 2\\nvalue = 1171.8'),\n",
              " Text(0.5705272645335737, 0.29545454545454547, 'squared_error = 0.0\\nsamples = 1\\nvalue = 1171.7'),\n",
              " Text(0.5741324921135647, 0.29545454545454547, 'squared_error = -0.0\\nsamples = 1\\nvalue = 1171.9'),\n",
              " Text(0.5759351059035601, 0.3409090909090909, 'squared_error = 0.0\\nsamples = 1\\nvalue = 1168.6'),\n",
              " Text(0.5759351059035601, 0.4318181818181818, 'squared_error = -0.0\\nsamples = 1\\nvalue = 1160.1'),\n",
              " Text(0.5777377196935557, 0.4772727272727273, 'squared_error = 0.0\\nsamples = 1\\nvalue = 1192.4'),\n",
              " Text(0.5831455610635421, 0.6590909090909091, 'x[12] <= 22.35\\nsquared_error = 542.935\\nsamples = 6\\nvalue = 1176.883'),\n",
              " Text(0.5795403334835512, 0.6136363636363636, 'x[1] <= 7.95\\nsquared_error = 14.823\\nsamples = 2\\nvalue = 1150.65'),\n",
              " Text(0.5777377196935557, 0.5681818181818182, 'squared_error = 0.0\\nsamples = 1\\nvalue = 1146.8'),\n",
              " Text(0.5813429472735466, 0.5681818181818182, 'squared_error = -0.0\\nsamples = 1\\nvalue = 1154.5'),\n",
              " Text(0.5867507886435331, 0.6136363636363636, 'x[14] <= 976.75\\nsquared_error = 290.85\\nsamples = 4\\nvalue = 1190.0'),\n",
              " Text(0.5849481748535377, 0.5681818181818182, 'squared_error = 0.0\\nsamples = 1\\nvalue = 1162.1'),\n",
              " Text(0.5885534024335286, 0.5681818181818182, 'x[10] <= 7.75\\nsquared_error = 41.84\\nsamples = 3\\nvalue = 1199.3'),\n",
              " Text(0.5867507886435331, 0.5227272727272727, 'x[4] <= 45.9\\nsquared_error = 7.29\\nsamples = 2\\nvalue = 1195.0'),\n",
              " Text(0.5849481748535377, 0.4772727272727273, 'squared_error = 0.0\\nsamples = 1\\nvalue = 1192.3'),\n",
              " Text(0.5885534024335286, 0.4772727272727273, 'squared_error = 0.0\\nsamples = 1\\nvalue = 1197.7'),\n",
              " Text(0.5903560162235241, 0.5227272727272727, 'squared_error = 0.0\\nsamples = 1\\nvalue = 1207.9'),\n",
              " Text(0.6034249662009914, 0.7045454545454546, 'x[5] <= 165.65\\nsquared_error = 4269.801\\nsamples = 12\\nvalue = 1258.192'),\n",
              " Text(0.5957638575935106, 0.6590909090909091, 'x[11] <= 9.95\\nsquared_error = 1175.366\\nsamples = 5\\nvalue = 1189.84'),\n",
              " Text(0.5939612438035151, 0.6136363636363636, 'x[15] <= 43.6\\nsquared_error = 415.782\\nsamples = 4\\nvalue = 1175.325'),\n",
              " Text(0.5921586300135196, 0.5681818181818182, 'squared_error = 0.0\\nsamples = 1\\nvalue = 1143.7'),\n",
              " Text(0.5957638575935106, 0.5681818181818182, 'x[2] <= 6.8\\nsquared_error = 109.869\\nsamples = 3\\nvalue = 1185.867'),\n",
              " Text(0.5939612438035151, 0.5227272727272727, 'squared_error = 0.0\\nsamples = 1\\nvalue = 1200.5'),\n",
              " Text(0.597566471383506, 0.5227272727272727, 'x[3] <= 10.1\\nsquared_error = 4.202\\nsamples = 2\\nvalue = 1178.55'),\n",
              " Text(0.5957638575935106, 0.4772727272727273, 'squared_error = 0.0\\nsamples = 1\\nvalue = 1180.6'),\n",
              " Text(0.5993690851735016, 0.4772727272727273, 'squared_error = 0.0\\nsamples = 1\\nvalue = 1176.5'),\n",
              " Text(0.597566471383506, 0.6136363636363636, 'squared_error = 0.0\\nsamples = 1\\nvalue = 1247.9'),\n",
              " Text(0.6110860748084723, 0.6590909090909091, 'x[8] <= 237.2\\nsquared_error = 759.356\\nsamples = 7\\nvalue = 1307.014'),\n",
              " Text(0.6065795403334836, 0.6136363636363636, 'x[1] <= 8.6\\nsquared_error = 201.647\\nsamples = 4\\nvalue = 1285.375'),\n",
              " Text(0.6029743127534926, 0.5681818181818182, 'x[6] <= 446.15\\nsquared_error = 33.64\\nsamples = 2\\nvalue = 1298.9'),\n",
              " Text(0.6011716989634971, 0.5227272727272727, 'squared_error = 0.0\\nsamples = 1\\nvalue = 1293.1'),\n",
              " Text(0.604776926543488, 0.5227272727272727, 'squared_error = -0.0\\nsamples = 1\\nvalue = 1304.7'),\n",
              " Text(0.6101847679134745, 0.5681818181818182, 'x[6] <= 374.15\\nsquared_error = 3.803\\nsamples = 2\\nvalue = 1271.85'),\n",
              " Text(0.6083821541234791, 0.5227272727272727, 'squared_error = 0.0\\nsamples = 1\\nvalue = 1269.9'),\n",
              " Text(0.61198738170347, 0.5227272727272727, 'squared_error = 0.0\\nsamples = 1\\nvalue = 1273.8'),\n",
              " Text(0.615592609283461, 0.6136363636363636, 'x[10] <= 4.6\\nsquared_error = 46.162\\nsamples = 3\\nvalue = 1335.867'),\n",
              " Text(0.6137899954934656, 0.5681818181818182, 'squared_error = 0.0\\nsamples = 1\\nvalue = 1326.6'),\n",
              " Text(0.6173952230734565, 0.5681818181818182, 'x[10] <= 5.7\\nsquared_error = 4.84\\nsamples = 2\\nvalue = 1340.5'),\n",
              " Text(0.615592609283461, 0.5227272727272727, 'squared_error = 0.0\\nsamples = 1\\nvalue = 1342.7'),\n",
              " Text(0.619197836863452, 0.5227272727272727, 'squared_error = -0.0\\nsamples = 1\\nvalue = 1338.3'),\n",
              " Text(0.6864578639026588, 0.75, 'x[14] <= 1066.45\\nsquared_error = 10397.169\\nsamples = 60\\nvalue = 1372.9'),\n",
              " Text(0.64398377647589, 0.7045454545454546, 'x[13] <= 98.6\\nsquared_error = 5618.571\\nsamples = 16\\nvalue = 1268.244'),\n",
              " Text(0.630013519603425, 0.6590909090909091, 'x[3] <= 15.1\\nsquared_error = 1443.817\\nsamples = 9\\nvalue = 1215.878'),\n",
              " Text(0.622803064443443, 0.6136363636363636, 'x[15] <= 61.45\\nsquared_error = 558.496\\nsamples = 3\\nvalue = 1177.233'),\n",
              " Text(0.6210004506534474, 0.5681818181818182, 'squared_error = 0.0\\nsamples = 1\\nvalue = 1143.9'),\n",
              " Text(0.6246056782334385, 0.5681818181818182, 'x[9] <= 63.1\\nsquared_error = 4.41\\nsamples = 2\\nvalue = 1193.9'),\n",
              " Text(0.622803064443443, 0.5227272727272727, 'squared_error = 0.0\\nsamples = 1\\nvalue = 1191.8'),\n",
              " Text(0.626408292023434, 0.5227272727272727, 'squared_error = -0.0\\nsamples = 1\\nvalue = 1196.0'),\n",
              " Text(0.637223974763407, 0.6136363636363636, 'x[10] <= 11.15\\nsquared_error = 766.433\\nsamples = 6\\nvalue = 1235.2'),\n",
              " Text(0.6318161333934205, 0.5681818181818182, 'x[4] <= 26.55\\nsquared_error = 72.847\\nsamples = 3\\nvalue = 1256.4'),\n",
              " Text(0.630013519603425, 0.5227272727272727, 'squared_error = 0.0\\nsamples = 1\\nvalue = 1268.2'),\n",
              " Text(0.6336187471834159, 0.5227272727272727, 'x[10] <= 8.6\\nsquared_error = 4.84\\nsamples = 2\\nvalue = 1250.5'),\n",
              " Text(0.6318161333934205, 0.4772727272727273, 'squared_error = 0.0\\nsamples = 1\\nvalue = 1252.7'),\n",
              " Text(0.6354213609734114, 0.4772727272727273, 'squared_error = -0.0\\nsamples = 1\\nvalue = 1248.3'),\n",
              " Text(0.6426318161333934, 0.5681818181818182, 'x[9] <= 69.3\\nsquared_error = 561.14\\nsamples = 3\\nvalue = 1214.0'),\n",
              " Text(0.6408292023433979, 0.5227272727272727, 'x[14] <= 1011.1\\nsquared_error = 0.022\\nsamples = 2\\nvalue = 1197.25'),\n",
              " Text(0.6390265885534024, 0.4772727272727273, 'squared_error = 0.0\\nsamples = 1\\nvalue = 1197.1'),\n",
              " Text(0.6426318161333934, 0.4772727272727273, 'squared_error = 0.0\\nsamples = 1\\nvalue = 1197.4'),\n",
              " Text(0.644434429923389, 0.5227272727272727, 'squared_error = 0.0\\nsamples = 1\\nvalue = 1247.5'),\n",
              " Text(0.6579540333483551, 0.6590909090909091, 'x[1] <= 27.45\\nsquared_error = 2927.416\\nsamples = 7\\nvalue = 1335.571'),\n",
              " Text(0.6534474988733664, 0.6136363636363636, 'x[6] <= 293.9\\nsquared_error = 657.65\\nsamples = 5\\nvalue = 1305.46'),\n",
              " Text(0.6498422712933754, 0.5681818181818182, 'x[1] <= 18.0\\nsquared_error = 241.802\\nsamples = 2\\nvalue = 1277.15'),\n",
              " Text(0.6480396575033799, 0.5227272727272727, 'squared_error = 0.0\\nsamples = 1\\nvalue = 1261.6'),\n",
              " Text(0.6516448850833709, 0.5227272727272727, 'squared_error = -0.0\\nsamples = 1\\nvalue = 1292.7'),\n",
              " Text(0.6570527264533573, 0.5681818181818182, 'x[0] <= 11.35\\nsquared_error = 44.376\\nsamples = 3\\nvalue = 1324.333'),\n",
              " Text(0.6552501126633619, 0.5227272727272727, 'squared_error = 0.0\\nsamples = 1\\nvalue = 1315.2'),\n",
              " Text(0.6588553402433529, 0.5227272727272727, 'x[3] <= 46.15\\nsquared_error = 4.0\\nsamples = 2\\nvalue = 1328.9'),\n",
              " Text(0.6570527264533573, 0.4772727272727273, 'squared_error = 0.0\\nsamples = 1\\nvalue = 1330.9'),\n",
              " Text(0.6606579540333484, 0.4772727272727273, 'squared_error = 0.0\\nsamples = 1\\nvalue = 1326.9'),\n",
              " Text(0.6624605678233438, 0.6136363636363636, 'x[12] <= 77.4\\nsquared_error = 668.222\\nsamples = 2\\nvalue = 1410.85'),\n",
              " Text(0.6606579540333484, 0.5681818181818182, 'squared_error = 0.0\\nsamples = 1\\nvalue = 1436.7'),\n",
              " Text(0.6642631816133393, 0.5681818181818182, 'squared_error = 0.0\\nsamples = 1\\nvalue = 1385.0'),\n",
              " Text(0.7289319513294277, 0.7045454545454546, 'x[2] <= 25.65\\nsquared_error = 6703.636\\nsamples = 44\\nvalue = 1410.957'),\n",
              " Text(0.7011041009463722, 0.6590909090909091, 'x[8] <= 228.55\\nsquared_error = 2548.362\\nsamples = 30\\nvalue = 1368.967'),\n",
              " Text(0.6802613789995493, 0.6136363636363636, 'x[14] <= 1145.7\\nsquared_error = 1594.407\\nsamples = 16\\nvalue = 1337.712'),\n",
              " Text(0.6696710229833258, 0.5681818181818182, 'x[9] <= 85.8\\nsquared_error = 1019.556\\nsamples = 6\\nvalue = 1301.85'),\n",
              " Text(0.6678684091933303, 0.5227272727272727, 'x[12] <= 26.35\\nsquared_error = 355.142\\nsamples = 5\\nvalue = 1289.82'),\n",
              " Text(0.6642631816133393, 0.4772727272727273, 'x[9] <= 58.15\\nsquared_error = 12.603\\nsamples = 2\\nvalue = 1268.45'),\n",
              " Text(0.6624605678233438, 0.4318181818181818, 'squared_error = 0.0\\nsamples = 1\\nvalue = 1264.9'),\n",
              " Text(0.6660657954033349, 0.4318181818181818, 'squared_error = 0.0\\nsamples = 1\\nvalue = 1272.0'),\n",
              " Text(0.6714736367733213, 0.4772727272727273, 'x[11] <= 10.65\\nsquared_error = 76.082\\nsamples = 3\\nvalue = 1304.067'),\n",
              " Text(0.6696710229833258, 0.4318181818181818, 'x[13] <= 80.65\\nsquared_error = 17.223\\nsamples = 2\\nvalue = 1309.75'),\n",
              " Text(0.6678684091933303, 0.38636363636363635, 'squared_error = 0.0\\nsamples = 1\\nvalue = 1313.9'),\n",
              " Text(0.6714736367733213, 0.38636363636363635, 'squared_error = 0.0\\nsamples = 1\\nvalue = 1305.6'),\n",
              " Text(0.6732762505633169, 0.4318181818181818, 'squared_error = -0.0\\nsamples = 1\\nvalue = 1292.7'),\n",
              " Text(0.6714736367733213, 0.5227272727272727, 'squared_error = 0.0\\nsamples = 1\\nvalue = 1362.0'),\n",
              " Text(0.6908517350157729, 0.5681818181818182, 'x[7] <= 425.0\\nsquared_error = 704.644\\nsamples = 10\\nvalue = 1359.23'),\n",
              " Text(0.6849932401982876, 0.5227272727272727, 'x[2] <= 15.2\\nsquared_error = 338.567\\nsamples = 8\\nvalue = 1348.85'),\n",
              " Text(0.6786840919333033, 0.4772727272727273, 'x[12] <= 29.5\\nsquared_error = 79.896\\nsamples = 3\\nvalue = 1328.133'),\n",
              " Text(0.6768814781433078, 0.4318181818181818, 'squared_error = 0.0\\nsamples = 1\\nvalue = 1315.8'),\n",
              " Text(0.6804867057232988, 0.4318181818181818, 'x[9] <= 43.95\\nsquared_error = 5.76\\nsamples = 2\\nvalue = 1334.3'),\n",
              " Text(0.6786840919333033, 0.38636363636363635, 'squared_error = 0.0\\nsamples = 1\\nvalue = 1336.7'),\n",
              " Text(0.6822893195132943, 0.38636363636363635, 'squared_error = -0.0\\nsamples = 1\\nvalue = 1331.9'),\n",
              " Text(0.6913023884632717, 0.4772727272727273, 'x[10] <= 9.75\\nsquared_error = 81.758\\nsamples = 5\\nvalue = 1361.28'),\n",
              " Text(0.6876971608832808, 0.4318181818181818, 'x[14] <= 1175.35\\nsquared_error = 11.222\\nsamples = 2\\nvalue = 1351.15'),\n",
              " Text(0.6858945470932852, 0.38636363636363635, 'squared_error = 0.0\\nsamples = 1\\nvalue = 1354.5'),\n",
              " Text(0.6894997746732763, 0.38636363636363635, 'squared_error = -0.0\\nsamples = 1\\nvalue = 1347.8'),\n",
              " Text(0.6949076160432627, 0.4318181818181818, 'x[4] <= 38.05\\nsquared_error = 14.762\\nsamples = 3\\nvalue = 1368.033'),\n",
              " Text(0.6931050022532672, 0.38636363636363635, 'x[1] <= 13.55\\nsquared_error = 0.003\\nsamples = 2\\nvalue = 1370.75'),\n",
              " Text(0.6913023884632717, 0.3409090909090909, 'squared_error = 0.0\\nsamples = 1\\nvalue = 1370.7'),\n",
              " Text(0.6949076160432627, 0.3409090909090909, 'squared_error = -0.0\\nsamples = 1\\nvalue = 1370.8'),\n",
              " Text(0.6967102298332583, 0.38636363636363635, 'squared_error = 0.0\\nsamples = 1\\nvalue = 1362.6'),\n",
              " Text(0.6967102298332583, 0.5227272727272727, 'x[7] <= 434.1\\nsquared_error = 14.062\\nsamples = 2\\nvalue = 1400.75'),\n",
              " Text(0.6949076160432627, 0.4772727272727273, 'squared_error = 0.0\\nsamples = 1\\nvalue = 1404.5'),\n",
              " Text(0.6985128436232537, 0.4772727272727273, 'squared_error = 0.0\\nsamples = 1\\nvalue = 1397.0'),\n",
              " Text(0.7219468228931951, 0.6136363636363636, 'x[10] <= 12.55\\nsquared_error = 1246.376\\nsamples = 14\\nvalue = 1404.686'),\n",
              " Text(0.7102298332582244, 0.5681818181818182, 'x[4] <= 48.95\\nsquared_error = 266.394\\nsamples = 8\\nvalue = 1383.788'),\n",
              " Text(0.7057232987832357, 0.5227272727272727, 'x[2] <= 20.1\\nsquared_error = 25.037\\nsamples = 4\\nvalue = 1395.725'),\n",
              " Text(0.7039206849932402, 0.4772727272727273, 'x[4] <= 33.3\\nsquared_error = 8.549\\nsamples = 3\\nvalue = 1393.233'),\n",
              " Text(0.7021180712032447, 0.4318181818181818, 'x[5] <= 184.95\\nsquared_error = 0.01\\nsamples = 2\\nvalue = 1395.3'),\n",
              " Text(0.7003154574132492, 0.38636363636363635, 'squared_error = 0.0\\nsamples = 1\\nvalue = 1395.4'),\n",
              " Text(0.7039206849932402, 0.38636363636363635, 'squared_error = -0.0\\nsamples = 1\\nvalue = 1395.2'),\n",
              " Text(0.7057232987832357, 0.4318181818181818, 'squared_error = -0.0\\nsamples = 1\\nvalue = 1389.1'),\n",
              " Text(0.7075259125732312, 0.4772727272727273, 'squared_error = 0.0\\nsamples = 1\\nvalue = 1403.2'),\n",
              " Text(0.7147363677332131, 0.5227272727272727, 'x[13] <= 104.9\\nsquared_error = 222.742\\nsamples = 4\\nvalue = 1371.85'),\n",
              " Text(0.7111311401532222, 0.4772727272727273, 'x[8] <= 260.75\\nsquared_error = 4.84\\nsamples = 2\\nvalue = 1357.4'),\n",
              " Text(0.7093285263632266, 0.4318181818181818, 'squared_error = 0.0\\nsamples = 1\\nvalue = 1359.6'),\n",
              " Text(0.7129337539432177, 0.4318181818181818, 'squared_error = -0.0\\nsamples = 1\\nvalue = 1355.2'),\n",
              " Text(0.7183415953132042, 0.4772727272727273, 'x[3] <= 30.05\\nsquared_error = 23.04\\nsamples = 2\\nvalue = 1386.3'),\n",
              " Text(0.7165389815232086, 0.4318181818181818, 'squared_error = 0.0\\nsamples = 1\\nvalue = 1381.5'),\n",
              " Text(0.7201442091031997, 0.4318181818181818, 'squared_error = 0.0\\nsamples = 1\\nvalue = 1391.1'),\n",
              " Text(0.7336638125281658, 0.5681818181818182, 'x[1] <= 20.55\\nsquared_error = 1194.286\\nsamples = 6\\nvalue = 1432.55'),\n",
              " Text(0.7291572780531771, 0.5227272727272727, 'x[10] <= 13.3\\nsquared_error = 139.457\\nsamples = 4\\nvalue = 1409.125'),\n",
              " Text(0.7255520504731862, 0.4772727272727273, 'x[9] <= 85.4\\nsquared_error = 0.903\\nsamples = 2\\nvalue = 1420.35'),\n",
              " Text(0.7237494366831906, 0.4318181818181818, 'squared_error = 0.0\\nsamples = 1\\nvalue = 1421.3'),\n",
              " Text(0.7273546642631816, 0.4318181818181818, 'squared_error = 0.0\\nsamples = 1\\nvalue = 1419.4'),\n",
              " Text(0.7327625056331681, 0.4772727272727273, 'x[11] <= 5.2\\nsquared_error = 26.01\\nsamples = 2\\nvalue = 1397.9'),\n",
              " Text(0.7309598918431726, 0.4318181818181818, 'squared_error = 0.0\\nsamples = 1\\nvalue = 1403.0'),\n",
              " Text(0.7345651194231636, 0.4318181818181818, 'squared_error = -0.0\\nsamples = 1\\nvalue = 1392.8'),\n",
              " Text(0.7381703470031545, 0.5227272727272727, 'x[8] <= 281.7\\nsquared_error = 11.56\\nsamples = 2\\nvalue = 1479.4'),\n",
              " Text(0.7363677332131591, 0.4772727272727273, 'squared_error = 0.0\\nsamples = 1\\nvalue = 1482.8'),\n",
              " Text(0.7399729607931501, 0.4772727272727273, 'squared_error = -0.0\\nsamples = 1\\nvalue = 1476.0'),\n",
              " Text(0.7567598017124831, 0.6590909090909091, 'x[13] <= 202.8\\nsquared_error = 3733.367\\nsamples = 14\\nvalue = 1500.936'),\n",
              " Text(0.7505633168093736, 0.6136363636363636, 'x[6] <= 299.05\\nsquared_error = 1892.695\\nsamples = 12\\nvalue = 1482.283'),\n",
              " Text(0.743578188373141, 0.5681818181818182, 'x[14] <= 1079.2\\nsquared_error = 557.262\\nsamples = 3\\nvalue = 1537.667'),\n",
              " Text(0.7417755745831456, 0.5227272727272727, 'squared_error = 0.0\\nsamples = 1\\nvalue = 1507.4'),\n",
              " Text(0.7453808021631365, 0.5227272727272727, 'x[7] <= 361.6\\nsquared_error = 148.84\\nsamples = 2\\nvalue = 1552.8'),\n",
              " Text(0.743578188373141, 0.4772727272727273, 'squared_error = 0.0\\nsamples = 1\\nvalue = 1565.0'),\n",
              " Text(0.7471834159531321, 0.4772727272727273, 'squared_error = -0.0\\nsamples = 1\\nvalue = 1540.6'),\n",
              " Text(0.7575484452456062, 0.5681818181818182, 'x[14] <= 1083.45\\nsquared_error = 974.588\\nsamples = 9\\nvalue = 1463.822'),\n",
              " Text(0.7525912573231185, 0.5227272727272727, 'x[7] <= 328.15\\nsquared_error = 22.563\\nsamples = 2\\nvalue = 1423.45'),\n",
              " Text(0.750788643533123, 0.4772727272727273, 'squared_error = 0.0\\nsamples = 1\\nvalue = 1418.7'),\n",
              " Text(0.7543938711131141, 0.4772727272727273, 'squared_error = 0.0\\nsamples = 1\\nvalue = 1428.2'),\n",
              " Text(0.7625056331680937, 0.5227272727272727, 'x[13] <= 143.65\\nsquared_error = 647.851\\nsamples = 7\\nvalue = 1475.357'),\n",
              " Text(0.757999098693105, 0.4772727272727273, 'x[11] <= 4.35\\nsquared_error = 84.398\\nsamples = 5\\nvalue = 1460.18'),\n",
              " Text(0.7543938711131141, 0.4318181818181818, 'x[8] <= 236.2\\nsquared_error = 0.81\\nsamples = 2\\nvalue = 1449.2'),\n",
              " Text(0.7525912573231185, 0.38636363636363635, 'squared_error = 0.0\\nsamples = 1\\nvalue = 1448.3'),\n",
              " Text(0.7561964849031095, 0.38636363636363635, 'squared_error = 0.0\\nsamples = 1\\nvalue = 1450.1'),\n",
              " Text(0.761604326273096, 0.4318181818181818, 'x[6] <= 384.15\\nsquared_error = 6.167\\nsamples = 3\\nvalue = 1467.5'),\n",
              " Text(0.7598017124831005, 0.38636363636363635, 'x[11] <= 5.55\\nsquared_error = 0.062\\nsamples = 2\\nvalue = 1469.25'),\n",
              " Text(0.757999098693105, 0.3409090909090909, 'squared_error = 0.0\\nsamples = 1\\nvalue = 1469.0'),\n",
              " Text(0.761604326273096, 0.3409090909090909, 'squared_error = 0.0\\nsamples = 1\\nvalue = 1469.5'),\n",
              " Text(0.7634069400630915, 0.38636363636363635, 'squared_error = 0.0\\nsamples = 1\\nvalue = 1464.0'),\n",
              " Text(0.7670121676430824, 0.4772727272727273, 'x[5] <= 193.65\\nsquared_error = 40.96\\nsamples = 2\\nvalue = 1513.3'),\n",
              " Text(0.765209553853087, 0.4318181818181818, 'squared_error = 0.0\\nsamples = 1\\nvalue = 1506.9'),\n",
              " Text(0.7688147814330779, 0.4318181818181818, 'squared_error = 0.0\\nsamples = 1\\nvalue = 1519.7'),\n",
              " Text(0.7629562866155926, 0.6136363636363636, 'x[14] <= 1180.0\\nsquared_error = 165.123\\nsamples = 2\\nvalue = 1612.85'),\n",
              " Text(0.7611536728255971, 0.5681818181818182, 'squared_error = 0.0\\nsamples = 1\\nvalue = 1625.7'),\n",
              " Text(0.7647589004055881, 0.5681818181818182, 'squared_error = 0.0\\nsamples = 1\\nvalue = 1600.0'),\n",
              " Text(0.7886435331230284, 0.7954545454545454, 'x[2] <= 61.3\\nsquared_error = 41777.981\\nsamples = 17\\nvalue = 1653.1'),\n",
              " Text(0.7818837314105452, 0.75, 'x[3] <= 19.6\\nsquared_error = 7521.179\\nsamples = 14\\nvalue = 1566.779'),\n",
              " Text(0.7737719693555656, 0.7045454545454546, 'x[14] <= 1325.8\\nsquared_error = 3074.681\\nsamples = 6\\nvalue = 1487.983'),\n",
              " Text(0.7683641279855791, 0.6590909090909091, 'x[13] <= 31.8\\nsquared_error = 1130.96\\nsamples = 3\\nvalue = 1438.0'),\n",
              " Text(0.7665615141955836, 0.6136363636363636, 'squared_error = 0.0\\nsamples = 1\\nvalue = 1392.2'),\n",
              " Text(0.7701667417755745, 0.6136363636363636, 'x[1] <= 9.2\\nsquared_error = 123.21\\nsamples = 2\\nvalue = 1460.9'),\n",
              " Text(0.7683641279855791, 0.5681818181818182, 'squared_error = 0.0\\nsamples = 1\\nvalue = 1449.8'),\n",
              " Text(0.7719693555655701, 0.5681818181818182, 'squared_error = -0.0\\nsamples = 1\\nvalue = 1472.0'),\n",
              " Text(0.7791798107255521, 0.6590909090909091, 'x[8] <= 254.5\\nsquared_error = 21.736\\nsamples = 3\\nvalue = 1537.967'),\n",
              " Text(0.7773771969355565, 0.6136363636363636, 'x[9] <= 43.1\\nsquared_error = 1.563\\nsamples = 2\\nvalue = 1534.75'),\n",
              " Text(0.775574583145561, 0.5681818181818182, 'squared_error = 0.0\\nsamples = 1\\nvalue = 1536.0'),\n",
              " Text(0.7791798107255521, 0.5681818181818182, 'squared_error = 0.0\\nsamples = 1\\nvalue = 1533.5'),\n",
              " Text(0.7809824245155476, 0.6136363636363636, 'squared_error = 0.0\\nsamples = 1\\nvalue = 1544.4'),\n",
              " Text(0.789995493465525, 0.7045454545454546, 'x[7] <= 453.75\\nsquared_error = 2707.147\\nsamples = 8\\nvalue = 1625.875'),\n",
              " Text(0.7881928796755295, 0.6590909090909091, 'x[13] <= 110.2\\nsquared_error = 827.314\\nsamples = 7\\nvalue = 1609.043'),\n",
              " Text(0.7845876520955385, 0.6136363636363636, 'x[6] <= 448.35\\nsquared_error = 0.04\\nsamples = 2\\nvalue = 1572.9'),\n",
              " Text(0.782785038305543, 0.5681818181818182, 'squared_error = 0.0\\nsamples = 1\\nvalue = 1572.7'),\n",
              " Text(0.7863902658855341, 0.5681818181818182, 'squared_error = 0.0\\nsamples = 1\\nvalue = 1573.1'),\n",
              " Text(0.7917981072555205, 0.6136363636363636, 'x[14] <= 1333.5\\nsquared_error = 426.692\\nsamples = 5\\nvalue = 1623.5'),\n",
              " Text(0.789995493465525, 0.5681818181818182, 'x[15] <= 103.45\\nsquared_error = 105.553\\nsamples = 4\\nvalue = 1614.25'),\n",
              " Text(0.7881928796755295, 0.5227272727272727, 'squared_error = 0.0\\nsamples = 1\\nvalue = 1598.2'),\n",
              " Text(0.7917981072555205, 0.5227272727272727, 'x[8] <= 304.2\\nsquared_error = 26.247\\nsamples = 3\\nvalue = 1619.6'),\n",
              " Text(0.789995493465525, 0.4772727272727273, 'x[9] <= 112.5\\nsquared_error = 0.49\\nsamples = 2\\nvalue = 1623.2'),\n",
              " Text(0.7881928796755295, 0.4318181818181818, 'squared_error = 0.0\\nsamples = 1\\nvalue = 1623.9'),\n",
              " Text(0.7917981072555205, 0.4318181818181818, 'squared_error = 0.0\\nsamples = 1\\nvalue = 1622.5'),\n",
              " Text(0.793600721045516, 0.4772727272727273, 'squared_error = -0.0\\nsamples = 1\\nvalue = 1612.4'),\n",
              " Text(0.793600721045516, 0.5681818181818182, 'squared_error = 0.0\\nsamples = 1\\nvalue = 1660.5'),\n",
              " Text(0.7917981072555205, 0.6590909090909091, 'squared_error = -0.0\\nsamples = 1\\nvalue = 1743.7'),\n",
              " Text(0.7954033348355115, 0.75, 'x[11] <= 35.55\\nsquared_error = 4595.216\\nsamples = 3\\nvalue = 2055.933'),\n",
              " Text(0.793600721045516, 0.7045454545454546, 'squared_error = 0.0\\nsamples = 1\\nvalue = 2150.9'),\n",
              " Text(0.797205948625507, 0.7045454545454546, 'x[13] <= 197.4\\nsquared_error = 128.823\\nsamples = 2\\nvalue = 2008.45'),\n",
              " Text(0.7954033348355115, 0.6590909090909091, 'squared_error = 0.0\\nsamples = 1\\nvalue = 2019.8'),\n",
              " Text(0.7990085624155024, 0.6590909090909091, 'squared_error = 0.0\\nsamples = 1\\nvalue = 1997.1'),\n",
              " Text(0.8460455159981974, 0.8409090909090909, 'x[2] <= 62.15\\nsquared_error = 37534.178\\nsamples = 39\\nvalue = 1855.99'),\n",
              " Text(0.8322442541685444, 0.7954545454545454, 'x[7] <= 410.0\\nsquared_error = 28019.178\\nsamples = 28\\nvalue = 1783.261'),\n",
              " Text(0.820414601171699, 0.75, 'x[3] <= 83.2\\nsquared_error = 14511.518\\nsamples = 22\\nvalue = 1718.582'),\n",
              " Text(0.8102748986029743, 0.7045454545454546, 'x[14] <= 1370.75\\nsquared_error = 6648.268\\nsamples = 13\\nvalue = 1646.377'),\n",
              " Text(0.8035150968904912, 0.6590909090909091, 'x[14] <= 1174.95\\nsquared_error = 3515.052\\nsamples = 10\\nvalue = 1615.45'),\n",
              " Text(0.7990085624155024, 0.6136363636363636, 'x[4] <= 146.95\\nsquared_error = 511.307\\nsamples = 4\\nvalue = 1562.525'),\n",
              " Text(0.797205948625507, 0.5681818181818182, 'x[2] <= 31.9\\nsquared_error = 57.576\\nsamples = 3\\nvalue = 1550.033'),\n",
              " Text(0.7954033348355115, 0.5227272727272727, 'squared_error = 0.0\\nsamples = 1\\nvalue = 1559.8'),\n",
              " Text(0.7990085624155024, 0.5227272727272727, 'x[11] <= 9.5\\nsquared_error = 14.822\\nsamples = 2\\nvalue = 1545.15'),\n",
              " Text(0.797205948625507, 0.4772727272727273, 'squared_error = 0.0\\nsamples = 1\\nvalue = 1541.3'),\n",
              " Text(0.800811176205498, 0.4772727272727273, 'squared_error = -0.0\\nsamples = 1\\nvalue = 1549.0'),\n",
              " Text(0.800811176205498, 0.5681818181818182, 'squared_error = 0.0\\nsamples = 1\\nvalue = 1600.0'),\n",
              " Text(0.80802163136548, 0.6136363636363636, 'x[12] <= 20.5\\nsquared_error = 2405.266\\nsamples = 6\\nvalue = 1650.733'),\n",
              " Text(0.8062190175754844, 0.5681818181818182, 'squared_error = 0.0\\nsamples = 1\\nvalue = 1553.7'),\n",
              " Text(0.8098242451554755, 0.5681818181818182, 'x[12] <= 37.85\\nsquared_error = 626.606\\nsamples = 5\\nvalue = 1670.14'),\n",
              " Text(0.8062190175754844, 0.5227272727272727, 'x[15] <= 122.7\\nsquared_error = 254.469\\nsamples = 3\\nvalue = 1654.167'),\n",
              " Text(0.804416403785489, 0.4772727272727273, 'squared_error = 0.0\\nsamples = 1\\nvalue = 1632.2'),\n",
              " Text(0.80802163136548, 0.4772727272727273, 'x[8] <= 310.85\\nsquared_error = 19.802\\nsamples = 2\\nvalue = 1665.15'),\n",
              " Text(0.8062190175754844, 0.4318181818181818, 'squared_error = 0.0\\nsamples = 1\\nvalue = 1660.7'),\n",
              " Text(0.8098242451554755, 0.4318181818181818, 'squared_error = -0.0\\nsamples = 1\\nvalue = 1669.6'),\n",
              " Text(0.8134294727354664, 0.5227272727272727, 'x[3] <= 56.15\\nsquared_error = 228.01\\nsamples = 2\\nvalue = 1694.1'),\n",
              " Text(0.8116268589454709, 0.4772727272727273, 'squared_error = 0.0\\nsamples = 1\\nvalue = 1709.2'),\n",
              " Text(0.815232086525462, 0.4772727272727273, 'squared_error = 0.0\\nsamples = 1\\nvalue = 1679.0'),\n",
              " Text(0.8170347003154574, 0.6590909090909091, 'x[6] <= 569.7\\nsquared_error = 3276.576\\nsamples = 3\\nvalue = 1749.467'),\n",
              " Text(0.815232086525462, 0.6136363636363636, 'x[1] <= 6.45\\nsquared_error = 301.023\\nsamples = 2\\nvalue = 1710.25'),\n",
              " Text(0.8134294727354664, 0.5681818181818182, 'squared_error = 0.0\\nsamples = 1\\nvalue = 1727.6'),\n",
              " Text(0.8170347003154574, 0.5681818181818182, 'squared_error = 0.0\\nsamples = 1\\nvalue = 1692.9'),\n",
              " Text(0.8188373141054529, 0.6136363636363636, 'squared_error = 0.0\\nsamples = 1\\nvalue = 1827.9'),\n",
              " Text(0.8305543037404236, 0.7045454545454546, 'x[11] <= 11.7\\nsquared_error = 7461.22\\nsamples = 9\\nvalue = 1822.878'),\n",
              " Text(0.8260477692654349, 0.6590909090909091, 'x[11] <= 7.85\\nsquared_error = 3381.969\\nsamples = 7\\nvalue = 1786.4'),\n",
              " Text(0.8224425416854438, 0.6136363636363636, 'x[13] <= 405.65\\nsquared_error = 31.19\\nsamples = 5\\nvalue = 1820.24'),\n",
              " Text(0.8206399278954484, 0.5681818181818182, 'squared_error = 0.0\\nsamples = 3\\nvalue = 1824.8'),\n",
              " Text(0.8242451554754394, 0.5681818181818182, 'squared_error = 0.0\\nsamples = 2\\nvalue = 1813.4'),\n",
              " Text(0.8296529968454258, 0.6136363636363636, 'x[11] <= 9.5\\nsquared_error = 1738.89\\nsamples = 2\\nvalue = 1701.8'),\n",
              " Text(0.8278503830554303, 0.5681818181818182, 'squared_error = 0.0\\nsamples = 1\\nvalue = 1743.5'),\n",
              " Text(0.8314556106354214, 0.5681818181818182, 'squared_error = 0.0\\nsamples = 1\\nvalue = 1660.1'),\n",
              " Text(0.8350608382154123, 0.6590909090909091, 'x[1] <= 26.5\\nsquared_error = 781.202\\nsamples = 2\\nvalue = 1950.55'),\n",
              " Text(0.8332582244254169, 0.6136363636363636, 'squared_error = 0.0\\nsamples = 1\\nvalue = 1978.5'),\n",
              " Text(0.8368634520054078, 0.6136363636363636, 'squared_error = 0.0\\nsamples = 1\\nvalue = 1922.6'),\n",
              " Text(0.8440739071653898, 0.75, 'x[9] <= 45.05\\nsquared_error = 5965.335\\nsamples = 6\\nvalue = 2020.417'),\n",
              " Text(0.8422712933753943, 0.7045454545454546, 'squared_error = 0.0\\nsamples = 1\\nvalue = 1866.4'),\n",
              " Text(0.8458765209553853, 0.7045454545454546, 'x[1] <= 0.9\\nsquared_error = 1465.33\\nsamples = 5\\nvalue = 2051.22'),\n",
              " Text(0.8422712933753943, 0.6590909090909091, 'x[7] <= 499.65\\nsquared_error = 208.803\\nsamples = 2\\nvalue = 2007.25'),\n",
              " Text(0.8404686795853988, 0.6136363636363636, 'squared_error = 0.0\\nsamples = 1\\nvalue = 1992.8'),\n",
              " Text(0.8440739071653898, 0.6136363636363636, 'squared_error = 0.0\\nsamples = 1\\nvalue = 2021.7'),\n",
              " Text(0.8494817485353763, 0.6590909090909091, 'x[9] <= 73.2\\nsquared_error = 154.836\\nsamples = 3\\nvalue = 2080.533'),\n",
              " Text(0.8476791347453808, 0.6136363636363636, 'squared_error = 0.0\\nsamples = 1\\nvalue = 2063.0'),\n",
              " Text(0.8512843623253717, 0.6136363636363636, 'x[6] <= 521.35\\nsquared_error = 1.69\\nsamples = 2\\nvalue = 2089.3'),\n",
              " Text(0.8494817485353763, 0.5681818181818182, 'squared_error = 0.0\\nsamples = 1\\nvalue = 2088.0'),\n",
              " Text(0.8530869761153673, 0.5681818181818182, 'squared_error = -0.0\\nsamples = 1\\nvalue = 2090.6'),\n",
              " Text(0.8598467778278504, 0.7954545454545454, 'x[11] <= 10.5\\nsquared_error = 14017.429\\nsamples = 11\\nvalue = 2041.118'),\n",
              " Text(0.8548895899053628, 0.75, 'x[4] <= 233.0\\nsquared_error = 190.44\\nsamples = 2\\nvalue = 1825.4'),\n",
              " Text(0.8530869761153673, 0.7045454545454546, 'squared_error = 0.0\\nsamples = 1\\nvalue = 1839.2'),\n",
              " Text(0.8566922036953583, 0.7045454545454546, 'squared_error = -0.0\\nsamples = 1\\nvalue = 1811.6'),\n",
              " Text(0.864803965750338, 0.75, 'x[8] <= 279.7\\nsquared_error = 4451.138\\nsamples = 9\\nvalue = 2089.056'),\n",
              " Text(0.8602974312753493, 0.7045454545454546, 'x[6] <= 379.6\\nsquared_error = 1395.928\\nsamples = 7\\nvalue = 2058.771'),\n",
              " Text(0.8566922036953583, 0.6590909090909091, 'x[9] <= 167.3\\nsquared_error = 712.89\\nsamples = 2\\nvalue = 2004.2'),\n",
              " Text(0.8548895899053628, 0.6136363636363636, 'squared_error = 0.0\\nsamples = 1\\nvalue = 2030.9'),\n",
              " Text(0.8584948174853537, 0.6136363636363636, 'squared_error = 0.0\\nsamples = 1\\nvalue = 1977.5'),\n",
              " Text(0.8639026588553402, 0.6590909090909091, 'x[9] <= 122.1\\nsquared_error = 1.44\\nsamples = 5\\nvalue = 2080.6'),\n",
              " Text(0.8621000450653448, 0.6136363636363636, 'squared_error = 0.0\\nsamples = 1\\nvalue = 2083.0'),\n",
              " Text(0.8657052726453357, 0.6136363636363636, 'squared_error = 0.0\\nsamples = 4\\nvalue = 2080.0'),\n",
              " Text(0.8693105002253267, 0.7045454545454546, 'x[1] <= 45.9\\nsquared_error = 699.603\\nsamples = 2\\nvalue = 2195.05'),\n",
              " Text(0.8675078864353313, 0.6590909090909091, 'squared_error = 0.0\\nsamples = 1\\nvalue = 2168.6'),\n",
              " Text(0.8711131140153222, 0.6590909090909091, 'squared_error = -0.0\\nsamples = 1\\nvalue = 2221.5'),\n",
              " Text(0.9519772420009013, 0.9318181818181818, 'x[5] <= 1119.85\\nsquared_error = 676943.311\\nsamples = 71\\nvalue = 3034.03'),\n",
              " Text(0.9336976115367283, 0.8863636363636364, 'x[5] <= 612.3\\nsquared_error = 288039.147\\nsamples = 69\\nvalue = 2927.836'),\n",
              " Text(0.9025461919783686, 0.8409090909090909, 'x[0] <= 27.15\\nsquared_error = 102197.164\\nsamples = 42\\nvalue = 2598.174'),\n",
              " Text(0.8889139251915277, 0.7954545454545454, 'x[14] <= 1295.7\\nsquared_error = 55819.434\\nsamples = 30\\nvalue = 2473.983'),\n",
              " Text(0.8871113114015322, 0.75, 'squared_error = 0.0\\nsamples = 2\\nvalue = 1957.8'),\n",
              " Text(0.8907165389815233, 0.75, 'x[9] <= 178.75\\nsquared_error = 39415.32\\nsamples = 28\\nvalue = 2510.854'),\n",
              " Text(0.8814781433077963, 0.7045454545454546, 'x[4] <= 386.15\\nsquared_error = 21501.903\\nsamples = 19\\nvalue = 2434.784'),\n",
              " Text(0.8747183415953133, 0.6590909090909091, 'x[8] <= 197.7\\nsquared_error = 15541.495\\nsamples = 16\\nvalue = 2396.088'),\n",
              " Text(0.8729157278053177, 0.6136363636363636, 'squared_error = 0.0\\nsamples = 1\\nvalue = 2077.5'),\n",
              " Text(0.8765209553853087, 0.6136363636363636, 'x[5] <= 535.05\\nsquared_error = 9359.959\\nsamples = 15\\nvalue = 2417.327'),\n",
              " Text(0.87201442091032, 0.5681818181818182, 'x[14] <= 1589.2\\nsquared_error = 6130.427\\nsamples = 12\\nvalue = 2449.025'),\n",
              " Text(0.868409193330329, 0.5227272727272727, 'x[4] <= 298.95\\nsquared_error = 642.622\\nsamples = 2\\nvalue = 2312.05'),\n",
              " Text(0.8666065795403335, 0.4772727272727273, 'squared_error = 0.0\\nsamples = 1\\nvalue = 2337.4'),\n",
              " Text(0.8702118071203244, 0.4772727272727273, 'squared_error = -0.0\\nsamples = 1\\nvalue = 2286.7'),\n",
              " Text(0.8756196484903109, 0.5227272727272727, 'x[4] <= 10.65\\nsquared_error = 2725.072\\nsamples = 10\\nvalue = 2476.42'),\n",
              " Text(0.8738170347003155, 0.4772727272727273, 'squared_error = 0.0\\nsamples = 1\\nvalue = 2374.1'),\n",
              " Text(0.8774222622803064, 0.4772727272727273, 'x[0] <= 6.2\\nsquared_error = 1735.341\\nsamples = 9\\nvalue = 2487.789'),\n",
              " Text(0.8738170347003155, 0.4318181818181818, 'x[11] <= 6.15\\nsquared_error = 37.822\\nsamples = 2\\nvalue = 2548.25'),\n",
              " Text(0.87201442091032, 0.38636363636363635, 'squared_error = 0.0\\nsamples = 1\\nvalue = 2542.1'),\n",
              " Text(0.8756196484903109, 0.38636363636363635, 'squared_error = 0.0\\nsamples = 1\\nvalue = 2554.4'),\n",
              " Text(0.8810274898602974, 0.4318181818181818, 'x[3] <= 141.3\\nsquared_error = 877.493\\nsamples = 7\\nvalue = 2470.514'),\n",
              " Text(0.879224876070302, 0.38636363636363635, 'squared_error = 0.0\\nsamples = 1\\nvalue = 2409.8'),\n",
              " Text(0.8828301036502929, 0.38636363636363635, 'x[4] <= 330.3\\nsquared_error = 306.976\\nsamples = 6\\nvalue = 2480.633'),\n",
              " Text(0.879224876070302, 0.3409090909090909, 'x[4] <= 283.5\\nsquared_error = 71.069\\nsamples = 3\\nvalue = 2496.267'),\n",
              " Text(0.8774222622803064, 0.29545454545454547, 'squared_error = 0.0\\nsamples = 1\\nvalue = 2485.3'),\n",
              " Text(0.8810274898602974, 0.29545454545454547, 'x[6] <= 486.35\\nsquared_error = 16.402\\nsamples = 2\\nvalue = 2501.75'),\n",
              " Text(0.879224876070302, 0.25, 'squared_error = 0.0\\nsamples = 1\\nvalue = 2505.8'),\n",
              " Text(0.8828301036502929, 0.25, 'squared_error = 0.0\\nsamples = 1\\nvalue = 2497.7'),\n",
              " Text(0.886435331230284, 0.3409090909090909, 'x[9] <= 165.4\\nsquared_error = 54.08\\nsamples = 3\\nvalue = 2465.0'),\n",
              " Text(0.8846327174402884, 0.29545454545454547, 'squared_error = 0.0\\nsamples = 2\\nvalue = 2459.8'),\n",
              " Text(0.8882379450202794, 0.29545454545454547, 'squared_error = -0.0\\nsamples = 1\\nvalue = 2475.4'),\n",
              " Text(0.8810274898602974, 0.5681818181818182, 'x[12] <= 17.75\\nsquared_error = 2182.402\\nsamples = 3\\nvalue = 2290.533'),\n",
              " Text(0.879224876070302, 0.5227272727272727, 'squared_error = 0.0\\nsamples = 2\\nvalue = 2257.5'),\n",
              " Text(0.8828301036502929, 0.5227272727272727, 'squared_error = -0.0\\nsamples = 1\\nvalue = 2356.6'),\n",
              " Text(0.8882379450202794, 0.6590909090909091, 'x[0] <= 11.5\\nsquared_error = 2710.709\\nsamples = 3\\nvalue = 2641.167'),\n",
              " Text(0.886435331230284, 0.6136363636363636, 'x[4] <= 403.9\\nsquared_error = 812.25\\nsamples = 2\\nvalue = 2674.1'),\n",
              " Text(0.8846327174402884, 0.5681818181818182, 'squared_error = 0.0\\nsamples = 1\\nvalue = 2702.6'),\n",
              " Text(0.8882379450202794, 0.5681818181818182, 'squared_error = 0.0\\nsamples = 1\\nvalue = 2645.6'),\n",
              " Text(0.8900405588102749, 0.6136363636363636, 'squared_error = 0.0\\nsamples = 1\\nvalue = 2575.3'),\n",
              " Text(0.8999549346552501, 0.7045454545454546, 'x[14] <= 1725.8\\nsquared_error = 39227.058\\nsamples = 9\\nvalue = 2671.444'),\n",
              " Text(0.8954484001802614, 0.6590909090909091, 'x[1] <= 17.0\\nsquared_error = 18271.632\\nsamples = 4\\nvalue = 2499.825'),\n",
              " Text(0.8936457863902659, 0.6136363636363636, 'squared_error = 0.0\\nsamples = 1\\nvalue = 2290.0'),\n",
              " Text(0.8972510139702569, 0.6136363636363636, 'x[7] <= 431.0\\nsquared_error = 4794.829\\nsamples = 3\\nvalue = 2569.767'),\n",
              " Text(0.8954484001802614, 0.5681818181818182, 'x[11] <= 31.85\\nsquared_error = 1085.703\\nsamples = 2\\nvalue = 2524.65'),\n",
              " Text(0.8936457863902659, 0.5227272727272727, 'squared_error = 0.0\\nsamples = 1\\nvalue = 2557.6'),\n",
              " Text(0.8972510139702569, 0.5227272727272727, 'squared_error = 0.0\\nsamples = 1\\nvalue = 2491.7'),\n",
              " Text(0.8990536277602523, 0.5681818181818182, 'squared_error = 0.0\\nsamples = 1\\nvalue = 2660.0'),\n",
              " Text(0.9044614691302388, 0.6590909090909091, 'x[9] <= 192.05\\nsquared_error = 13578.742\\nsamples = 5\\nvalue = 2808.74'),\n",
              " Text(0.9026588553402434, 0.6136363636363636, 'squared_error = 0.0\\nsamples = 1\\nvalue = 2999.2'),\n",
              " Text(0.9062640829202343, 0.6136363636363636, 'x[15] <= 323.55\\nsquared_error = 5637.487\\nsamples = 4\\nvalue = 2761.125'),\n",
              " Text(0.9026588553402434, 0.5681818181818182, 'x[3] <= 83.85\\nsquared_error = 2204.303\\nsamples = 2\\nvalue = 2694.45'),\n",
              " Text(0.9008562415502479, 0.5227272727272727, 'squared_error = 0.0\\nsamples = 1\\nvalue = 2647.5'),\n",
              " Text(0.9044614691302388, 0.5227272727272727, 'squared_error = 0.0\\nsamples = 1\\nvalue = 2741.4'),\n",
              " Text(0.9098693105002253, 0.5681818181818182, 'x[0] <= 15.65\\nsquared_error = 179.56\\nsamples = 2\\nvalue = 2827.8'),\n",
              " Text(0.9080666967102299, 0.5227272727272727, 'squared_error = 0.0\\nsamples = 1\\nvalue = 2814.4'),\n",
              " Text(0.9116719242902208, 0.5227272727272727, 'squared_error = -0.0\\nsamples = 1\\nvalue = 2841.2'),\n",
              " Text(0.9161784587652095, 0.7954545454545454, 'x[4] <= 299.05\\nsquared_error = 83187.837\\nsamples = 12\\nvalue = 2908.65'),\n",
              " Text(0.9098693105002253, 0.75, 'x[2] <= 59.7\\nsquared_error = 48699.132\\nsamples = 5\\nvalue = 2677.9'),\n",
              " Text(0.9080666967102299, 0.7045454545454546, 'squared_error = 0.0\\nsamples = 1\\nvalue = 3118.5'),\n",
              " Text(0.9116719242902208, 0.7045454545454546, 'x[9] <= 160.95\\nsquared_error = 208.803\\nsamples = 4\\nvalue = 2567.75'),\n",
              " Text(0.9098693105002253, 0.6590909090909091, 'squared_error = 0.0\\nsamples = 2\\nvalue = 2582.2'),\n",
              " Text(0.9134745380802163, 0.6590909090909091, 'squared_error = 0.0\\nsamples = 2\\nvalue = 2553.3'),\n",
              " Text(0.9224876070301938, 0.75, 'x[2] <= 283.7\\nsquared_error = 42623.979\\nsamples = 7\\nvalue = 3073.471'),\n",
              " Text(0.9206849932401983, 0.7045454545454546, 'x[7] <= 444.55\\nsquared_error = 6696.829\\nsamples = 6\\nvalue = 2995.067'),\n",
              " Text(0.9170797656602073, 0.6590909090909091, 'x[7] <= 428.0\\nsquared_error = 808.103\\nsamples = 4\\nvalue = 3049.45'),\n",
              " Text(0.9152771518702119, 0.6136363636363636, 'x[9] <= 234.15\\nsquared_error = 175.469\\nsamples = 3\\nvalue = 3034.433'),\n",
              " Text(0.9134745380802163, 0.5681818181818182, 'squared_error = 0.0\\nsamples = 2\\nvalue = 3043.8'),\n",
              " Text(0.9170797656602073, 0.5681818181818182, 'squared_error = 0.0\\nsamples = 1\\nvalue = 3015.7'),\n",
              " Text(0.9188823794502028, 0.6136363636363636, 'squared_error = 0.0\\nsamples = 1\\nvalue = 3094.5'),\n",
              " Text(0.9242902208201893, 0.6590909090909091, 'x[15] <= 379.2\\nsquared_error = 729.0\\nsamples = 2\\nvalue = 2886.3'),\n",
              " Text(0.9224876070301938, 0.6136363636363636, 'squared_error = 0.0\\nsamples = 1\\nvalue = 2859.3'),\n",
              " Text(0.9260928346101848, 0.6136363636363636, 'squared_error = 0.0\\nsamples = 1\\nvalue = 2913.3'),\n",
              " Text(0.9242902208201893, 0.7045454545454546, 'squared_error = -0.0\\nsamples = 1\\nvalue = 3543.9'),\n",
              " Text(0.9648490310950879, 0.8409090909090909, 'x[8] <= 309.5\\nsquared_error = 145100.817\\nsamples = 27\\nvalue = 3440.644'),\n",
              " Text(0.9472735466426319, 0.7954545454545454, 'x[5] <= 881.1\\nsquared_error = 49169.502\\nsamples = 12\\nvalue = 3194.433'),\n",
              " Text(0.9396124380351509, 0.75, 'x[6] <= 1054.4\\nsquared_error = 21502.932\\nsamples = 8\\nvalue = 3073.362'),\n",
              " Text(0.9351059035601622, 0.7045454545454546, 'x[7] <= 398.3\\nsquared_error = 8193.246\\nsamples = 6\\nvalue = 3002.45'),\n",
              " Text(0.9315006759801713, 0.6590909090909091, 'x[3] <= 111.45\\nsquared_error = 2275.29\\nsamples = 2\\nvalue = 2882.8'),\n",
              " Text(0.9296980621901757, 0.6136363636363636, 'squared_error = 0.0\\nsamples = 1\\nvalue = 2835.1'),\n",
              " Text(0.9333032897701667, 0.6136363636363636, 'squared_error = -0.0\\nsamples = 1\\nvalue = 2930.5'),\n",
              " Text(0.9387111311401533, 0.6590909090909091, 'x[6] <= 721.55\\nsquared_error = 415.132\\nsamples = 4\\nvalue = 3062.275'),\n",
              " Text(0.9369085173501577, 0.6136363636363636, 'squared_error = 0.0\\nsamples = 1\\nvalue = 3029.9'),\n",
              " Text(0.9405137449301487, 0.6136363636363636, 'x[5] <= 803.65\\nsquared_error = 87.669\\nsamples = 3\\nvalue = 3073.067'),\n",
              " Text(0.9387111311401533, 0.5681818181818182, 'x[4] <= 201.55\\nsquared_error = 13.69\\nsamples = 2\\nvalue = 3066.8'),\n",
              " Text(0.9369085173501577, 0.5227272727272727, 'squared_error = 0.0\\nsamples = 1\\nvalue = 3070.5'),\n",
              " Text(0.9405137449301487, 0.5227272727272727, 'squared_error = -0.0\\nsamples = 1\\nvalue = 3063.1'),\n",
              " Text(0.9423163587201442, 0.5681818181818182, 'squared_error = -0.0\\nsamples = 1\\nvalue = 3085.6'),\n",
              " Text(0.9441189725101397, 0.7045454545454546, 'x[8] <= 225.7\\nsquared_error = 1089.0\\nsamples = 2\\nvalue = 3286.1'),\n",
              " Text(0.9423163587201442, 0.6590909090909091, 'squared_error = 0.0\\nsamples = 1\\nvalue = 3319.1'),\n",
              " Text(0.9459215863001352, 0.6590909090909091, 'squared_error = 0.0\\nsamples = 1\\nvalue = 3253.1'),\n",
              " Text(0.9549346552501127, 0.75, 'x[5] <= 929.65\\nsquared_error = 16553.762\\nsamples = 4\\nvalue = 3436.575'),\n",
              " Text(0.9513294276701216, 0.7045454545454546, 'x[12] <= 3.3\\nsquared_error = 3300.502\\nsamples = 2\\nvalue = 3326.65'),\n",
              " Text(0.9495268138801262, 0.6590909090909091, 'squared_error = 0.0\\nsamples = 1\\nvalue = 3269.2'),\n",
              " Text(0.9531320414601172, 0.6590909090909091, 'squared_error = 0.0\\nsamples = 1\\nvalue = 3384.1'),\n",
              " Text(0.9585398828301036, 0.7045454545454546, 'x[2] <= 4.55\\nsquared_error = 5640.01\\nsamples = 2\\nvalue = 3546.5'),\n",
              " Text(0.9567372690401081, 0.6590909090909091, 'squared_error = 0.0\\nsamples = 1\\nvalue = 3471.4'),\n",
              " Text(0.9603424966200992, 0.6590909090909091, 'squared_error = 0.0\\nsamples = 1\\nvalue = 3621.6'),\n",
              " Text(0.982424515547544, 0.7954545454545454, 'x[5] <= 716.3\\nsquared_error = 134553.196\\nsamples = 15\\nvalue = 3637.613'),\n",
              " Text(0.9738621000450653, 0.75, 'x[11] <= 12.95\\nsquared_error = 23095.284\\nsamples = 10\\nvalue = 3413.34'),\n",
              " Text(0.9675529517800812, 0.7045454545454546, 'x[8] <= 466.5\\nsquared_error = 5720.589\\nsamples = 6\\nvalue = 3311.45'),\n",
              " Text(0.9639477242000901, 0.6590909090909091, 'x[3] <= 179.55\\nsquared_error = 619.415\\nsamples = 4\\nvalue = 3261.7'),\n",
              " Text(0.9621451104100947, 0.6136363636363636, 'x[10] <= 20.05\\nsquared_error = 4.109\\nsamples = 3\\nvalue = 3276.033'),\n",
              " Text(0.9603424966200992, 0.5681818181818182, 'squared_error = 0.0\\nsamples = 1\\nvalue = 3278.9'),\n",
              " Text(0.9639477242000901, 0.5681818181818182, 'squared_error = -0.0\\nsamples = 2\\nvalue = 3274.6'),\n",
              " Text(0.9657503379900856, 0.6136363636363636, 'squared_error = 0.0\\nsamples = 1\\nvalue = 3218.7'),\n",
              " Text(0.9711581793600721, 0.6590909090909091, 'x[0] <= 21.2\\nsquared_error = 1072.562\\nsamples = 2\\nvalue = 3410.95'),\n",
              " Text(0.9693555655700766, 0.6136363636363636, 'squared_error = 0.0\\nsamples = 1\\nvalue = 3443.7'),\n",
              " Text(0.9729607931500676, 0.6136363636363636, 'squared_error = 0.0\\nsamples = 1\\nvalue = 3378.2'),\n",
              " Text(0.9801712483100495, 0.7045454545454546, 'x[5] <= 658.4\\nsquared_error = 10226.432\\nsamples = 4\\nvalue = 3566.175'),\n",
              " Text(0.9783686345200541, 0.6590909090909091, 'x[12] <= 82.85\\nsquared_error = 1273.509\\nsamples = 3\\nvalue = 3621.767'),\n",
              " Text(0.9765660207300586, 0.6136363636363636, 'x[3] <= 250.45\\nsquared_error = 15.21\\nsamples = 2\\nvalue = 3646.9'),\n",
              " Text(0.9747634069400631, 0.5681818181818182, 'squared_error = 0.0\\nsamples = 1\\nvalue = 3643.0'),\n",
              " Text(0.9783686345200541, 0.5681818181818182, 'squared_error = 0.0\\nsamples = 1\\nvalue = 3650.8'),\n",
              " Text(0.9801712483100495, 0.6136363636363636, 'squared_error = 0.0\\nsamples = 1\\nvalue = 3571.5'),\n",
              " Text(0.9819738621000451, 0.6590909090909091, 'squared_error = 0.0\\nsamples = 1\\nvalue = 3399.4'),\n",
              " Text(0.9909869310500226, 0.75, 'x[11] <= 17.2\\nsquared_error = 55677.85\\nsamples = 5\\nvalue = 4086.16'),\n",
              " Text(0.9873817034700315, 0.7045454545454546, 'x[9] <= 198.2\\nsquared_error = 5155.24\\nsamples = 2\\nvalue = 3844.0'),\n",
              " Text(0.985579089680036, 0.6590909090909091, 'squared_error = 0.0\\nsamples = 1\\nvalue = 3772.2'),\n",
              " Text(0.9891843172600271, 0.6590909090909091, 'squared_error = -0.0\\nsamples = 1\\nvalue = 3915.8'),\n",
              " Text(0.9945921586300135, 0.7045454545454546, 'x[9] <= 215.35\\nsquared_error = 24202.407\\nsamples = 3\\nvalue = 4247.6'),\n",
              " Text(0.992789544840018, 0.6590909090909091, 'squared_error = 0.0\\nsamples = 1\\nvalue = 4034.7'),\n",
              " Text(0.9963947724200091, 0.6590909090909091, 'x[5] <= 941.45\\nsquared_error = 2308.802\\nsamples = 2\\nvalue = 4354.05'),\n",
              " Text(0.9945921586300135, 0.6136363636363636, 'squared_error = 0.0\\nsamples = 1\\nvalue = 4402.1'),\n",
              " Text(0.9981973862100045, 0.6136363636363636, 'squared_error = 0.0\\nsamples = 1\\nvalue = 4306.0'),\n",
              " Text(0.9702568724650743, 0.8863636363636364, 'x[3] <= 372.0\\nsquared_error = 282598.56\\nsamples = 2\\nvalue = 6697.7'),\n",
              " Text(0.9684542586750788, 0.8409090909090909, 'squared_error = 0.0\\nsamples = 1\\nvalue = 6166.1'),\n",
              " Text(0.9720594862550699, 0.8409090909090909, 'squared_error = -0.0\\nsamples = 1\\nvalue = 7229.3')]"
            ]
          },
          "metadata": {},
          "execution_count": 25
        },
        {
          "output_type": "display_data",
          "data": {
            "text/plain": [
              "<Figure size 640x480 with 1 Axes>"
            ],
            "image/png": "[encoded data removed]"
          },
          "metadata": {}
        }
      ]
    },
    {
      "cell_type": "code",
      "source": [
        "print(yp)"
      ],
      "metadata": {
        "id": "hg0N_v59pDI5",
        "colab": {
          "base_uri": "https://localhost:8080/",
          "height": 0
        },
        "outputId": "4e62b74f-f4af-48a2-dfc6-06b03bbc0d3e"
      },
      "execution_count": 26,
      "outputs": [
        {
          "output_type": "stream",
          "name": "stdout",
          "text": [
            "[1146.8 1143.7 1293.1 1083.1 2575.3  731.1  979.8 1112.5  554.5 1120.\n",
            " 1015.7 3772.2 1160.1  268.6 2491.7  407.9 2814.4 2019.8 1095.9  621.1\n",
            " 2485.3 1997.1 1084.8 2859.3 1293.1 3443.7  887.4  949.6 1292.7 1625.7\n",
            " 3094.5 1003.2  902.1  415.6  747.1  554.5 1341.   820.1  554.5 3218.7\n",
            "  806.4 2557.6  791.7 1336.5  509.1 1533.5 6166.1  975.4  967.1 1084.8\n",
            " 2553.3  641.2 1090.7  721.7 1385.  2030.9 1533.5  731.1  791.9 2557.6\n",
            "  959.3  747.1 1336.5  394.1  903.6 2221.5 1292.7  716.2 1273.8  921.2\n",
            "  975.4  747.1 1472.   639.7  419.8  671.7 2741.4 2030.9  820.1 1743.7\n",
            " 1533.5  820.1 1139.6 1743.7 3063.1  554.5 1146.8 1397.  1148.6 1143.9\n",
            " 2374.1  883.  1743.5  969.6  885.9 2221.5  933.1  394.1  721.7 1482.8\n",
            " 1448.3  887.4 1196.  1058.3  805.9  656.3  975.4  415.6 1152.6 1196.\n",
            " 2814.4 1002.2  949.6  274.   816.3 1292.7 1107.   274.  1088.1 3399.4\n",
            "  968.1 1393.3 2030.9 1338.3 1660.7 1305.9  752.7 2582.2 1173.3]\n"
          ]
        }
      ]
    },
    {
      "cell_type": "code",
      "source": [
        "print(mean_squared_error(y_test,yp))"
      ],
      "metadata": {
        "id": "bcKbz3bApKQu",
        "colab": {
          "base_uri": "https://localhost:8080/",
          "height": 0
        },
        "outputId": "0fb5ceb6-6525-412b-c17f-48adcbf59f79"
      },
      "execution_count": 27,
      "outputs": [
        {
          "output_type": "stream",
          "name": "stdout",
          "text": [
            "18154.314263565895\n"
          ]
        }
      ]
    },
    {
      "cell_type": "code",
      "source": [
        "import pandas as pd\n",
        "from sklearn.svm import SVR\n",
        "from sklearn.model_selection import train_test_split\n",
        "from sklearn.metrics import accuracy_score"
      ],
      "metadata": {
        "id": "gaY3am--pMvW"
      },
      "execution_count": 28,
      "outputs": []
    },
    {
      "cell_type": "code",
      "source": [
        "model = SVR(kernel='linear')"
      ],
      "metadata": {
        "id": "BAO_nxONpPLn"
      },
      "execution_count": 29,
      "outputs": []
    },
    {
      "cell_type": "code",
      "source": [
        "model.fit(x_train,y_train)"
      ],
      "metadata": {
        "id": "4JuF1G4ipTCa",
        "colab": {
          "base_uri": "https://localhost:8080/",
          "height": 74
        },
        "outputId": "2dd1fa07-1122-496a-c12c-be1b3de91827"
      },
      "execution_count": 30,
      "outputs": [
        {
          "output_type": "execute_result",
          "data": {
            "text/plain": [
              "SVR(kernel='linear')"
            ],
            "text/html": [
              "<style>#sk-container-id-2 {color: black;background-color: white;}#sk-container-id-2 pre{padding: 0;}#sk-container-id-2 div.sk-toggleable {background-color: white;}#sk-container-id-2 label.sk-toggleable__label {cursor: pointer;display: block;width: 100%;margin-bottom: 0;padding: 0.3em;box-sizing: border-box;text-align: center;}#sk-container-id-2 label.sk-toggleable__label-arrow:before {content: \"▸\";float: left;margin-right: 0.25em;color: #696969;}#sk-container-id-2 label.sk-toggleable__label-arrow:hover:before {color: black;}#sk-container-id-2 div.sk-estimator:hover label.sk-toggleable__label-arrow:before {color: black;}#sk-container-id-2 div.sk-toggleable__content {max-height: 0;max-width: 0;overflow: hidden;text-align: left;background-color: #f0f8ff;}#sk-container-id-2 div.sk-toggleable__content pre {margin: 0.2em;color: black;border-radius: 0.25em;background-color: #f0f8ff;}#sk-container-id-2 input.sk-toggleable__control:checked~div.sk-toggleable__content {max-height: 200px;max-width: 100%;overflow: auto;}#sk-container-id-2 input.sk-toggleable__control:checked~label.sk-toggleable__label-arrow:before {content: \"▾\";}#sk-container-id-2 div.sk-estimator input.sk-toggleable__control:checked~label.sk-toggleable__label {background-color: #d4ebff;}#sk-container-id-2 div.sk-label input.sk-toggleable__control:checked~label.sk-toggleable__label {background-color: #d4ebff;}#sk-container-id-2 input.sk-hidden--visually {border: 0;clip: rect(1px 1px 1px 1px);clip: rect(1px, 1px, 1px, 1px);height: 1px;margin: -1px;overflow: hidden;padding: 0;position: absolute;width: 1px;}#sk-container-id-2 div.sk-estimator {font-family: monospace;background-color: #f0f8ff;border: 1px dotted black;border-radius: 0.25em;box-sizing: border-box;margin-bottom: 0.5em;}#sk-container-id-2 div.sk-estimator:hover {background-color: #d4ebff;}#sk-container-id-2 div.sk-parallel-item::after {content: \"\";width: 100%;border-bottom: 1px solid gray;flex-grow: 1;}#sk-container-id-2 div.sk-label:hover label.sk-toggleable__label {background-color: #d4ebff;}#sk-container-id-2 div.sk-serial::before {content: \"\";position: absolute;border-left: 1px solid gray;box-sizing: border-box;top: 0;bottom: 0;left: 50%;z-index: 0;}#sk-container-id-2 div.sk-serial {display: flex;flex-direction: column;align-items: center;background-color: white;padding-right: 0.2em;padding-left: 0.2em;position: relative;}#sk-container-id-2 div.sk-item {position: relative;z-index: 1;}#sk-container-id-2 div.sk-parallel {display: flex;align-items: stretch;justify-content: center;background-color: white;position: relative;}#sk-container-id-2 div.sk-item::before, #sk-container-id-2 div.sk-parallel-item::before {content: \"\";position: absolute;border-left: 1px solid gray;box-sizing: border-box;top: 0;bottom: 0;left: 50%;z-index: -1;}#sk-container-id-2 div.sk-parallel-item {display: flex;flex-direction: column;z-index: 1;position: relative;background-color: white;}#sk-container-id-2 div.sk-parallel-item:first-child::after {align-self: flex-end;width: 50%;}#sk-container-id-2 div.sk-parallel-item:last-child::after {align-self: flex-start;width: 50%;}#sk-container-id-2 div.sk-parallel-item:only-child::after {width: 0;}#sk-container-id-2 div.sk-dashed-wrapped {border: 1px dashed gray;margin: 0 0.4em 0.5em 0.4em;box-sizing: border-box;padding-bottom: 0.4em;background-color: white;}#sk-container-id-2 div.sk-label label {font-family: monospace;font-weight: bold;display: inline-block;line-height: 1.2em;}#sk-container-id-2 div.sk-label-container {text-align: center;}#sk-container-id-2 div.sk-container {/* jupyter's `normalize.less` sets `[hidden] { display: none; }` but bootstrap.min.css set `[hidden] { display: none !important; }` so we also need the `!important` here to be able to override the default hidden behavior on the sphinx rendered scikit-learn.org. See: https://github.com/scikit-learn/scikit-learn/issues/21755 */display: inline-block !important;position: relative;}#sk-container-id-2 div.sk-text-repr-fallback {display: none;}</style><div id=\"sk-container-id-2\" class=\"sk-top-container\"><div class=\"sk-text-repr-fallback\"><pre>SVR(kernel=&#x27;linear&#x27;)</pre><b>In a Jupyter environment, please rerun this cell to show the HTML representation or trust the notebook. <br />On GitHub, the HTML representation is unable to render, please try loading this page with nbviewer.org.</b></div><div class=\"sk-container\" hidden><div class=\"sk-item\"><div class=\"sk-estimator sk-toggleable\"><input class=\"sk-toggleable__control sk-hidden--visually\" id=\"sk-estimator-id-2\" type=\"checkbox\" checked><label for=\"sk-estimator-id-2\" class=\"sk-toggleable__label sk-toggleable__label-arrow\">SVR</label><div class=\"sk-toggleable__content\"><pre>SVR(kernel=&#x27;linear&#x27;)</pre></div></div></div></div></div>"
            ]
          },
          "metadata": {},
          "execution_count": 30
        }
      ]
    },
    {
      "cell_type": "code",
      "source": [
        "y_pred=model.predict(x_test)"
      ],
      "metadata": {
        "id": "mKeXuL17pWxI"
      },
      "execution_count": 31,
      "outputs": []
    },
    {
      "cell_type": "code",
      "source": [
        "mae = mean_absolute_error(y_test, y_pred)\n",
        "print(\"Mean Absolute Error:\", mae)"
      ],
      "metadata": {
        "id": "bfTcpK1IpZ5X",
        "colab": {
          "base_uri": "https://localhost:8080/",
          "height": 0
        },
        "outputId": "75734a7e-00b5-4546-f4af-bd7ab063d538"
      },
      "execution_count": 32,
      "outputs": [
        {
          "output_type": "stream",
          "name": "stdout",
          "text": [
            "Mean Absolute Error: 0.04753588620007877\n"
          ]
        }
      ]
    },
    {
      "cell_type": "code",
      "source": [
        "mse = mean_squared_error(y_test, y_pred)\n",
        "print(\"Mean Squared Error:\", mse)"
      ],
      "metadata": {
        "id": "arjDnMcypf81",
        "colab": {
          "base_uri": "https://localhost:8080/",
          "height": 0
        },
        "outputId": "1a8fa625-abe3-47d5-f589-8ea434cef96c"
      },
      "execution_count": 33,
      "outputs": [
        {
          "output_type": "stream",
          "name": "stdout",
          "text": [
            "Mean Squared Error: 0.003450724484773055\n"
          ]
        }
      ]
    },
    {
      "cell_type": "code",
      "source": [
        "from sklearn.metrics import mean_squared_error\n",
        "print(mean_squared_error(yp,y_test))"
      ],
      "metadata": {
        "id": "K2ML5C9spiz4",
        "colab": {
          "base_uri": "https://localhost:8080/",
          "height": 0
        },
        "outputId": "807b627d-f755-4f44-d2bc-b65ae9a5282d"
      },
      "execution_count": 34,
      "outputs": [
        {
          "output_type": "stream",
          "name": "stdout",
          "text": [
            "18154.314263565895\n"
          ]
        }
      ]
    },
    {
      "cell_type": "code",
      "source": [
        "from sklearn.metrics import mean_absolute_error\n",
        "print(mean_absolute_error(yp,y_test))"
      ],
      "metadata": {
        "id": "gK7gx0Y2pl8m",
        "colab": {
          "base_uri": "https://localhost:8080/",
          "height": 0
        },
        "outputId": "911ae3ef-f482-489f-facc-b27749bf4f4b"
      },
      "execution_count": 35,
      "outputs": [
        {
          "output_type": "stream",
          "name": "stdout",
          "text": [
            "72.33333333333333\n"
          ]
        }
      ]
    },
    {
      "cell_type": "code",
      "source": [
        "import pandas as pd\n",
        "from sklearn.neighbors import KNeighborsRegressor\n",
        "from sklearn.model_selection import train_test_split\n",
        "from sklearn.metrics import mean_absolute_error"
      ],
      "metadata": {
        "id": "MKt-xPdgppAZ"
      },
      "execution_count": 36,
      "outputs": []
    },
    {
      "cell_type": "code",
      "source": [
        "knn = KNeighborsRegressor(n_neighbors=3)"
      ],
      "metadata": {
        "id": "H4cv2Uv-puq7"
      },
      "execution_count": 37,
      "outputs": []
    },
    {
      "cell_type": "code",
      "source": [
        "knn.fit(x_train, y_train)"
      ],
      "metadata": {
        "id": "FR2jhtgLpxv0",
        "colab": {
          "base_uri": "https://localhost:8080/",
          "height": 74
        },
        "outputId": "c66f3c33-b04b-4115-de21-5a1c047b455a"
      },
      "execution_count": 38,
      "outputs": [
        {
          "output_type": "execute_result",
          "data": {
            "text/plain": [
              "KNeighborsRegressor(n_neighbors=3)"
            ],
            "text/html": [
              "<style>#sk-container-id-3 {color: black;background-color: white;}#sk-container-id-3 pre{padding: 0;}#sk-container-id-3 div.sk-toggleable {background-color: white;}#sk-container-id-3 label.sk-toggleable__label {cursor: pointer;display: block;width: 100%;margin-bottom: 0;padding: 0.3em;box-sizing: border-box;text-align: center;}#sk-container-id-3 label.sk-toggleable__label-arrow:before {content: \"▸\";float: left;margin-right: 0.25em;color: #696969;}#sk-container-id-3 label.sk-toggleable__label-arrow:hover:before {color: black;}#sk-container-id-3 div.sk-estimator:hover label.sk-toggleable__label-arrow:before {color: black;}#sk-container-id-3 div.sk-toggleable__content {max-height: 0;max-width: 0;overflow: hidden;text-align: left;background-color: #f0f8ff;}#sk-container-id-3 div.sk-toggleable__content pre {margin: 0.2em;color: black;border-radius: 0.25em;background-color: #f0f8ff;}#sk-container-id-3 input.sk-toggleable__control:checked~div.sk-toggleable__content {max-height: 200px;max-width: 100%;overflow: auto;}#sk-container-id-3 input.sk-toggleable__control:checked~label.sk-toggleable__label-arrow:before {content: \"▾\";}#sk-container-id-3 div.sk-estimator input.sk-toggleable__control:checked~label.sk-toggleable__label {background-color: #d4ebff;}#sk-container-id-3 div.sk-label input.sk-toggleable__control:checked~label.sk-toggleable__label {background-color: #d4ebff;}#sk-container-id-3 input.sk-hidden--visually {border: 0;clip: rect(1px 1px 1px 1px);clip: rect(1px, 1px, 1px, 1px);height: 1px;margin: -1px;overflow: hidden;padding: 0;position: absolute;width: 1px;}#sk-container-id-3 div.sk-estimator {font-family: monospace;background-color: #f0f8ff;border: 1px dotted black;border-radius: 0.25em;box-sizing: border-box;margin-bottom: 0.5em;}#sk-container-id-3 div.sk-estimator:hover {background-color: #d4ebff;}#sk-container-id-3 div.sk-parallel-item::after {content: \"\";width: 100%;border-bottom: 1px solid gray;flex-grow: 1;}#sk-container-id-3 div.sk-label:hover label.sk-toggleable__label {background-color: #d4ebff;}#sk-container-id-3 div.sk-serial::before {content: \"\";position: absolute;border-left: 1px solid gray;box-sizing: border-box;top: 0;bottom: 0;left: 50%;z-index: 0;}#sk-container-id-3 div.sk-serial {display: flex;flex-direction: column;align-items: center;background-color: white;padding-right: 0.2em;padding-left: 0.2em;position: relative;}#sk-container-id-3 div.sk-item {position: relative;z-index: 1;}#sk-container-id-3 div.sk-parallel {display: flex;align-items: stretch;justify-content: center;background-color: white;position: relative;}#sk-container-id-3 div.sk-item::before, #sk-container-id-3 div.sk-parallel-item::before {content: \"\";position: absolute;border-left: 1px solid gray;box-sizing: border-box;top: 0;bottom: 0;left: 50%;z-index: -1;}#sk-container-id-3 div.sk-parallel-item {display: flex;flex-direction: column;z-index: 1;position: relative;background-color: white;}#sk-container-id-3 div.sk-parallel-item:first-child::after {align-self: flex-end;width: 50%;}#sk-container-id-3 div.sk-parallel-item:last-child::after {align-self: flex-start;width: 50%;}#sk-container-id-3 div.sk-parallel-item:only-child::after {width: 0;}#sk-container-id-3 div.sk-dashed-wrapped {border: 1px dashed gray;margin: 0 0.4em 0.5em 0.4em;box-sizing: border-box;padding-bottom: 0.4em;background-color: white;}#sk-container-id-3 div.sk-label label {font-family: monospace;font-weight: bold;display: inline-block;line-height: 1.2em;}#sk-container-id-3 div.sk-label-container {text-align: center;}#sk-container-id-3 div.sk-container {/* jupyter's `normalize.less` sets `[hidden] { display: none; }` but bootstrap.min.css set `[hidden] { display: none !important; }` so we also need the `!important` here to be able to override the default hidden behavior on the sphinx rendered scikit-learn.org. See: https://github.com/scikit-learn/scikit-learn/issues/21755 */display: inline-block !important;position: relative;}#sk-container-id-3 div.sk-text-repr-fallback {display: none;}</style><div id=\"sk-container-id-3\" class=\"sk-top-container\"><div class=\"sk-text-repr-fallback\"><pre>KNeighborsRegressor(n_neighbors=3)</pre><b>In a Jupyter environment, please rerun this cell to show the HTML representation or trust the notebook. <br />On GitHub, the HTML representation is unable to render, please try loading this page with nbviewer.org.</b></div><div class=\"sk-container\" hidden><div class=\"sk-item\"><div class=\"sk-estimator sk-toggleable\"><input class=\"sk-toggleable__control sk-hidden--visually\" id=\"sk-estimator-id-3\" type=\"checkbox\" checked><label for=\"sk-estimator-id-3\" class=\"sk-toggleable__label sk-toggleable__label-arrow\">KNeighborsRegressor</label><div class=\"sk-toggleable__content\"><pre>KNeighborsRegressor(n_neighbors=3)</pre></div></div></div></div></div>"
            ]
          },
          "metadata": {},
          "execution_count": 38
        }
      ]
    },
    {
      "cell_type": "code",
      "source": [
        "y_pred = knn.predict(x_test)"
      ],
      "metadata": {
        "id": "O1jnWCXYp2Va"
      },
      "execution_count": 39,
      "outputs": []
    },
    {
      "cell_type": "code",
      "source": [
        "mae = mean_absolute_error(y_test, y_pred)\n",
        "print(\"Mean Absolute Error:\", mae)"
      ],
      "metadata": {
        "id": "kq1zbsAnp3II",
        "colab": {
          "base_uri": "https://localhost:8080/",
          "height": 0
        },
        "outputId": "07565bd4-584a-4985-e9e7-5615197f8330"
      },
      "execution_count": 40,
      "outputs": [
        {
          "output_type": "stream",
          "name": "stdout",
          "text": [
            "Mean Absolute Error: 50.94470284237724\n"
          ]
        }
      ]
    },
    {
      "cell_type": "code",
      "source": [
        "mse = mean_squared_error(y_test, y_pred)\n",
        "print(\"Mean Squared Error:\", mse)"
      ],
      "metadata": {
        "id": "fAj4wcAbp6Rh",
        "colab": {
          "base_uri": "https://localhost:8080/",
          "height": 0
        },
        "outputId": "0f4d2c04-0d85-4515-baaf-60573431dff8"
      },
      "execution_count": 41,
      "outputs": [
        {
          "output_type": "stream",
          "name": "stdout",
          "text": [
            "Mean Squared Error: 7804.861584840647\n"
          ]
        }
      ]
    },
    {
      "cell_type": "code",
      "source": [
        "from sklearn.metrics import mean_squared_error\n",
        "print(mean_squared_error(yp,y_test))"
      ],
      "metadata": {
        "id": "3weG68gRqCIE",
        "colab": {
          "base_uri": "https://localhost:8080/",
          "height": 0
        },
        "outputId": "ead74067-aa50-4519-f4cd-9b835daf1cb7"
      },
      "execution_count": 42,
      "outputs": [
        {
          "output_type": "stream",
          "name": "stdout",
          "text": [
            "18154.314263565895\n"
          ]
        }
      ]
    },
    {
      "cell_type": "code",
      "source": [
        "from sklearn.metrics import mean_absolute_error\n",
        "print(mean_absolute_error(yp,y_test))"
      ],
      "metadata": {
        "id": "5LS4in5vqErn",
        "colab": {
          "base_uri": "https://localhost:8080/",
          "height": 0
        },
        "outputId": "c931b712-f3d9-4b24-89a8-a2faa49fea25"
      },
      "execution_count": 43,
      "outputs": [
        {
          "output_type": "stream",
          "name": "stdout",
          "text": [
            "72.33333333333333\n"
          ]
        }
      ]
    },
    {
      "cell_type": "markdown",
      "source": [
        "**RANDOM FOREST**"
      ],
      "metadata": {
        "id": "zBIvGVr2DYAx"
      }
    },
    {
      "cell_type": "code",
      "source": [
        "# Import necessary libraries\n",
        "import pandas as pd\n",
        "from sklearn.model_selection import train_test_split\n",
        "from sklearn.ensemble import RandomForestRegressor\n",
        "from sklearn.metrics import mean_squared_error, r2_score\n",
        "\n",
        "# Load your rainfall dataset (replace with your actual data)\n",
        "# For example, you can use the Austin, Texas weather dataset from Kaggle\n",
        "# Read the data into a Pandas DataFrame\n",
        "data = pd.read_csv('district.csv')\n",
        "\n",
        "print(f\"Random Forest Model Performance:\")\n",
        "print(f\"MSE: {mse:.2f}\")\n",
        "print(f\"MAE: {mae:.2f}\")\n"
      ],
      "metadata": {
        "colab": {
          "base_uri": "https://localhost:8080/",
          "height": 0
        },
        "id": "kMDnorMnA8aC",
        "outputId": "ddc683c1-a434-41d8-8f21-60a07aa9393a"
      },
      "execution_count": 44,
      "outputs": [
        {
          "output_type": "stream",
          "name": "stdout",
          "text": [
            "Random Forest Model Performance:\n",
            "MSE: 7804.86\n",
            "MAE: 50.94\n"
          ]
        }
      ]
    }
  ]
}